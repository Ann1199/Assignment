{
  "nbformat": 4,
  "nbformat_minor": 0,
  "metadata": {
    "colab": {
      "provenance": []
    },
    "kernelspec": {
      "name": "python3",
      "display_name": "Python 3"
    },
    "language_info": {
      "name": "python"
    }
  },
  "cells": [
    {
      "cell_type": "code",
      "execution_count": 2,
      "metadata": {
        "id": "63il6ilg1lD-"
      },
      "outputs": [],
      "source": [
        "import numpy as np\n",
        "import pandas as pd\n",
        "import seaborn as sns\n",
        "import matplotlib.pyplot as plt"
      ]
    },
    {
      "cell_type": "code",
      "source": [
        "data=pd.read_csv('/content/Wine_clust.csv')"
      ],
      "metadata": {
        "id": "mFsrYAJF2AHr"
      },
      "execution_count": 3,
      "outputs": []
    },
    {
      "cell_type": "code",
      "source": [
        "data.head()"
      ],
      "metadata": {
        "id": "FKYQI4ZQ2SE7",
        "colab": {
          "base_uri": "https://localhost:8080/",
          "height": 250
        },
        "outputId": "f5c8f9f0-b60c-4e6a-f78d-56e4b5777db1"
      },
      "execution_count": 4,
      "outputs": [
        {
          "output_type": "execute_result",
          "data": {
            "text/plain": [
              "   Alcohol  Malic_Acid   Ash  Ash_Alcanity  Magnesium  Total_Phenols  \\\n",
              "0    14.23        1.71  2.43          15.6        127           2.80   \n",
              "1    13.20        1.78  2.14          11.2        100           2.65   \n",
              "2    13.16        2.36  2.67          18.6        101           2.80   \n",
              "3    14.37        1.95  2.50          16.8        113           3.85   \n",
              "4    13.24        2.59  2.87          21.0        118           2.80   \n",
              "\n",
              "   Flavanoids  Nonflavanoid_Phenols  Proanthocyanins  Color_Intensity   Hue  \\\n",
              "0        3.06                  0.28             2.29             5.64  1.04   \n",
              "1        2.76                  0.26             1.28             4.38  1.05   \n",
              "2        3.24                  0.30             2.81             5.68  1.03   \n",
              "3        3.49                  0.24             2.18             7.80  0.86   \n",
              "4        2.69                  0.39             1.82             4.32  1.04   \n",
              "\n",
              "   OD280  Proline  \n",
              "0   3.92     1065  \n",
              "1   3.40     1050  \n",
              "2   3.17     1185  \n",
              "3   3.45     1480  \n",
              "4   2.93      735  "
            ],
            "text/html": [
              "\n",
              "  <div id=\"df-4b79d9ad-52d6-420e-aa98-b1b62811c32d\">\n",
              "    <div class=\"colab-df-container\">\n",
              "      <div>\n",
              "<style scoped>\n",
              "    .dataframe tbody tr th:only-of-type {\n",
              "        vertical-align: middle;\n",
              "    }\n",
              "\n",
              "    .dataframe tbody tr th {\n",
              "        vertical-align: top;\n",
              "    }\n",
              "\n",
              "    .dataframe thead th {\n",
              "        text-align: right;\n",
              "    }\n",
              "</style>\n",
              "<table border=\"1\" class=\"dataframe\">\n",
              "  <thead>\n",
              "    <tr style=\"text-align: right;\">\n",
              "      <th></th>\n",
              "      <th>Alcohol</th>\n",
              "      <th>Malic_Acid</th>\n",
              "      <th>Ash</th>\n",
              "      <th>Ash_Alcanity</th>\n",
              "      <th>Magnesium</th>\n",
              "      <th>Total_Phenols</th>\n",
              "      <th>Flavanoids</th>\n",
              "      <th>Nonflavanoid_Phenols</th>\n",
              "      <th>Proanthocyanins</th>\n",
              "      <th>Color_Intensity</th>\n",
              "      <th>Hue</th>\n",
              "      <th>OD280</th>\n",
              "      <th>Proline</th>\n",
              "    </tr>\n",
              "  </thead>\n",
              "  <tbody>\n",
              "    <tr>\n",
              "      <th>0</th>\n",
              "      <td>14.23</td>\n",
              "      <td>1.71</td>\n",
              "      <td>2.43</td>\n",
              "      <td>15.6</td>\n",
              "      <td>127</td>\n",
              "      <td>2.80</td>\n",
              "      <td>3.06</td>\n",
              "      <td>0.28</td>\n",
              "      <td>2.29</td>\n",
              "      <td>5.64</td>\n",
              "      <td>1.04</td>\n",
              "      <td>3.92</td>\n",
              "      <td>1065</td>\n",
              "    </tr>\n",
              "    <tr>\n",
              "      <th>1</th>\n",
              "      <td>13.20</td>\n",
              "      <td>1.78</td>\n",
              "      <td>2.14</td>\n",
              "      <td>11.2</td>\n",
              "      <td>100</td>\n",
              "      <td>2.65</td>\n",
              "      <td>2.76</td>\n",
              "      <td>0.26</td>\n",
              "      <td>1.28</td>\n",
              "      <td>4.38</td>\n",
              "      <td>1.05</td>\n",
              "      <td>3.40</td>\n",
              "      <td>1050</td>\n",
              "    </tr>\n",
              "    <tr>\n",
              "      <th>2</th>\n",
              "      <td>13.16</td>\n",
              "      <td>2.36</td>\n",
              "      <td>2.67</td>\n",
              "      <td>18.6</td>\n",
              "      <td>101</td>\n",
              "      <td>2.80</td>\n",
              "      <td>3.24</td>\n",
              "      <td>0.30</td>\n",
              "      <td>2.81</td>\n",
              "      <td>5.68</td>\n",
              "      <td>1.03</td>\n",
              "      <td>3.17</td>\n",
              "      <td>1185</td>\n",
              "    </tr>\n",
              "    <tr>\n",
              "      <th>3</th>\n",
              "      <td>14.37</td>\n",
              "      <td>1.95</td>\n",
              "      <td>2.50</td>\n",
              "      <td>16.8</td>\n",
              "      <td>113</td>\n",
              "      <td>3.85</td>\n",
              "      <td>3.49</td>\n",
              "      <td>0.24</td>\n",
              "      <td>2.18</td>\n",
              "      <td>7.80</td>\n",
              "      <td>0.86</td>\n",
              "      <td>3.45</td>\n",
              "      <td>1480</td>\n",
              "    </tr>\n",
              "    <tr>\n",
              "      <th>4</th>\n",
              "      <td>13.24</td>\n",
              "      <td>2.59</td>\n",
              "      <td>2.87</td>\n",
              "      <td>21.0</td>\n",
              "      <td>118</td>\n",
              "      <td>2.80</td>\n",
              "      <td>2.69</td>\n",
              "      <td>0.39</td>\n",
              "      <td>1.82</td>\n",
              "      <td>4.32</td>\n",
              "      <td>1.04</td>\n",
              "      <td>2.93</td>\n",
              "      <td>735</td>\n",
              "    </tr>\n",
              "  </tbody>\n",
              "</table>\n",
              "</div>\n",
              "      <button class=\"colab-df-convert\" onclick=\"convertToInteractive('df-4b79d9ad-52d6-420e-aa98-b1b62811c32d')\"\n",
              "              title=\"Convert this dataframe to an interactive table.\"\n",
              "              style=\"display:none;\">\n",
              "        \n",
              "  <svg xmlns=\"http://www.w3.org/2000/svg\" height=\"24px\"viewBox=\"0 0 24 24\"\n",
              "       width=\"24px\">\n",
              "    <path d=\"M0 0h24v24H0V0z\" fill=\"none\"/>\n",
              "    <path d=\"M18.56 5.44l.94 2.06.94-2.06 2.06-.94-2.06-.94-.94-2.06-.94 2.06-2.06.94zm-11 1L8.5 8.5l.94-2.06 2.06-.94-2.06-.94L8.5 2.5l-.94 2.06-2.06.94zm10 10l.94 2.06.94-2.06 2.06-.94-2.06-.94-.94-2.06-.94 2.06-2.06.94z\"/><path d=\"M17.41 7.96l-1.37-1.37c-.4-.4-.92-.59-1.43-.59-.52 0-1.04.2-1.43.59L10.3 9.45l-7.72 7.72c-.78.78-.78 2.05 0 2.83L4 21.41c.39.39.9.59 1.41.59.51 0 1.02-.2 1.41-.59l7.78-7.78 2.81-2.81c.8-.78.8-2.07 0-2.86zM5.41 20L4 18.59l7.72-7.72 1.47 1.35L5.41 20z\"/>\n",
              "  </svg>\n",
              "      </button>\n",
              "      \n",
              "  <style>\n",
              "    .colab-df-container {\n",
              "      display:flex;\n",
              "      flex-wrap:wrap;\n",
              "      gap: 12px;\n",
              "    }\n",
              "\n",
              "    .colab-df-convert {\n",
              "      background-color: #E8F0FE;\n",
              "      border: none;\n",
              "      border-radius: 50%;\n",
              "      cursor: pointer;\n",
              "      display: none;\n",
              "      fill: #1967D2;\n",
              "      height: 32px;\n",
              "      padding: 0 0 0 0;\n",
              "      width: 32px;\n",
              "    }\n",
              "\n",
              "    .colab-df-convert:hover {\n",
              "      background-color: #E2EBFA;\n",
              "      box-shadow: 0px 1px 2px rgba(60, 64, 67, 0.3), 0px 1px 3px 1px rgba(60, 64, 67, 0.15);\n",
              "      fill: #174EA6;\n",
              "    }\n",
              "\n",
              "    [theme=dark] .colab-df-convert {\n",
              "      background-color: #3B4455;\n",
              "      fill: #D2E3FC;\n",
              "    }\n",
              "\n",
              "    [theme=dark] .colab-df-convert:hover {\n",
              "      background-color: #434B5C;\n",
              "      box-shadow: 0px 1px 3px 1px rgba(0, 0, 0, 0.15);\n",
              "      filter: drop-shadow(0px 1px 2px rgba(0, 0, 0, 0.3));\n",
              "      fill: #FFFFFF;\n",
              "    }\n",
              "  </style>\n",
              "\n",
              "      <script>\n",
              "        const buttonEl =\n",
              "          document.querySelector('#df-4b79d9ad-52d6-420e-aa98-b1b62811c32d button.colab-df-convert');\n",
              "        buttonEl.style.display =\n",
              "          google.colab.kernel.accessAllowed ? 'block' : 'none';\n",
              "\n",
              "        async function convertToInteractive(key) {\n",
              "          const element = document.querySelector('#df-4b79d9ad-52d6-420e-aa98-b1b62811c32d');\n",
              "          const dataTable =\n",
              "            await google.colab.kernel.invokeFunction('convertToInteractive',\n",
              "                                                     [key], {});\n",
              "          if (!dataTable) return;\n",
              "\n",
              "          const docLinkHtml = 'Like what you see? Visit the ' +\n",
              "            '<a target=\"_blank\" href=https://colab.research.google.com/notebooks/data_table.ipynb>data table notebook</a>'\n",
              "            + ' to learn more about interactive tables.';\n",
              "          element.innerHTML = '';\n",
              "          dataTable['output_type'] = 'display_data';\n",
              "          await google.colab.output.renderOutput(dataTable, element);\n",
              "          const docLink = document.createElement('div');\n",
              "          docLink.innerHTML = docLinkHtml;\n",
              "          element.appendChild(docLink);\n",
              "        }\n",
              "      </script>\n",
              "    </div>\n",
              "  </div>\n",
              "  "
            ]
          },
          "metadata": {},
          "execution_count": 4
        }
      ]
    },
    {
      "cell_type": "code",
      "source": [
        "data.isna().sum()"
      ],
      "metadata": {
        "id": "C98IGMoR2UJy",
        "colab": {
          "base_uri": "https://localhost:8080/"
        },
        "outputId": "c04fd18b-4fdc-4f7a-adcc-95cc8f9761cb"
      },
      "execution_count": 5,
      "outputs": [
        {
          "output_type": "execute_result",
          "data": {
            "text/plain": [
              "Alcohol                 0\n",
              "Malic_Acid              0\n",
              "Ash                     0\n",
              "Ash_Alcanity            0\n",
              "Magnesium               0\n",
              "Total_Phenols           0\n",
              "Flavanoids              0\n",
              "Nonflavanoid_Phenols    0\n",
              "Proanthocyanins         0\n",
              "Color_Intensity         0\n",
              "Hue                     0\n",
              "OD280                   0\n",
              "Proline                 0\n",
              "dtype: int64"
            ]
          },
          "metadata": {},
          "execution_count": 5
        }
      ]
    },
    {
      "cell_type": "markdown",
      "source": [
        "**K Means Clustering**"
      ],
      "metadata": {
        "id": "XRhalFD039eq"
      }
    },
    {
      "cell_type": "code",
      "source": [
        "from sklearn.cluster import KMeans"
      ],
      "metadata": {
        "id": "FCLImz-436Xi"
      },
      "execution_count": 6,
      "outputs": []
    },
    {
      "cell_type": "code",
      "source": [
        "WCSS = []\n",
        "for i in range (1,13):\n",
        "  kmeans=KMeans(n_clusters=i,init='k-means++', random_state=42)\n",
        "  kmeans.fit(data)\n",
        "  WCSS.append(kmeans.inertia_)\n",
        "plt.plot(range(1,13),WCSS)\n",
        "plt.title('The elbow method')\n",
        "plt.xlabel('No. of clusters')\n",
        "plt.ylabel('WCSS value')\n",
        "plt.show()"
      ],
      "metadata": {
        "colab": {
          "base_uri": "https://localhost:8080/",
          "height": 295
        },
        "id": "9QA_fwv0MhLF",
        "outputId": "20ac0be7-7afa-4310-f6e1-fb82a65a4f1a"
      },
      "execution_count": 8,
      "outputs": [
        {
          "output_type": "display_data",
          "data": {
            "text/plain": [
              "<Figure size 432x288 with 1 Axes>"
            ],
            "image/png": "[encoded data removed]"
          },
          "metadata": {
            "needs_background": "light"
          }
        }
      ]
    },
    {
      "cell_type": "code",
      "source": [
        "## The optimum number of clusters, k=2"
      ],
      "metadata": {
        "id": "WWOIgNqfMm52"
      },
      "execution_count": 9,
      "outputs": []
    },
    {
      "cell_type": "code",
      "source": [
        "data.columns"
      ],
      "metadata": {
        "colab": {
          "base_uri": "https://localhost:8080/"
        },
        "id": "JqL70oEKMz8s",
        "outputId": "d4ad3178-1b5b-42ef-a790-924993e5cde4"
      },
      "execution_count": 10,
      "outputs": [
        {
          "output_type": "execute_result",
          "data": {
            "text/plain": [
              "Index(['Alcohol', 'Malic_Acid', 'Ash', 'Ash_Alcanity', 'Magnesium',\n",
              "       'Total_Phenols', 'Flavanoids', 'Nonflavanoid_Phenols',\n",
              "       'Proanthocyanins', 'Color_Intensity', 'Hue', 'OD280', 'Proline'],\n",
              "      dtype='object')"
            ]
          },
          "metadata": {},
          "execution_count": 10
        }
      ]
    },
    {
      "cell_type": "code",
      "source": [
        "data1=data.iloc[:,[10,12]]"
      ],
      "metadata": {
        "id": "qXUgrRnpMtJX"
      },
      "execution_count": 11,
      "outputs": []
    },
    {
      "cell_type": "code",
      "source": [
        "data1"
      ],
      "metadata": {
        "colab": {
          "base_uri": "https://localhost:8080/",
          "height": 424
        },
        "id": "ohLNhoV-M6B1",
        "outputId": "90be530e-9a2d-4eb9-b274-4c6fa70dc808"
      },
      "execution_count": 12,
      "outputs": [
        {
          "output_type": "execute_result",
          "data": {
            "text/plain": [
              "      Hue  Proline\n",
              "0    1.04     1065\n",
              "1    1.05     1050\n",
              "2    1.03     1185\n",
              "3    0.86     1480\n",
              "4    1.04      735\n",
              "..    ...      ...\n",
              "173  0.64      740\n",
              "174  0.70      750\n",
              "175  0.59      835\n",
              "176  0.60      840\n",
              "177  0.61      560\n",
              "\n",
              "[178 rows x 2 columns]"
            ],
            "text/html": [
              "\n",
              "  <div id=\"df-9fe0fb1a-77df-45dc-8a9c-6610721c9902\">\n",
              "    <div class=\"colab-df-container\">\n",
              "      <div>\n",
              "<style scoped>\n",
              "    .dataframe tbody tr th:only-of-type {\n",
              "        vertical-align: middle;\n",
              "    }\n",
              "\n",
              "    .dataframe tbody tr th {\n",
              "        vertical-align: top;\n",
              "    }\n",
              "\n",
              "    .dataframe thead th {\n",
              "        text-align: right;\n",
              "    }\n",
              "</style>\n",
              "<table border=\"1\" class=\"dataframe\">\n",
              "  <thead>\n",
              "    <tr style=\"text-align: right;\">\n",
              "      <th></th>\n",
              "      <th>Hue</th>\n",
              "      <th>Proline</th>\n",
              "    </tr>\n",
              "  </thead>\n",
              "  <tbody>\n",
              "    <tr>\n",
              "      <th>0</th>\n",
              "      <td>1.04</td>\n",
              "      <td>1065</td>\n",
              "    </tr>\n",
              "    <tr>\n",
              "      <th>1</th>\n",
              "      <td>1.05</td>\n",
              "      <td>1050</td>\n",
              "    </tr>\n",
              "    <tr>\n",
              "      <th>2</th>\n",
              "      <td>1.03</td>\n",
              "      <td>1185</td>\n",
              "    </tr>\n",
              "    <tr>\n",
              "      <th>3</th>\n",
              "      <td>0.86</td>\n",
              "      <td>1480</td>\n",
              "    </tr>\n",
              "    <tr>\n",
              "      <th>4</th>\n",
              "      <td>1.04</td>\n",
              "      <td>735</td>\n",
              "    </tr>\n",
              "    <tr>\n",
              "      <th>...</th>\n",
              "      <td>...</td>\n",
              "      <td>...</td>\n",
              "    </tr>\n",
              "    <tr>\n",
              "      <th>173</th>\n",
              "      <td>0.64</td>\n",
              "      <td>740</td>\n",
              "    </tr>\n",
              "    <tr>\n",
              "      <th>174</th>\n",
              "      <td>0.70</td>\n",
              "      <td>750</td>\n",
              "    </tr>\n",
              "    <tr>\n",
              "      <th>175</th>\n",
              "      <td>0.59</td>\n",
              "      <td>835</td>\n",
              "    </tr>\n",
              "    <tr>\n",
              "      <th>176</th>\n",
              "      <td>0.60</td>\n",
              "      <td>840</td>\n",
              "    </tr>\n",
              "    <tr>\n",
              "      <th>177</th>\n",
              "      <td>0.61</td>\n",
              "      <td>560</td>\n",
              "    </tr>\n",
              "  </tbody>\n",
              "</table>\n",
              "<p>178 rows × 2 columns</p>\n",
              "</div>\n",
              "      <button class=\"colab-df-convert\" onclick=\"convertToInteractive('df-9fe0fb1a-77df-45dc-8a9c-6610721c9902')\"\n",
              "              title=\"Convert this dataframe to an interactive table.\"\n",
              "              style=\"display:none;\">\n",
              "        \n",
              "  <svg xmlns=\"http://www.w3.org/2000/svg\" height=\"24px\"viewBox=\"0 0 24 24\"\n",
              "       width=\"24px\">\n",
              "    <path d=\"M0 0h24v24H0V0z\" fill=\"none\"/>\n",
              "    <path d=\"M18.56 5.44l.94 2.06.94-2.06 2.06-.94-2.06-.94-.94-2.06-.94 2.06-2.06.94zm-11 1L8.5 8.5l.94-2.06 2.06-.94-2.06-.94L8.5 2.5l-.94 2.06-2.06.94zm10 10l.94 2.06.94-2.06 2.06-.94-2.06-.94-.94-2.06-.94 2.06-2.06.94z\"/><path d=\"M17.41 7.96l-1.37-1.37c-.4-.4-.92-.59-1.43-.59-.52 0-1.04.2-1.43.59L10.3 9.45l-7.72 7.72c-.78.78-.78 2.05 0 2.83L4 21.41c.39.39.9.59 1.41.59.51 0 1.02-.2 1.41-.59l7.78-7.78 2.81-2.81c.8-.78.8-2.07 0-2.86zM5.41 20L4 18.59l7.72-7.72 1.47 1.35L5.41 20z\"/>\n",
              "  </svg>\n",
              "      </button>\n",
              "      \n",
              "  <style>\n",
              "    .colab-df-container {\n",
              "      display:flex;\n",
              "      flex-wrap:wrap;\n",
              "      gap: 12px;\n",
              "    }\n",
              "\n",
              "    .colab-df-convert {\n",
              "      background-color: #E8F0FE;\n",
              "      border: none;\n",
              "      border-radius: 50%;\n",
              "      cursor: pointer;\n",
              "      display: none;\n",
              "      fill: #1967D2;\n",
              "      height: 32px;\n",
              "      padding: 0 0 0 0;\n",
              "      width: 32px;\n",
              "    }\n",
              "\n",
              "    .colab-df-convert:hover {\n",
              "      background-color: #E2EBFA;\n",
              "      box-shadow: 0px 1px 2px rgba(60, 64, 67, 0.3), 0px 1px 3px 1px rgba(60, 64, 67, 0.15);\n",
              "      fill: #174EA6;\n",
              "    }\n",
              "\n",
              "    [theme=dark] .colab-df-convert {\n",
              "      background-color: #3B4455;\n",
              "      fill: #D2E3FC;\n",
              "    }\n",
              "\n",
              "    [theme=dark] .colab-df-convert:hover {\n",
              "      background-color: #434B5C;\n",
              "      box-shadow: 0px 1px 3px 1px rgba(0, 0, 0, 0.15);\n",
              "      filter: drop-shadow(0px 1px 2px rgba(0, 0, 0, 0.3));\n",
              "      fill: #FFFFFF;\n",
              "    }\n",
              "  </style>\n",
              "\n",
              "      <script>\n",
              "        const buttonEl =\n",
              "          document.querySelector('#df-9fe0fb1a-77df-45dc-8a9c-6610721c9902 button.colab-df-convert');\n",
              "        buttonEl.style.display =\n",
              "          google.colab.kernel.accessAllowed ? 'block' : 'none';\n",
              "\n",
              "        async function convertToInteractive(key) {\n",
              "          const element = document.querySelector('#df-9fe0fb1a-77df-45dc-8a9c-6610721c9902');\n",
              "          const dataTable =\n",
              "            await google.colab.kernel.invokeFunction('convertToInteractive',\n",
              "                                                     [key], {});\n",
              "          if (!dataTable) return;\n",
              "\n",
              "          const docLinkHtml = 'Like what you see? Visit the ' +\n",
              "            '<a target=\"_blank\" href=https://colab.research.google.com/notebooks/data_table.ipynb>data table notebook</a>'\n",
              "            + ' to learn more about interactive tables.';\n",
              "          element.innerHTML = '';\n",
              "          dataTable['output_type'] = 'display_data';\n",
              "          await google.colab.output.renderOutput(dataTable, element);\n",
              "          const docLink = document.createElement('div');\n",
              "          docLink.innerHTML = docLinkHtml;\n",
              "          element.appendChild(docLink);\n",
              "        }\n",
              "      </script>\n",
              "    </div>\n",
              "  </div>\n",
              "  "
            ]
          },
          "metadata": {},
          "execution_count": 12
        }
      ]
    },
    {
      "cell_type": "code",
      "source": [
        "type(data1)"
      ],
      "metadata": {
        "colab": {
          "base_uri": "https://localhost:8080/"
        },
        "id": "zgscnYn2OUIz",
        "outputId": "30892f69-b877-46e5-f943-79bef8d19a14"
      },
      "execution_count": 13,
      "outputs": [
        {
          "output_type": "execute_result",
          "data": {
            "text/plain": [
              "pandas.core.frame.DataFrame"
            ]
          },
          "metadata": {},
          "execution_count": 13
        }
      ]
    },
    {
      "cell_type": "code",
      "source": [
        "data1=pd.DataFrame.to_numpy(data1)"
      ],
      "metadata": {
        "id": "0zUfEhCxOZNA"
      },
      "execution_count": 14,
      "outputs": []
    },
    {
      "cell_type": "code",
      "source": [
        "kmeans=KMeans(n_clusters=2,init='k-means++', random_state=42)\n",
        "y_kmeans=kmeans.fit_predict(data1)"
      ],
      "metadata": {
        "id": "rPqYrsmDM7jE"
      },
      "execution_count": 15,
      "outputs": []
    },
    {
      "cell_type": "code",
      "source": [
        "y_kmeans"
      ],
      "metadata": {
        "colab": {
          "base_uri": "https://localhost:8080/"
        },
        "id": "rOve09HCNINf",
        "outputId": "484fc802-d14b-4f7b-816f-8d0e6ed1926e"
      },
      "execution_count": 16,
      "outputs": [
        {
          "output_type": "execute_result",
          "data": {
            "text/plain": [
              "array([1, 1, 1, 1, 0, 1, 1, 1, 1, 1, 1, 1, 1, 1, 1, 1, 1, 1, 1, 0, 0, 0,\n",
              "       1, 1, 0, 0, 1, 1, 1, 1, 1, 1, 1, 1, 1, 1, 1, 1, 1, 0, 0, 1, 1, 0,\n",
              "       1, 1, 1, 1, 1, 1, 1, 1, 1, 1, 1, 1, 1, 1, 1, 0, 0, 0, 0, 0, 0, 0,\n",
              "       0, 0, 0, 0, 1, 0, 0, 1, 1, 0, 0, 0, 0, 0, 0, 0, 0, 0, 0, 0, 0, 0,\n",
              "       0, 0, 0, 0, 0, 0, 0, 1, 0, 0, 0, 0, 0, 0, 0, 0, 0, 0, 0, 0, 0, 0,\n",
              "       0, 0, 0, 0, 0, 0, 0, 0, 0, 0, 0, 0, 0, 0, 0, 0, 0, 0, 0, 0, 0, 0,\n",
              "       0, 0, 0, 0, 0, 0, 0, 0, 0, 0, 0, 0, 0, 0, 0, 0, 0, 0, 0, 0, 0, 0,\n",
              "       0, 0, 0, 1, 0, 0, 0, 0, 0, 0, 0, 0, 0, 0, 0, 0, 0, 0, 0, 0, 0, 0,\n",
              "       0, 0], dtype=int32)"
            ]
          },
          "metadata": {},
          "execution_count": 16
        }
      ]
    },
    {
      "cell_type": "code",
      "source": [
        "plt.scatter(data1[y_kmeans == 0,0], data1[y_kmeans == 0,1], s=100, c='red', label='cluster1')\n",
        "plt.scatter(data1[y_kmeans==1,0],data1[y_kmeans==1,1],s=100,c='blue',label='cluster2')\n",
        "\n",
        "plt.title('Clusters of Wine')\n",
        "plt.xlabel('Hue')\n",
        "plt.ylabel('Proline')\n",
        "plt.legend()\n",
        "plt.show()"
      ],
      "metadata": {
        "colab": {
          "base_uri": "https://localhost:8080/",
          "height": 295
        },
        "id": "9Hlexq1INLbi",
        "outputId": "c3b9872a-97c0-4ebd-a521-ffb69ef7e703"
      },
      "execution_count": 17,
      "outputs": [
        {
          "output_type": "display_data",
          "data": {
            "text/plain": [
              "<Figure size 432x288 with 1 Axes>"
            ],
            "image/png": "[encoded data removed]"
          },
          "metadata": {
            "needs_background": "light"
          }
        }
      ]
    },
    {
      "cell_type": "markdown",
      "source": [
        "Dendrograms"
      ],
      "metadata": {
        "id": "Vcuk3PdNPg_2"
      }
    },
    {
      "cell_type": "code",
      "source": [
        "import scipy.cluster.hierarchy as sch"
      ],
      "metadata": {
        "id": "UDZ4Lo9JSDSS"
      },
      "execution_count": 18,
      "outputs": []
    },
    {
      "cell_type": "code",
      "source": [
        "dendrogram=sch.dendrogram(sch.linkage(data1,method='ward'))\n",
        "plt.title('Dendrogram')\n",
        "plt.xlabel('Data points')\n",
        "plt.ylabel('Eucledian distance')\n",
        "plt.show()"
      ],
      "metadata": {
        "colab": {
          "base_uri": "https://localhost:8080/",
          "height": 295
        },
        "id": "BntTAXNISIT0",
        "outputId": "9e505fa4-aa8b-4705-c0ea-cb43660874f5"
      },
      "execution_count": 19,
      "outputs": [
        {
          "output_type": "display_data",
          "data": {
            "text/plain": [
              "<Figure size 432x288 with 1 Axes>"
            ],
            "image/png": "[encoded data removed]"
          },
          "metadata": {
            "needs_background": "light"
          }
        }
      ]
    },
    {
      "cell_type": "code",
      "source": [
        "##Optimum number of clusters=2"
      ],
      "metadata": {
        "id": "Qtrh3bGtSTJs"
      },
      "execution_count": 20,
      "outputs": []
    },
    {
      "cell_type": "markdown",
      "source": [
        "Agglomerative Hierarchial Clustering"
      ],
      "metadata": {
        "id": "XC2nG633PHJG"
      }
    },
    {
      "cell_type": "code",
      "source": [
        "from sklearn.cluster import AgglomerativeClustering"
      ],
      "metadata": {
        "id": "oI3CungrNoIj"
      },
      "execution_count": 21,
      "outputs": []
    },
    {
      "cell_type": "code",
      "source": [
        "hc=AgglomerativeClustering(n_clusters=2, affinity='euclidean',linkage='ward')\n",
        "y_hc=hc.fit_predict(data1)"
      ],
      "metadata": {
        "id": "aUYmSwS9Pavi"
      },
      "execution_count": 22,
      "outputs": []
    },
    {
      "cell_type": "code",
      "source": [
        "y_hc"
      ],
      "metadata": {
        "colab": {
          "base_uri": "https://localhost:8080/"
        },
        "id": "WzG3eShdSgTu",
        "outputId": "ec5cc7d9-89f0-40cc-eea3-0fb7a2c9253e"
      },
      "execution_count": 23,
      "outputs": [
        {
          "output_type": "execute_result",
          "data": {
            "text/plain": [
              "array([1, 1, 1, 1, 0, 1, 1, 1, 1, 1, 1, 1, 1, 1, 1, 1, 1, 1, 1, 0, 0, 0,\n",
              "       1, 1, 0, 0, 1, 1, 0, 1, 1, 1, 1, 1, 1, 0, 0, 1, 1, 0, 0, 1, 1, 0,\n",
              "       0, 1, 1, 1, 1, 1, 1, 1, 1, 1, 1, 1, 1, 1, 1, 0, 0, 0, 0, 0, 0, 0,\n",
              "       0, 0, 0, 0, 0, 0, 0, 1, 0, 0, 0, 0, 0, 0, 0, 0, 0, 0, 0, 0, 0, 0,\n",
              "       0, 0, 0, 0, 0, 0, 0, 0, 0, 0, 0, 0, 0, 0, 0, 0, 0, 0, 0, 0, 0, 0,\n",
              "       0, 0, 0, 0, 0, 0, 0, 0, 0, 0, 0, 0, 0, 0, 0, 0, 0, 0, 0, 0, 0, 0,\n",
              "       0, 0, 0, 0, 0, 0, 0, 0, 0, 0, 0, 0, 0, 0, 0, 0, 0, 0, 0, 0, 0, 0,\n",
              "       0, 0, 0, 0, 0, 0, 0, 0, 0, 0, 0, 0, 0, 0, 0, 0, 0, 0, 0, 0, 0, 0,\n",
              "       0, 0])"
            ]
          },
          "metadata": {},
          "execution_count": 23
        }
      ]
    },
    {
      "cell_type": "markdown",
      "source": [
        "Silhouette Score"
      ],
      "metadata": {
        "id": "0EtkIKt3Slt5"
      }
    },
    {
      "cell_type": "code",
      "source": [
        "from sklearn.metrics import silhouette_score"
      ],
      "metadata": {
        "id": "kv6fIGHASh0s"
      },
      "execution_count": 24,
      "outputs": []
    },
    {
      "cell_type": "code",
      "source": [
        "sil_avg=silhouette_score(data1,y_hc)"
      ],
      "metadata": {
        "id": "_ex8jztOSo3G"
      },
      "execution_count": 25,
      "outputs": []
    },
    {
      "cell_type": "code",
      "source": [
        "print(sil_avg)"
      ],
      "metadata": {
        "id": "eXitr2KpSrqt",
        "outputId": "06e41cdc-36b8-4686-96b4-9e6f84add1f1",
        "colab": {
          "base_uri": "https://localhost:8080/"
        }
      },
      "execution_count": 26,
      "outputs": [
        {
          "output_type": "stream",
          "name": "stdout",
          "text": [
            "0.6605374258209484\n"
          ]
        }
      ]
    },
    {
      "cell_type": "markdown",
      "source": [
        "DB SCAN"
      ],
      "metadata": {
        "id": "FURiMVt3yptl"
      }
    },
    {
      "cell_type": "code",
      "source": [
        "data1"
      ],
      "metadata": {
        "id": "f9Ki4ELN1dlA",
        "colab": {
          "base_uri": "https://localhost:8080/"
        },
        "outputId": "51683964-a1e6-4d4e-cf71-77fd3f5563e9"
      },
      "execution_count": 57,
      "outputs": [
        {
          "output_type": "execute_result",
          "data": {
            "text/plain": [
              "array([[1.040e+00, 1.065e+03],\n",
              "       [1.050e+00, 1.050e+03],\n",
              "       [1.030e+00, 1.185e+03],\n",
              "       [8.600e-01, 1.480e+03],\n",
              "       [1.040e+00, 7.350e+02],\n",
              "       [1.050e+00, 1.450e+03],\n",
              "       [1.020e+00, 1.290e+03],\n",
              "       [1.060e+00, 1.295e+03],\n",
              "       [1.080e+00, 1.045e+03],\n",
              "       [1.010e+00, 1.045e+03],\n",
              "       [1.250e+00, 1.510e+03],\n",
              "       [1.170e+00, 1.280e+03],\n",
              "       [1.150e+00, 1.320e+03],\n",
              "       [1.250e+00, 1.150e+03],\n",
              "       [1.200e+00, 1.547e+03],\n",
              "       [1.280e+00, 1.310e+03],\n",
              "       [1.070e+00, 1.280e+03],\n",
              "       [1.130e+00, 1.130e+03],\n",
              "       [1.230e+00, 1.680e+03],\n",
              "       [9.600e-01, 8.450e+02],\n",
              "       [1.090e+00, 7.800e+02],\n",
              "       [1.030e+00, 7.700e+02],\n",
              "       [1.110e+00, 1.035e+03],\n",
              "       [1.090e+00, 1.015e+03],\n",
              "       [1.120e+00, 8.450e+02],\n",
              "       [1.130e+00, 8.300e+02],\n",
              "       [9.200e-01, 1.195e+03],\n",
              "       [1.020e+00, 1.285e+03],\n",
              "       [1.250e+00, 9.150e+02],\n",
              "       [1.040e+00, 1.035e+03],\n",
              "       [1.190e+00, 1.285e+03],\n",
              "       [1.090e+00, 1.515e+03],\n",
              "       [1.230e+00, 9.900e+02],\n",
              "       [1.250e+00, 1.235e+03],\n",
              "       [1.100e+00, 1.095e+03],\n",
              "       [1.040e+00, 9.200e+02],\n",
              "       [1.090e+00, 8.800e+02],\n",
              "       [1.120e+00, 1.105e+03],\n",
              "       [1.180e+00, 1.020e+03],\n",
              "       [8.900e-01, 7.600e+02],\n",
              "       [9.500e-01, 7.950e+02],\n",
              "       [9.100e-01, 1.035e+03],\n",
              "       [8.800e-01, 1.095e+03],\n",
              "       [8.200e-01, 6.800e+02],\n",
              "       [8.800e-01, 8.850e+02],\n",
              "       [8.700e-01, 1.080e+03],\n",
              "       [1.040e+00, 1.065e+03],\n",
              "       [9.100e-01, 9.850e+02],\n",
              "       [1.070e+00, 1.060e+03],\n",
              "       [1.120e+00, 1.260e+03],\n",
              "       [1.120e+00, 1.150e+03],\n",
              "       [1.240e+00, 1.265e+03],\n",
              "       [1.010e+00, 1.190e+03],\n",
              "       [1.130e+00, 1.375e+03],\n",
              "       [9.200e-01, 1.060e+03],\n",
              "       [9.800e-01, 1.120e+03],\n",
              "       [9.400e-01, 9.700e+02],\n",
              "       [1.070e+00, 1.270e+03],\n",
              "       [8.900e-01, 1.285e+03],\n",
              "       [1.050e+00, 5.200e+02],\n",
              "       [1.250e+00, 6.800e+02],\n",
              "       [9.800e-01, 4.500e+02],\n",
              "       [1.230e+00, 6.300e+02],\n",
              "       [1.220e+00, 4.200e+02],\n",
              "       [1.450e+00, 3.550e+02],\n",
              "       [1.190e+00, 6.780e+02],\n",
              "       [1.120e+00, 5.020e+02],\n",
              "       [1.120e+00, 5.100e+02],\n",
              "       [1.020e+00, 7.500e+02],\n",
              "       [1.280e+00, 7.180e+02],\n",
              "       [9.060e-01, 8.700e+02],\n",
              "       [1.360e+00, 4.100e+02],\n",
              "       [9.800e-01, 4.720e+02],\n",
              "       [1.310e+00, 9.850e+02],\n",
              "       [9.900e-01, 8.860e+02],\n",
              "       [1.230e+00, 4.280e+02],\n",
              "       [1.190e+00, 3.920e+02],\n",
              "       [9.600e-01, 5.000e+02],\n",
              "       [1.060e+00, 7.500e+02],\n",
              "       [1.190e+00, 4.630e+02],\n",
              "       [1.380e+00, 2.780e+02],\n",
              "       [1.160e+00, 7.140e+02],\n",
              "       [1.310e+00, 6.300e+02],\n",
              "       [8.400e-01, 5.150e+02],\n",
              "       [7.900e-01, 5.200e+02],\n",
              "       [1.230e+00, 4.500e+02],\n",
              "       [1.330e+00, 4.950e+02],\n",
              "       [1.360e+00, 5.620e+02],\n",
              "       [1.000e+00, 6.800e+02],\n",
              "       [1.070e+00, 6.250e+02],\n",
              "       [1.080e+00, 4.800e+02],\n",
              "       [1.050e+00, 4.500e+02],\n",
              "       [9.600e-01, 4.950e+02],\n",
              "       [1.150e+00, 2.900e+02],\n",
              "       [1.160e+00, 3.450e+02],\n",
              "       [1.160e+00, 9.370e+02],\n",
              "       [9.500e-01, 6.250e+02],\n",
              "       [1.230e+00, 4.280e+02],\n",
              "       [1.040e+00, 6.600e+02],\n",
              "       [1.420e+00, 4.060e+02],\n",
              "       [1.270e+00, 7.100e+02],\n",
              "       [1.040e+00, 5.620e+02],\n",
              "       [8.000e-01, 4.380e+02],\n",
              "       [9.400e-01, 4.150e+02],\n",
              "       [1.040e+00, 6.720e+02],\n",
              "       [8.600e-01, 3.150e+02],\n",
              "       [1.000e+00, 5.100e+02],\n",
              "       [8.800e-01, 4.880e+02],\n",
              "       [8.600e-01, 3.120e+02],\n",
              "       [9.600e-01, 6.800e+02],\n",
              "       [7.500e-01, 5.620e+02],\n",
              "       [9.000e-01, 3.250e+02],\n",
              "       [1.230e+00, 6.070e+02],\n",
              "       [1.100e+00, 4.340e+02],\n",
              "       [9.300e-01, 3.850e+02],\n",
              "       [1.710e+00, 4.070e+02],\n",
              "       [9.500e-01, 4.950e+02],\n",
              "       [1.060e+00, 3.450e+02],\n",
              "       [7.000e-01, 3.720e+02],\n",
              "       [9.300e-01, 5.640e+02],\n",
              "       [8.000e-01, 6.250e+02],\n",
              "       [9.300e-01, 4.650e+02],\n",
              "       [9.200e-01, 3.650e+02],\n",
              "       [7.300e-01, 3.800e+02],\n",
              "       [7.500e-01, 3.800e+02],\n",
              "       [8.600e-01, 3.780e+02],\n",
              "       [6.900e-01, 3.520e+02],\n",
              "       [9.700e-01, 4.660e+02],\n",
              "       [8.900e-01, 3.420e+02],\n",
              "       [7.900e-01, 5.800e+02],\n",
              "       [7.600e-01, 6.300e+02],\n",
              "       [7.400e-01, 5.300e+02],\n",
              "       [6.600e-01, 5.600e+02],\n",
              "       [7.800e-01, 6.000e+02],\n",
              "       [7.500e-01, 6.500e+02],\n",
              "       [7.300e-01, 6.950e+02],\n",
              "       [7.500e-01, 7.200e+02],\n",
              "       [8.200e-01, 5.150e+02],\n",
              "       [8.100e-01, 5.800e+02],\n",
              "       [8.900e-01, 5.900e+02],\n",
              "       [7.700e-01, 6.000e+02],\n",
              "       [7.000e-01, 7.800e+02],\n",
              "       [8.900e-01, 5.200e+02],\n",
              "       [9.100e-01, 5.500e+02],\n",
              "       [6.500e-01, 8.550e+02],\n",
              "       [6.000e-01, 8.300e+02],\n",
              "       [5.800e-01, 4.150e+02],\n",
              "       [5.400e-01, 6.250e+02],\n",
              "       [5.500e-01, 6.500e+02],\n",
              "       [5.700e-01, 5.500e+02],\n",
              "       [5.900e-01, 5.000e+02],\n",
              "       [4.800e-01, 4.800e+02],\n",
              "       [6.100e-01, 4.250e+02],\n",
              "       [5.600e-01, 6.750e+02],\n",
              "       [5.800e-01, 6.400e+02],\n",
              "       [6.000e-01, 7.250e+02],\n",
              "       [5.700e-01, 4.800e+02],\n",
              "       [6.700e-01, 8.800e+02],\n",
              "       [5.700e-01, 6.600e+02],\n",
              "       [5.700e-01, 6.200e+02],\n",
              "       [5.600e-01, 5.200e+02],\n",
              "       [9.600e-01, 6.800e+02],\n",
              "       [8.700e-01, 5.700e+02],\n",
              "       [6.800e-01, 6.750e+02],\n",
              "       [7.000e-01, 6.150e+02],\n",
              "       [7.800e-01, 5.200e+02],\n",
              "       [8.500e-01, 6.950e+02],\n",
              "       [7.200e-01, 6.850e+02],\n",
              "       [7.400e-01, 7.500e+02],\n",
              "       [6.700e-01, 6.300e+02],\n",
              "       [6.600e-01, 5.100e+02],\n",
              "       [5.700e-01, 4.700e+02],\n",
              "       [6.200e-01, 6.600e+02],\n",
              "       [6.400e-01, 7.400e+02],\n",
              "       [7.000e-01, 7.500e+02],\n",
              "       [5.900e-01, 8.350e+02],\n",
              "       [6.000e-01, 8.400e+02],\n",
              "       [6.100e-01, 5.600e+02]])"
            ]
          },
          "metadata": {},
          "execution_count": 57
        }
      ]
    },
    {
      "cell_type": "code",
      "source": [
        "from sklearn.cluster import DBSCAN\n",
        "db=DBSCAN(eps=3,min_samples=4,metric='euclidean')"
      ],
      "metadata": {
        "id": "iVTPoXi52AEy"
      },
      "execution_count": 41,
      "outputs": []
    },
    {
      "cell_type": "code",
      "source": [
        "model=db.fit(data1)"
      ],
      "metadata": {
        "id": "Rgvx6u8FOGXM"
      },
      "execution_count": 42,
      "outputs": []
    },
    {
      "cell_type": "code",
      "source": [
        "label=model.labels_"
      ],
      "metadata": {
        "id": "de-MLsrxOQSf"
      },
      "execution_count": 43,
      "outputs": []
    },
    {
      "cell_type": "code",
      "source": [
        "label"
      ],
      "metadata": {
        "colab": {
          "base_uri": "https://localhost:8080/"
        },
        "id": "9vTuCViUOWpY",
        "outputId": "87d8c9bf-319e-4c1f-9643-3a43dbaa79e2"
      },
      "execution_count": 44,
      "outputs": [
        {
          "output_type": "execute_result",
          "data": {
            "text/plain": [
              "array([-1, -1, -1, -1, -1, -1, -1, -1, -1, -1, -1, -1, -1, -1, -1, -1, -1,\n",
              "       -1, -1, -1, -1, -1, -1, -1, -1, -1, -1, -1, -1, -1, -1, -1, -1, -1,\n",
              "       -1, -1, -1, -1, -1, -1, -1, -1, -1,  0, -1, -1, -1, -1, -1, -1, -1,\n",
              "       -1, -1, -1, -1, -1, -1, -1, -1,  1,  0, -1,  2, -1, -1,  0, -1, -1,\n",
              "        3, -1, -1, -1, -1, -1, -1, -1, -1, -1,  3, -1, -1, -1,  2, -1,  1,\n",
              "       -1, -1,  4,  0,  5, -1, -1, -1, -1, -1, -1,  5, -1, -1, -1, -1,  4,\n",
              "       -1, -1, -1, -1, -1, -1, -1,  0,  4, -1, -1, -1, -1, -1, -1, -1, -1,\n",
              "        4,  5, -1, -1, -1, -1, -1, -1, -1, -1, -1,  2, -1,  4, -1, -1, -1,\n",
              "       -1, -1, -1, -1, -1, -1,  1, -1, -1, -1, -1,  5, -1, -1, -1, -1, -1,\n",
              "       -1, -1, -1, -1, -1, -1, -1,  1,  0, -1, -1, -1,  1, -1, -1,  3,  2,\n",
              "       -1, -1, -1, -1,  3, -1, -1,  4])"
            ]
          },
          "metadata": {},
          "execution_count": 44
        }
      ]
    },
    {
      "cell_type": "code",
      "source": [
        "from sklearn import metrics\n",
        "\n",
        "#identifying the points which makes up our core points\n",
        "sample_cores=np.zeros_like(label,dtype=bool)\n",
        "\n",
        "sample_cores[db.core_sample_indices_]=True\n",
        "\n",
        "#Calculating the number of clusters\n",
        "\n",
        "n_clusters=len(set(label))- (1 if -1 in label else 0)\n",
        "print('No of clusters:',n_clusters)"
      ],
      "metadata": {
        "colab": {
          "base_uri": "https://localhost:8080/"
        },
        "id": "XUEPWjqcOegg",
        "outputId": "3aed1ecd-ffad-4908-87e3-e6d799cf1500"
      },
      "execution_count": 45,
      "outputs": [
        {
          "output_type": "stream",
          "name": "stdout",
          "text": [
            "No of clusters: 6\n"
          ]
        }
      ]
    },
    {
      "cell_type": "code",
      "source": [
        "y_means=db.fit_predict(data1)"
      ],
      "metadata": {
        "id": "h3AVt024Omak"
      },
      "execution_count": 58,
      "outputs": []
    },
    {
      "cell_type": "code",
      "source": [
        "y_means"
      ],
      "metadata": {
        "colab": {
          "base_uri": "https://localhost:8080/"
        },
        "id": "lArbts0_PArn",
        "outputId": "1b13d4e0-ce94-4d6a-b0f7-bdabe129dc7f"
      },
      "execution_count": 59,
      "outputs": [
        {
          "output_type": "execute_result",
          "data": {
            "text/plain": [
              "array([-1, -1, -1, -1, -1, -1, -1, -1, -1, -1, -1, -1, -1, -1, -1, -1, -1,\n",
              "       -1, -1, -1, -1, -1, -1, -1, -1, -1, -1, -1, -1, -1, -1, -1, -1, -1,\n",
              "       -1, -1, -1, -1, -1, -1, -1, -1, -1,  0, -1, -1, -1, -1, -1, -1, -1,\n",
              "       -1, -1, -1, -1, -1, -1, -1, -1,  1,  0, -1,  2, -1, -1,  0, -1, -1,\n",
              "        3, -1, -1, -1, -1, -1, -1, -1, -1, -1,  3, -1, -1, -1,  2, -1,  1,\n",
              "       -1, -1,  4,  0,  5, -1, -1, -1, -1, -1, -1,  5, -1, -1, -1, -1,  4,\n",
              "       -1, -1, -1, -1, -1, -1, -1,  0,  4, -1, -1, -1, -1, -1, -1, -1, -1,\n",
              "        4,  5, -1, -1, -1, -1, -1, -1, -1, -1, -1,  2, -1,  4, -1, -1, -1,\n",
              "       -1, -1, -1, -1, -1, -1,  1, -1, -1, -1, -1,  5, -1, -1, -1, -1, -1,\n",
              "       -1, -1, -1, -1, -1, -1, -1,  1,  0, -1, -1, -1,  1, -1, -1,  3,  2,\n",
              "       -1, -1, -1, -1,  3, -1, -1,  4])"
            ]
          },
          "metadata": {},
          "execution_count": 59
        }
      ]
    },
    {
      "cell_type": "code",
      "source": [
        "plt.figure(figsize=(5,4))\n",
        "plt.scatter(data1[y_means==0,0],data1[y_means==0,1],s=100,c='red')\n",
        "plt.scatter(data1[y_means==1,0],data1[y_means==1,1],s=100,c='cyan')\n",
        "plt.scatter(data1[y_means==2,0],data1[y_means==2,1],s=100,c='blue')\n",
        "plt.scatter(data1[y_means==3,0],data1[y_means==3,1],s=100,c='black')\n",
        "plt.scatter(data1[y_means==4,0],data1[y_means==4,1],s=100,c='grey')\n",
        "plt.scatter(data1[y_means==5,0],data1[y_means==5,1],s=100,c='yellow')\n",
        "plt.title('Clusters of data')\n",
        "plt.show()"
      ],
      "metadata": {
        "colab": {
          "base_uri": "https://localhost:8080/",
          "height": 281
        },
        "id": "eSvRz8xhPPhB",
        "outputId": "13bdb5cd-f3c0-4056-d128-de507cfc5070"
      },
      "execution_count": 66,
      "outputs": [
        {
          "output_type": "display_data",
          "data": {
            "text/plain": [
              "<Figure size 360x288 with 1 Axes>"
            ],
            "image/png": "[encoded data removed]"
          },
          "metadata": {
            "needs_background": "light"
          }
        }
      ]
    },
    {
      "cell_type": "code",
      "source": [],
      "metadata": {
        "id": "NlItUGjuPcAt"
      },
      "execution_count": null,
      "outputs": []
    }
  ]
}