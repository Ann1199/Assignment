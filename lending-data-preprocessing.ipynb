{
 "cells": [
  {
   "cell_type": "markdown",
   "id": "17327215",
   "metadata": {},
   "source": [
    "#### Importing the libaries "
   ]
  },
  {
   "cell_type": "code",
   "execution_count": 1,
   "id": "ea6e0362",
   "metadata": {},
   "outputs": [],
   "source": [
    "import pandas as pd\n",
    "import numpy as np"
   ]
  },
  {
   "cell_type": "code",
   "execution_count": 2,
   "id": "dd94ebf6",
   "metadata": {},
   "outputs": [],
   "source": [
    "loan_df = pd.read_csv(\"data/loan.csv\",low_memory = False)"
   ]
  },
  {
   "cell_type": "markdown",
   "id": "4520af04",
   "metadata": {},
   "source": [
    "#### The loan dataset contains 39717 rows and 111 columns, where the loan status is the dependent variable and the rest are independent variables. we need to build a ML classfication model. Before building the model we need to preprocess the data for better results."
   ]
  },
  {
   "cell_type": "code",
   "execution_count": 3,
   "id": "3b269708",
   "metadata": {},
   "outputs": [
    {
     "data": {
      "text/plain": [
       "(39717, 111)"
      ]
     },
     "execution_count": 3,
     "metadata": {},
     "output_type": "execute_result"
    }
   ],
   "source": [
    "loan_df.shape"
   ]
  },
  {
   "cell_type": "code",
   "execution_count": 4,
   "id": "c8d6b979",
   "metadata": {},
   "outputs": [
    {
     "data": {
      "text/plain": [
       "Index(['id', 'member_id', 'loan_amnt', 'funded_amnt', 'funded_amnt_inv',\n",
       "       'term', 'int_rate', 'installment', 'grade', 'sub_grade',\n",
       "       ...\n",
       "       'num_tl_90g_dpd_24m', 'num_tl_op_past_12m', 'pct_tl_nvr_dlq',\n",
       "       'percent_bc_gt_75', 'pub_rec_bankruptcies', 'tax_liens',\n",
       "       'tot_hi_cred_lim', 'total_bal_ex_mort', 'total_bc_limit',\n",
       "       'total_il_high_credit_limit'],\n",
       "      dtype='object', length=111)"
      ]
     },
     "execution_count": 4,
     "metadata": {},
     "output_type": "execute_result"
    }
   ],
   "source": [
    "loan_df.columns"
   ]
  },
  {
   "cell_type": "code",
   "execution_count": 5,
   "id": "6ac3cc82",
   "metadata": {},
   "outputs": [
    {
     "data": {
      "text/plain": [
       "Fully Paid     32950\n",
       "Charged Off     5627\n",
       "Current         1140\n",
       "Name: loan_status, dtype: int64"
      ]
     },
     "execution_count": 5,
     "metadata": {},
     "output_type": "execute_result"
    }
   ],
   "source": [
    "loan_df['loan_status'].value_counts()    # dependent variable   # target variable"
   ]
  },
  {
   "cell_type": "markdown",
   "id": "137a88fa",
   "metadata": {},
   "source": [
    "#### there are 3 classes in the target variable"
   ]
  },
  {
   "cell_type": "code",
   "execution_count": null,
   "id": "0c2b4e7a",
   "metadata": {},
   "outputs": [],
   "source": []
  },
  {
   "cell_type": "markdown",
   "id": "beccca4f",
   "metadata": {},
   "source": [
    "#### missing value handling"
   ]
  },
  {
   "cell_type": "code",
   "execution_count": 6,
   "id": "a4aeeffb",
   "metadata": {},
   "outputs": [
    {
     "data": {
      "text/plain": [
       "id                                0\n",
       "member_id                         0\n",
       "loan_amnt                         0\n",
       "funded_amnt                       0\n",
       "funded_amnt_inv                   0\n",
       "                              ...  \n",
       "tax_liens                        39\n",
       "tot_hi_cred_lim               39717\n",
       "total_bal_ex_mort             39717\n",
       "total_bc_limit                39717\n",
       "total_il_high_credit_limit    39717\n",
       "Length: 111, dtype: int64"
      ]
     },
     "execution_count": 6,
     "metadata": {},
     "output_type": "execute_result"
    }
   ],
   "source": [
    "loan_df.isna().sum()"
   ]
  },
  {
   "cell_type": "code",
   "execution_count": 7,
   "id": "b12cd88d",
   "metadata": {},
   "outputs": [
    {
     "data": {
      "text/plain": [
       "Index(['id', 'member_id', 'loan_amnt', 'funded_amnt', 'funded_amnt_inv',\n",
       "       'term', 'int_rate', 'installment', 'grade', 'sub_grade',\n",
       "       ...\n",
       "       'num_tl_90g_dpd_24m', 'num_tl_op_past_12m', 'pct_tl_nvr_dlq',\n",
       "       'percent_bc_gt_75', 'pub_rec_bankruptcies', 'tax_liens',\n",
       "       'tot_hi_cred_lim', 'total_bal_ex_mort', 'total_bc_limit',\n",
       "       'total_il_high_credit_limit'],\n",
       "      dtype='object', length=111)"
      ]
     },
     "execution_count": 7,
     "metadata": {},
     "output_type": "execute_result"
    }
   ],
   "source": [
    "loan_df.columns"
   ]
  },
  {
   "cell_type": "markdown",
   "id": "d2e2b698",
   "metadata": {},
   "source": [
    "#### identifying the columns where the missing values are more than 15 percent"
   ]
  },
  {
   "cell_type": "code",
   "execution_count": 8,
   "id": "eed9637e",
   "metadata": {},
   "outputs": [],
   "source": [
    "miss_columns_per = (loan_df.isna().sum() / loan_df.shape[0] *100) > 15   ### 10 percent"
   ]
  },
  {
   "cell_type": "code",
   "execution_count": 9,
   "id": "a889494d",
   "metadata": {},
   "outputs": [],
   "source": [
    "missing_columns = loan_df.columns[miss_columns_per]"
   ]
  },
  {
   "cell_type": "markdown",
   "id": "98ec89fa",
   "metadata": {},
   "source": [
    "#### dropping the particular columns where the missing values are more than15 percent"
   ]
  },
  {
   "cell_type": "code",
   "execution_count": 10,
   "id": "7dde362f",
   "metadata": {},
   "outputs": [],
   "source": [
    "loan_df2 = loan_df.drop(missing_columns,axis=1)"
   ]
  },
  {
   "cell_type": "code",
   "execution_count": 11,
   "id": "47ccaf50",
   "metadata": {},
   "outputs": [
    {
     "data": {
      "text/plain": [
       "id                            0.000000\n",
       "member_id                     0.000000\n",
       "loan_amnt                     0.000000\n",
       "funded_amnt                   0.000000\n",
       "funded_amnt_inv               0.000000\n",
       "term                          0.000000\n",
       "int_rate                      0.000000\n",
       "installment                   0.000000\n",
       "grade                         0.000000\n",
       "sub_grade                     0.000000\n",
       "emp_title                     6.191303\n",
       "emp_length                    2.706650\n",
       "home_ownership                0.000000\n",
       "annual_inc                    0.000000\n",
       "verification_status           0.000000\n",
       "issue_d                       0.000000\n",
       "loan_status                   0.000000\n",
       "pymnt_plan                    0.000000\n",
       "url                           0.000000\n",
       "purpose                       0.000000\n",
       "title                         0.027696\n",
       "zip_code                      0.000000\n",
       "addr_state                    0.000000\n",
       "dti                           0.000000\n",
       "delinq_2yrs                   0.000000\n",
       "earliest_cr_line              0.000000\n",
       "inq_last_6mths                0.000000\n",
       "open_acc                      0.000000\n",
       "pub_rec                       0.000000\n",
       "revol_bal                     0.000000\n",
       "revol_util                    0.125891\n",
       "total_acc                     0.000000\n",
       "initial_list_status           0.000000\n",
       "out_prncp                     0.000000\n",
       "out_prncp_inv                 0.000000\n",
       "total_pymnt                   0.000000\n",
       "total_pymnt_inv               0.000000\n",
       "total_rec_prncp               0.000000\n",
       "total_rec_int                 0.000000\n",
       "total_rec_late_fee            0.000000\n",
       "recoveries                    0.000000\n",
       "collection_recovery_fee       0.000000\n",
       "last_pymnt_d                  0.178765\n",
       "last_pymnt_amnt               0.000000\n",
       "last_credit_pull_d            0.005036\n",
       "collections_12_mths_ex_med    0.140998\n",
       "policy_code                   0.000000\n",
       "application_type              0.000000\n",
       "acc_now_delinq                0.000000\n",
       "chargeoff_within_12_mths      0.140998\n",
       "delinq_amnt                   0.000000\n",
       "pub_rec_bankruptcies          1.754916\n",
       "tax_liens                     0.098195\n",
       "dtype: float64"
      ]
     },
     "execution_count": 11,
     "metadata": {},
     "output_type": "execute_result"
    }
   ],
   "source": [
    "loan_df2.isna().sum() / loan_df.shape[0] * 100"
   ]
  },
  {
   "cell_type": "markdown",
   "id": "aecb1256",
   "metadata": {},
   "source": [
    "#### checking with emp_title"
   ]
  },
  {
   "cell_type": "code",
   "execution_count": 12,
   "id": "ec85d6ff",
   "metadata": {},
   "outputs": [
    {
     "data": {
      "text/plain": [
       "28820"
      ]
     },
     "execution_count": 12,
     "metadata": {},
     "output_type": "execute_result"
    }
   ],
   "source": [
    "loan_df2['emp_title'].nunique()"
   ]
  },
  {
   "cell_type": "markdown",
   "id": "53fa1ca1",
   "metadata": {},
   "source": [
    "#### there are 28820 categories in that. which is not going to be helpful in ML model. hence drop it"
   ]
  },
  {
   "cell_type": "code",
   "execution_count": 13,
   "id": "fd9aa62b",
   "metadata": {},
   "outputs": [],
   "source": [
    "loan_df3 = loan_df2.drop(\"emp_title\",axis=1)"
   ]
  },
  {
   "cell_type": "markdown",
   "id": "03e28445",
   "metadata": {},
   "source": [
    "#### rest of the null values i want to drop them"
   ]
  },
  {
   "cell_type": "code",
   "execution_count": 14,
   "id": "f6cd575c",
   "metadata": {},
   "outputs": [],
   "source": [
    "loan_df4 = loan_df3.dropna()"
   ]
  },
  {
   "cell_type": "markdown",
   "id": "e6ee0011",
   "metadata": {},
   "source": [
    "#### em_length column"
   ]
  },
  {
   "cell_type": "code",
   "execution_count": 15,
   "id": "a01b33d6",
   "metadata": {},
   "outputs": [
    {
     "data": {
      "text/plain": [
       "10+ years    8879\n",
       "< 1 year     4583\n",
       "2 years      4388\n",
       "3 years      4095\n",
       "4 years      3436\n",
       "5 years      3282\n",
       "1 year       3240\n",
       "6 years      2229\n",
       "7 years      1773\n",
       "8 years      1479\n",
       "9 years      1258\n",
       "Name: emp_length, dtype: int64"
      ]
     },
     "execution_count": 15,
     "metadata": {},
     "output_type": "execute_result"
    }
   ],
   "source": [
    "loan_df3['emp_length'].value_counts()"
   ]
  },
  {
   "cell_type": "code",
   "execution_count": 16,
   "id": "5fa40499",
   "metadata": {},
   "outputs": [
    {
     "data": {
      "text/plain": [
       "(39717, 52)"
      ]
     },
     "execution_count": 16,
     "metadata": {},
     "output_type": "execute_result"
    }
   ],
   "source": [
    "loan_df3.shape"
   ]
  },
  {
   "cell_type": "code",
   "execution_count": null,
   "id": "180708cc",
   "metadata": {},
   "outputs": [],
   "source": []
  },
  {
   "cell_type": "markdown",
   "id": "3cfddaae",
   "metadata": {},
   "source": [
    "#### id and member_id columns are just identification numbers. so not going to be helpful in ML model"
   ]
  },
  {
   "cell_type": "code",
   "execution_count": 17,
   "id": "88de0f2c",
   "metadata": {},
   "outputs": [],
   "source": [
    "loan_df5 = loan_df4.drop(['id','member_id'],axis=1)"
   ]
  },
  {
   "cell_type": "markdown",
   "id": "6657bc58",
   "metadata": {},
   "source": [
    "#### lets handle the term column. it contains text values, so need to convert into numerical, lets apply some regex to extract the numerical values"
   ]
  },
  {
   "cell_type": "code",
   "execution_count": 18,
   "id": "fbfc9f40",
   "metadata": {},
   "outputs": [],
   "source": [
    "import re"
   ]
  },
  {
   "cell_type": "code",
   "execution_count": 19,
   "id": "3c64094f",
   "metadata": {},
   "outputs": [],
   "source": [
    "loan_df5['term'] = loan_df5['term'].apply(lambda x: re.findall(\"\\d+\",str(x))[0])"
   ]
  },
  {
   "cell_type": "code",
   "execution_count": 20,
   "id": "8b6d4826",
   "metadata": {},
   "outputs": [],
   "source": [
    "# loan_df5.dtypes"
   ]
  },
  {
   "cell_type": "markdown",
   "id": "dd2a7e9c",
   "metadata": {},
   "source": [
    "#### lets convert the object data type into numerical"
   ]
  },
  {
   "cell_type": "code",
   "execution_count": 21,
   "id": "57eaeadd",
   "metadata": {},
   "outputs": [],
   "source": [
    "loan_df5['term'] = loan_df5['term'].astype(int)"
   ]
  },
  {
   "cell_type": "code",
   "execution_count": null,
   "id": "d75afc41",
   "metadata": {},
   "outputs": [],
   "source": []
  },
  {
   "cell_type": "markdown",
   "id": "d12cfba1",
   "metadata": {},
   "source": [
    "#### lets deal with the int_rate column, it is also given the object data type. lets remove the percentage value"
   ]
  },
  {
   "cell_type": "code",
   "execution_count": 22,
   "id": "b9f71aff",
   "metadata": {},
   "outputs": [],
   "source": [
    "loan_df5['int_rate'] = loan_df5['int_rate'].str.replace(\"%\",\"\").astype(float)"
   ]
  },
  {
   "cell_type": "code",
   "execution_count": null,
   "id": "d3a860f6",
   "metadata": {},
   "outputs": [],
   "source": []
  },
  {
   "cell_type": "markdown",
   "id": "b90df8d2",
   "metadata": {},
   "source": [
    "#### lets deal with grade column"
   ]
  },
  {
   "cell_type": "code",
   "execution_count": 23,
   "id": "d4af356a",
   "metadata": {},
   "outputs": [
    {
     "data": {
      "text/plain": [
       "array(['B', 'C', 'A', 'E', 'F', 'D', 'G'], dtype=object)"
      ]
     },
     "execution_count": 23,
     "metadata": {},
     "output_type": "execute_result"
    }
   ],
   "source": [
    "loan_df5['grade'].unique()      # i want to do the encoding here"
   ]
  },
  {
   "cell_type": "markdown",
   "id": "56663455",
   "metadata": {},
   "source": [
    "#### we can do the label encoding or one hot encoding for this"
   ]
  },
  {
   "cell_type": "code",
   "execution_count": null,
   "id": "47092885",
   "metadata": {},
   "outputs": [],
   "source": []
  },
  {
   "cell_type": "markdown",
   "id": "b2f80c15",
   "metadata": {},
   "source": [
    "#### lets deal with emo_length column. extract the numeric value using regex"
   ]
  },
  {
   "cell_type": "code",
   "execution_count": 24,
   "id": "6cd756ea",
   "metadata": {},
   "outputs": [],
   "source": [
    "loan_df5['emp_length'] = loan_df5['emp_length'].apply(lambda x: re.findall(\"\\d+\",str(x))[0]).astype(int)"
   ]
  },
  {
   "cell_type": "code",
   "execution_count": null,
   "id": "1a1a842d",
   "metadata": {},
   "outputs": [],
   "source": []
  },
  {
   "cell_type": "markdown",
   "id": "41e62a59",
   "metadata": {},
   "source": [
    "#### lets deal with the home_ownership column"
   ]
  },
  {
   "cell_type": "code",
   "execution_count": 25,
   "id": "1608ad99",
   "metadata": {},
   "outputs": [
    {
     "data": {
      "text/plain": [
       "array(['RENT', 'OWN', 'MORTGAGE', 'OTHER'], dtype=object)"
      ]
     },
     "execution_count": 25,
     "metadata": {},
     "output_type": "execute_result"
    }
   ],
   "source": [
    "loan_df5['home_ownership'].unique()    # one hot encoding"
   ]
  },
  {
   "cell_type": "markdown",
   "id": "97327ee8",
   "metadata": {},
   "source": [
    "#### it has 4 categories so we can do the one hot encoding for that"
   ]
  },
  {
   "cell_type": "code",
   "execution_count": null,
   "id": "862a7766",
   "metadata": {},
   "outputs": [],
   "source": []
  },
  {
   "cell_type": "markdown",
   "id": "877a8315",
   "metadata": {},
   "source": [
    "#### lets check with verification status. it has 3 categories so u can do one hot encoding"
   ]
  },
  {
   "cell_type": "code",
   "execution_count": 26,
   "id": "5ff9aedf",
   "metadata": {},
   "outputs": [
    {
     "data": {
      "text/plain": [
       "array(['Verified', 'Source Verified', 'Not Verified'], dtype=object)"
      ]
     },
     "execution_count": 26,
     "metadata": {},
     "output_type": "execute_result"
    }
   ],
   "source": [
    "loan_df5['verification_status'].unique()     # one hot encoding"
   ]
  },
  {
   "cell_type": "markdown",
   "id": "c78b4080",
   "metadata": {},
   "source": [
    "#### lets dela with pymnt_plan column."
   ]
  },
  {
   "cell_type": "code",
   "execution_count": 27,
   "id": "6e086a52",
   "metadata": {},
   "outputs": [
    {
     "data": {
      "text/plain": [
       "array(['n'], dtype=object)"
      ]
     },
     "execution_count": 27,
     "metadata": {},
     "output_type": "execute_result"
    }
   ],
   "source": [
    "loan_df5['pymnt_plan'].unique()"
   ]
  },
  {
   "cell_type": "markdown",
   "id": "f6b9c536",
   "metadata": {},
   "source": [
    "#### it has only one single variable, so drop it"
   ]
  },
  {
   "cell_type": "code",
   "execution_count": 28,
   "id": "b586c0e5",
   "metadata": {},
   "outputs": [],
   "source": [
    "loan_df6 = loan_df5.drop(\"pymnt_plan\",axis=1)"
   ]
  },
  {
   "cell_type": "code",
   "execution_count": null,
   "id": "b58304cd",
   "metadata": {},
   "outputs": [],
   "source": []
  },
  {
   "cell_type": "markdown",
   "id": "47e600b3",
   "metadata": {},
   "source": [
    "#### url column is also not giving any info for the model building , so drop it"
   ]
  },
  {
   "cell_type": "code",
   "execution_count": 29,
   "id": "1ab554cf",
   "metadata": {},
   "outputs": [],
   "source": [
    "loan_df7 = loan_df6.drop(\"url\",axis=1)"
   ]
  },
  {
   "cell_type": "code",
   "execution_count": null,
   "id": "31556cf7",
   "metadata": {},
   "outputs": [],
   "source": []
  },
  {
   "cell_type": "markdown",
   "id": "e3c8f164",
   "metadata": {},
   "source": [
    "#### lets deal with zip_code."
   ]
  },
  {
   "cell_type": "code",
   "execution_count": 30,
   "id": "3ae21a7c",
   "metadata": {},
   "outputs": [
    {
     "data": {
      "text/plain": [
       "808"
      ]
     },
     "execution_count": 30,
     "metadata": {},
     "output_type": "execute_result"
    }
   ],
   "source": [
    "loan_df7['zip_code'].nunique()"
   ]
  },
  {
   "cell_type": "markdown",
   "id": "c51867af",
   "metadata": {},
   "source": [
    "#### it has 808 categories. you cand drop it or handle ot properly"
   ]
  },
  {
   "cell_type": "code",
   "execution_count": 31,
   "id": "2ef2ebd5",
   "metadata": {},
   "outputs": [],
   "source": [
    "loan_df8 = loan_df7.drop('zip_code',axis=1)"
   ]
  },
  {
   "cell_type": "code",
   "execution_count": null,
   "id": "522559ee",
   "metadata": {},
   "outputs": [],
   "source": []
  },
  {
   "cell_type": "markdown",
   "id": "393b0db8",
   "metadata": {},
   "source": [
    "#### lets deal with addr_state column"
   ]
  },
  {
   "cell_type": "code",
   "execution_count": 32,
   "id": "edef2082",
   "metadata": {},
   "outputs": [
    {
     "data": {
      "text/plain": [
       "array(['AZ', 'GA', 'IL', 'CA', 'OR', 'NC', 'TX', 'VA', 'MO', 'CT', 'UT',\n",
       "       'FL', 'PA', 'MN', 'NY', 'NJ', 'KY', 'OH', 'SC', 'RI', 'LA', 'MA',\n",
       "       'WA', 'WI', 'AL', 'CO', 'KS', 'NV', 'AK', 'MD', 'WV', 'VT', 'MI',\n",
       "       'DC', 'SD', 'NH', 'AR', 'NM', 'MT', 'HI', 'WY', 'OK', 'DE', 'MS',\n",
       "       'TN', 'IA', 'NE', 'ID'], dtype=object)"
      ]
     },
     "execution_count": 32,
     "metadata": {},
     "output_type": "execute_result"
    }
   ],
   "source": [
    "loan_df8['addr_state'].unique()      # one hot encoding"
   ]
  },
  {
   "cell_type": "markdown",
   "id": "281088b4",
   "metadata": {},
   "source": [
    "#### we can go for one hot encoding"
   ]
  },
  {
   "cell_type": "code",
   "execution_count": null,
   "id": "135e6971",
   "metadata": {},
   "outputs": [],
   "source": []
  },
  {
   "cell_type": "markdown",
   "id": "4bb3cfc0",
   "metadata": {},
   "source": [
    "#### lets see the issue_d column"
   ]
  },
  {
   "cell_type": "code",
   "execution_count": 33,
   "id": "6366de50",
   "metadata": {},
   "outputs": [
    {
     "data": {
      "text/plain": [
       "0        Dec-11\n",
       "1        Dec-11\n",
       "2        Dec-11\n",
       "3        Dec-11\n",
       "4        Dec-11\n",
       "          ...  \n",
       "39475    Dec-07\n",
       "39551    Dec-07\n",
       "39562    Nov-07\n",
       "39573    Nov-07\n",
       "39623    Oct-07\n",
       "Name: issue_d, Length: 37823, dtype: object"
      ]
     },
     "execution_count": 33,
     "metadata": {},
     "output_type": "execute_result"
    }
   ],
   "source": [
    "loan_df8['issue_d']"
   ]
  },
  {
   "cell_type": "markdown",
   "id": "12e945ed",
   "metadata": {},
   "source": [
    "#### it has date column so extract the month and year column and drop the issue_d"
   ]
  },
  {
   "cell_type": "code",
   "execution_count": 34,
   "id": "6c2b0a3a",
   "metadata": {},
   "outputs": [],
   "source": [
    "from datetime import datetime"
   ]
  },
  {
   "cell_type": "code",
   "execution_count": 35,
   "id": "e1bf0765",
   "metadata": {},
   "outputs": [],
   "source": [
    "loan_df8['issue_d'] = loan_df8['issue_d'].apply(lambda x: datetime.strptime(x,\"%b-%y\"))"
   ]
  },
  {
   "cell_type": "code",
   "execution_count": 36,
   "id": "125920a0",
   "metadata": {},
   "outputs": [],
   "source": [
    "#### feature engineering"
   ]
  },
  {
   "cell_type": "code",
   "execution_count": 37,
   "id": "b96870b7",
   "metadata": {},
   "outputs": [],
   "source": [
    "loan_df8['month'] = loan_df8['issue_d'].apply(lambda x:x.month)"
   ]
  },
  {
   "cell_type": "code",
   "execution_count": 38,
   "id": "bb03bcf6",
   "metadata": {},
   "outputs": [],
   "source": [
    "loan_df8['year'] = loan_df8['issue_d'].apply(lambda x:x.year)"
   ]
  },
  {
   "cell_type": "code",
   "execution_count": 39,
   "id": "e0fe6ab1",
   "metadata": {},
   "outputs": [],
   "source": [
    "loan_df9 = loan_df8.drop([\"issue_d\",\"application_type\"],axis=1)"
   ]
  },
  {
   "cell_type": "code",
   "execution_count": null,
   "id": "94d2dbb1",
   "metadata": {},
   "outputs": [],
   "source": []
  },
  {
   "cell_type": "markdown",
   "id": "8c07820c",
   "metadata": {},
   "source": [
    "#### lets deal with the revol_util column. remove the percentage symbol and convert the data type to numeric"
   ]
  },
  {
   "cell_type": "code",
   "execution_count": 40,
   "id": "d7878d0c",
   "metadata": {},
   "outputs": [],
   "source": [
    "loan_df9['revol_util'] = loan_df9['revol_util'].str.replace(\"%\",\"\").astype(float)"
   ]
  },
  {
   "cell_type": "code",
   "execution_count": null,
   "id": "c2d02c25",
   "metadata": {},
   "outputs": [],
   "source": []
  },
  {
   "cell_type": "markdown",
   "id": "42bc481b",
   "metadata": {},
   "source": [
    "#### lets deal with initial_list_status"
   ]
  },
  {
   "cell_type": "code",
   "execution_count": 41,
   "id": "3cc02bfa",
   "metadata": {},
   "outputs": [
    {
     "data": {
      "text/plain": [
       "1"
      ]
     },
     "execution_count": 41,
     "metadata": {},
     "output_type": "execute_result"
    }
   ],
   "source": [
    "loan_df9['initial_list_status'].nunique()"
   ]
  },
  {
   "cell_type": "markdown",
   "id": "90b26acb",
   "metadata": {},
   "source": [
    "#### it has only one category so drop it"
   ]
  },
  {
   "cell_type": "code",
   "execution_count": 42,
   "id": "cb9ddc15",
   "metadata": {},
   "outputs": [],
   "source": [
    "loan_df10  = loan_df9.drop(\"initial_list_status\",axis=1)"
   ]
  },
  {
   "cell_type": "code",
   "execution_count": null,
   "id": "0099d60c",
   "metadata": {},
   "outputs": [],
   "source": []
  },
  {
   "cell_type": "markdown",
   "id": "a9cdae08",
   "metadata": {},
   "source": [
    "#### the last_pymnt_d and the last_credit_pull_d are the date columns. so extract the month and year and drop the original columns"
   ]
  },
  {
   "cell_type": "code",
   "execution_count": 43,
   "id": "d9ca3b96",
   "metadata": {},
   "outputs": [],
   "source": [
    "loan_df8['last_pymnt_d'] = loan_df8['last_pymnt_d'].apply(lambda x: datetime.strptime(x,\"%b-%y\"))\n",
    "loan_df8['last_credit_pull_d'] = loan_df8['last_credit_pull_d'].apply(lambda x: datetime.strptime(x,\"%b-%y\"))"
   ]
  },
  {
   "cell_type": "code",
   "execution_count": 44,
   "id": "7e2f96e2",
   "metadata": {},
   "outputs": [],
   "source": [
    "loan_df8['lp_month'] = loan_df8['last_pymnt_d'].apply(lambda x:x.month)\n",
    "loan_df8['lp_year'] = loan_df8['last_pymnt_d'].apply(lambda x:x.year)"
   ]
  },
  {
   "cell_type": "code",
   "execution_count": 45,
   "id": "5626aa99",
   "metadata": {},
   "outputs": [],
   "source": [
    "loan_df8['lc_month'] = loan_df8['last_credit_pull_d'].apply(lambda x:x.month)\n",
    "loan_df8['lc_year'] = loan_df8['last_credit_pull_d'].apply(lambda x:x.year)"
   ]
  },
  {
   "cell_type": "code",
   "execution_count": 46,
   "id": "83af358b",
   "metadata": {},
   "outputs": [],
   "source": [
    "loan_df11 = loan_df10.drop(['last_pymnt_d','last_credit_pull_d'],axis=1)"
   ]
  },
  {
   "cell_type": "code",
   "execution_count": null,
   "id": "1dfd722d",
   "metadata": {},
   "outputs": [],
   "source": []
  },
  {
   "cell_type": "markdown",
   "id": "8c7b92d2",
   "metadata": {},
   "source": [
    "#### dropping the earliest_cr_line"
   ]
  },
  {
   "cell_type": "code",
   "execution_count": 47,
   "id": "46e6fdef",
   "metadata": {},
   "outputs": [],
   "source": [
    "loan_df12 = loan_df11.drop('earliest_cr_line',axis=1)"
   ]
  },
  {
   "cell_type": "code",
   "execution_count": null,
   "id": "08e5aaa1",
   "metadata": {},
   "outputs": [],
   "source": []
  },
  {
   "cell_type": "markdown",
   "id": "8c974439",
   "metadata": {},
   "source": [
    "#### dropping tne title column"
   ]
  },
  {
   "cell_type": "code",
   "execution_count": 48,
   "id": "348ffc94",
   "metadata": {},
   "outputs": [],
   "source": [
    "loan_df13 = loan_df12.drop('title',axis=1)"
   ]
  },
  {
   "cell_type": "code",
   "execution_count": null,
   "id": "d987991d",
   "metadata": {},
   "outputs": [],
   "source": []
  },
  {
   "cell_type": "markdown",
   "id": "5d6784a6",
   "metadata": {},
   "source": [
    "#### store the independent variables into x and dependent variable to y"
   ]
  },
  {
   "cell_type": "code",
   "execution_count": 49,
   "id": "849a5e52",
   "metadata": {},
   "outputs": [],
   "source": [
    "x = loan_df13.drop(\"loan_status\",axis=1)\n",
    "y = loan_df13['loan_status']"
   ]
  },
  {
   "cell_type": "markdown",
   "id": "9ef226dd",
   "metadata": {},
   "source": [
    "#### do the one hot encoding for the rest of the object columns"
   ]
  },
  {
   "cell_type": "code",
   "execution_count": 50,
   "id": "c04f94e7",
   "metadata": {},
   "outputs": [],
   "source": [
    "x = pd.get_dummies(x)"
   ]
  },
  {
   "cell_type": "markdown",
   "id": "2483d46c",
   "metadata": {},
   "source": [
    "#### devide the data into train. test"
   ]
  },
  {
   "cell_type": "code",
   "execution_count": 51,
   "id": "00a3f418",
   "metadata": {},
   "outputs": [],
   "source": [
    "from sklearn.model_selection import train_test_split"
   ]
  },
  {
   "cell_type": "code",
   "execution_count": 52,
   "id": "d8617530",
   "metadata": {},
   "outputs": [],
   "source": [
    "x_train, x_test, y_train, y_test = train_test_split(x,\n",
    "                                                    y,\n",
    "                                                    test_size=0.2,\n",
    "                                                    random_state=43)"
   ]
  },
  {
   "cell_type": "code",
   "execution_count": 53,
   "id": "ada13e0d",
   "metadata": {},
   "outputs": [],
   "source": [
    "num_cols = x_train.columns[:35]"
   ]
  },
  {
   "cell_type": "code",
   "execution_count": 54,
   "id": "76b507ef",
   "metadata": {},
   "outputs": [
    {
     "data": {
      "text/plain": [
       "Index(['loan_amnt', 'funded_amnt', 'funded_amnt_inv', 'term', 'int_rate',\n",
       "       'installment', 'emp_length', 'annual_inc', 'dti', 'delinq_2yrs',\n",
       "       'inq_last_6mths', 'open_acc', 'pub_rec', 'revol_bal', 'revol_util',\n",
       "       'total_acc', 'out_prncp', 'out_prncp_inv', 'total_pymnt',\n",
       "       'total_pymnt_inv', 'total_rec_prncp', 'total_rec_int',\n",
       "       'total_rec_late_fee', 'recoveries', 'collection_recovery_fee',\n",
       "       'last_pymnt_amnt', 'collections_12_mths_ex_med', 'policy_code',\n",
       "       'acc_now_delinq', 'chargeoff_within_12_mths', 'delinq_amnt',\n",
       "       'pub_rec_bankruptcies', 'tax_liens', 'month', 'year'],\n",
       "      dtype='object')"
      ]
     },
     "execution_count": 54,
     "metadata": {},
     "output_type": "execute_result"
    }
   ],
   "source": [
    "x_train.columns[:35]"
   ]
  },
  {
   "cell_type": "markdown",
   "id": "a101cc3b",
   "metadata": {},
   "source": [
    "### standard scaling"
   ]
  },
  {
   "cell_type": "code",
   "execution_count": 55,
   "id": "284ad339",
   "metadata": {},
   "outputs": [],
   "source": [
    "from sklearn.preprocessing import StandardScaler\n",
    "sc = StandardScaler()\n",
    "\n",
    "x_train.loc[:,num_cols] = sc.fit_transform(x_train[num_cols])\n",
    "x_test.loc[:,num_cols] = sc.fit_transform(x_test[num_cols])"
   ]
  },
  {
   "cell_type": "code",
   "execution_count": null,
   "id": "4bee720f",
   "metadata": {},
   "outputs": [],
   "source": []
  },
  {
   "cell_type": "code",
   "execution_count": null,
   "id": "ced5509a",
   "metadata": {},
   "outputs": [],
   "source": []
  }
 ],
 "metadata": {
  "kernelspec": {
   "display_name": "Python 3 (ipykernel)",
   "language": "python",
   "name": "python3"
  },
  "language_info": {
   "codemirror_mode": {
    "name": "ipython",
    "version": 3
   },
   "file_extension": ".py",
   "mimetype": "text/x-python",
   "name": "python",
   "nbconvert_exporter": "python",
   "pygments_lexer": "ipython3",
   "version": "3.9.7"
  }
 },
 "nbformat": 4,
 "nbformat_minor": 5
}
