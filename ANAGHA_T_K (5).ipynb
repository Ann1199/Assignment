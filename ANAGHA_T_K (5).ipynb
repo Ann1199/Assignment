{
  "nbformat": 4,
  "nbformat_minor": 0,
  "metadata": {
    "colab": {
      "provenance": []
    },
    "kernelspec": {
      "name": "python3",
      "display_name": "Python 3"
    },
    "language_info": {
      "name": "python"
    }
  },
  "cells": [
    {
      "cell_type": "markdown",
      "source": [
        " Importing the libraries"
      ],
      "metadata": {
        "id": "KNwL6hZtC5kB"
      }
    },
    {
      "cell_type": "code",
      "execution_count": 4,
      "metadata": {
        "id": "IPJc8357_qjH"
      },
      "outputs": [],
      "source": [
        "import numpy as np\n",
        "import pandas as pd\n",
        "import seaborn as sns\n",
        "import matplotlib.pyplot as plt"
      ]
    },
    {
      "cell_type": "markdown",
      "source": [
        "Loading the Dataset"
      ],
      "metadata": {
        "id": "pUmtag1iDBBI"
      }
    },
    {
      "cell_type": "code",
      "source": [
        "data=pd.read_csv('/content/titanic_dataset (2).csv',index_col='PassengerId')"
      ],
      "metadata": {
        "id": "bW4GI5Et__Zh"
      },
      "execution_count": 5,
      "outputs": []
    },
    {
      "cell_type": "code",
      "source": [
        "data.head()"
      ],
      "metadata": {
        "colab": {
          "base_uri": "https://localhost:8080/",
          "height": 334
        },
        "id": "7iVulWZaAMVV",
        "outputId": "6da3a069-9b3e-4f8e-e9e8-108d01ffda69"
      },
      "execution_count": 6,
      "outputs": [
        {
          "output_type": "execute_result",
          "data": {
            "text/plain": [
              "             Survived  Pclass  \\\n",
              "PassengerId                     \n",
              "1                   0       3   \n",
              "2                   1       1   \n",
              "3                   1       3   \n",
              "4                   1       1   \n",
              "5                   0       3   \n",
              "\n",
              "                                                          Name     Sex   Age  \\\n",
              "PassengerId                                                                    \n",
              "1                                      Braund, Mr. Owen Harris    male  22.0   \n",
              "2            Cumings, Mrs. John Bradley (Florence Briggs Th...  female  38.0   \n",
              "3                                       Heikkinen, Miss. Laina  female  26.0   \n",
              "4                 Futrelle, Mrs. Jacques Heath (Lily May Peel)  female  35.0   \n",
              "5                                     Allen, Mr. William Henry    male  35.0   \n",
              "\n",
              "             SibSp  Parch            Ticket     Fare Cabin Embarked  \n",
              "PassengerId                                                          \n",
              "1                1      0         A/5 21171   7.2500   NaN        S  \n",
              "2                1      0          PC 17599  71.2833   C85        C  \n",
              "3                0      0  STON/O2. 3101282   7.9250   NaN        S  \n",
              "4                1      0            113803  53.1000  C123        S  \n",
              "5                0      0            373450   8.0500   NaN        S  "
            ],
            "text/html": [
              "\n",
              "  <div id=\"df-64e2a345-bbc7-4807-bf59-d00de9c7c897\">\n",
              "    <div class=\"colab-df-container\">\n",
              "      <div>\n",
              "<style scoped>\n",
              "    .dataframe tbody tr th:only-of-type {\n",
              "        vertical-align: middle;\n",
              "    }\n",
              "\n",
              "    .dataframe tbody tr th {\n",
              "        vertical-align: top;\n",
              "    }\n",
              "\n",
              "    .dataframe thead th {\n",
              "        text-align: right;\n",
              "    }\n",
              "</style>\n",
              "<table border=\"1\" class=\"dataframe\">\n",
              "  <thead>\n",
              "    <tr style=\"text-align: right;\">\n",
              "      <th></th>\n",
              "      <th>Survived</th>\n",
              "      <th>Pclass</th>\n",
              "      <th>Name</th>\n",
              "      <th>Sex</th>\n",
              "      <th>Age</th>\n",
              "      <th>SibSp</th>\n",
              "      <th>Parch</th>\n",
              "      <th>Ticket</th>\n",
              "      <th>Fare</th>\n",
              "      <th>Cabin</th>\n",
              "      <th>Embarked</th>\n",
              "    </tr>\n",
              "    <tr>\n",
              "      <th>PassengerId</th>\n",
              "      <th></th>\n",
              "      <th></th>\n",
              "      <th></th>\n",
              "      <th></th>\n",
              "      <th></th>\n",
              "      <th></th>\n",
              "      <th></th>\n",
              "      <th></th>\n",
              "      <th></th>\n",
              "      <th></th>\n",
              "      <th></th>\n",
              "    </tr>\n",
              "  </thead>\n",
              "  <tbody>\n",
              "    <tr>\n",
              "      <th>1</th>\n",
              "      <td>0</td>\n",
              "      <td>3</td>\n",
              "      <td>Braund, Mr. Owen Harris</td>\n",
              "      <td>male</td>\n",
              "      <td>22.0</td>\n",
              "      <td>1</td>\n",
              "      <td>0</td>\n",
              "      <td>A/5 21171</td>\n",
              "      <td>7.2500</td>\n",
              "      <td>NaN</td>\n",
              "      <td>S</td>\n",
              "    </tr>\n",
              "    <tr>\n",
              "      <th>2</th>\n",
              "      <td>1</td>\n",
              "      <td>1</td>\n",
              "      <td>Cumings, Mrs. John Bradley (Florence Briggs Th...</td>\n",
              "      <td>female</td>\n",
              "      <td>38.0</td>\n",
              "      <td>1</td>\n",
              "      <td>0</td>\n",
              "      <td>PC 17599</td>\n",
              "      <td>71.2833</td>\n",
              "      <td>C85</td>\n",
              "      <td>C</td>\n",
              "    </tr>\n",
              "    <tr>\n",
              "      <th>3</th>\n",
              "      <td>1</td>\n",
              "      <td>3</td>\n",
              "      <td>Heikkinen, Miss. Laina</td>\n",
              "      <td>female</td>\n",
              "      <td>26.0</td>\n",
              "      <td>0</td>\n",
              "      <td>0</td>\n",
              "      <td>STON/O2. 3101282</td>\n",
              "      <td>7.9250</td>\n",
              "      <td>NaN</td>\n",
              "      <td>S</td>\n",
              "    </tr>\n",
              "    <tr>\n",
              "      <th>4</th>\n",
              "      <td>1</td>\n",
              "      <td>1</td>\n",
              "      <td>Futrelle, Mrs. Jacques Heath (Lily May Peel)</td>\n",
              "      <td>female</td>\n",
              "      <td>35.0</td>\n",
              "      <td>1</td>\n",
              "      <td>0</td>\n",
              "      <td>113803</td>\n",
              "      <td>53.1000</td>\n",
              "      <td>C123</td>\n",
              "      <td>S</td>\n",
              "    </tr>\n",
              "    <tr>\n",
              "      <th>5</th>\n",
              "      <td>0</td>\n",
              "      <td>3</td>\n",
              "      <td>Allen, Mr. William Henry</td>\n",
              "      <td>male</td>\n",
              "      <td>35.0</td>\n",
              "      <td>0</td>\n",
              "      <td>0</td>\n",
              "      <td>373450</td>\n",
              "      <td>8.0500</td>\n",
              "      <td>NaN</td>\n",
              "      <td>S</td>\n",
              "    </tr>\n",
              "  </tbody>\n",
              "</table>\n",
              "</div>\n",
              "      <button class=\"colab-df-convert\" onclick=\"convertToInteractive('df-64e2a345-bbc7-4807-bf59-d00de9c7c897')\"\n",
              "              title=\"Convert this dataframe to an interactive table.\"\n",
              "              style=\"display:none;\">\n",
              "        \n",
              "  <svg xmlns=\"http://www.w3.org/2000/svg\" height=\"24px\"viewBox=\"0 0 24 24\"\n",
              "       width=\"24px\">\n",
              "    <path d=\"M0 0h24v24H0V0z\" fill=\"none\"/>\n",
              "    <path d=\"M18.56 5.44l.94 2.06.94-2.06 2.06-.94-2.06-.94-.94-2.06-.94 2.06-2.06.94zm-11 1L8.5 8.5l.94-2.06 2.06-.94-2.06-.94L8.5 2.5l-.94 2.06-2.06.94zm10 10l.94 2.06.94-2.06 2.06-.94-2.06-.94-.94-2.06-.94 2.06-2.06.94z\"/><path d=\"M17.41 7.96l-1.37-1.37c-.4-.4-.92-.59-1.43-.59-.52 0-1.04.2-1.43.59L10.3 9.45l-7.72 7.72c-.78.78-.78 2.05 0 2.83L4 21.41c.39.39.9.59 1.41.59.51 0 1.02-.2 1.41-.59l7.78-7.78 2.81-2.81c.8-.78.8-2.07 0-2.86zM5.41 20L4 18.59l7.72-7.72 1.47 1.35L5.41 20z\"/>\n",
              "  </svg>\n",
              "      </button>\n",
              "      \n",
              "  <style>\n",
              "    .colab-df-container {\n",
              "      display:flex;\n",
              "      flex-wrap:wrap;\n",
              "      gap: 12px;\n",
              "    }\n",
              "\n",
              "    .colab-df-convert {\n",
              "      background-color: #E8F0FE;\n",
              "      border: none;\n",
              "      border-radius: 50%;\n",
              "      cursor: pointer;\n",
              "      display: none;\n",
              "      fill: #1967D2;\n",
              "      height: 32px;\n",
              "      padding: 0 0 0 0;\n",
              "      width: 32px;\n",
              "    }\n",
              "\n",
              "    .colab-df-convert:hover {\n",
              "      background-color: #E2EBFA;\n",
              "      box-shadow: 0px 1px 2px rgba(60, 64, 67, 0.3), 0px 1px 3px 1px rgba(60, 64, 67, 0.15);\n",
              "      fill: #174EA6;\n",
              "    }\n",
              "\n",
              "    [theme=dark] .colab-df-convert {\n",
              "      background-color: #3B4455;\n",
              "      fill: #D2E3FC;\n",
              "    }\n",
              "\n",
              "    [theme=dark] .colab-df-convert:hover {\n",
              "      background-color: #434B5C;\n",
              "      box-shadow: 0px 1px 3px 1px rgba(0, 0, 0, 0.15);\n",
              "      filter: drop-shadow(0px 1px 2px rgba(0, 0, 0, 0.3));\n",
              "      fill: #FFFFFF;\n",
              "    }\n",
              "  </style>\n",
              "\n",
              "      <script>\n",
              "        const buttonEl =\n",
              "          document.querySelector('#df-64e2a345-bbc7-4807-bf59-d00de9c7c897 button.colab-df-convert');\n",
              "        buttonEl.style.display =\n",
              "          google.colab.kernel.accessAllowed ? 'block' : 'none';\n",
              "\n",
              "        async function convertToInteractive(key) {\n",
              "          const element = document.querySelector('#df-64e2a345-bbc7-4807-bf59-d00de9c7c897');\n",
              "          const dataTable =\n",
              "            await google.colab.kernel.invokeFunction('convertToInteractive',\n",
              "                                                     [key], {});\n",
              "          if (!dataTable) return;\n",
              "\n",
              "          const docLinkHtml = 'Like what you see? Visit the ' +\n",
              "            '<a target=\"_blank\" href=https://colab.research.google.com/notebooks/data_table.ipynb>data table notebook</a>'\n",
              "            + ' to learn more about interactive tables.';\n",
              "          element.innerHTML = '';\n",
              "          dataTable['output_type'] = 'display_data';\n",
              "          await google.colab.output.renderOutput(dataTable, element);\n",
              "          const docLink = document.createElement('div');\n",
              "          docLink.innerHTML = docLinkHtml;\n",
              "          element.appendChild(docLink);\n",
              "        }\n",
              "      </script>\n",
              "    </div>\n",
              "  </div>\n",
              "  "
            ]
          },
          "metadata": {},
          "execution_count": 6
        }
      ]
    },
    {
      "cell_type": "markdown",
      "source": [
        "Data Preprocessing"
      ],
      "metadata": {
        "id": "R_JXG6uSDdw3"
      }
    },
    {
      "cell_type": "code",
      "source": [
        "data.dtypes"
      ],
      "metadata": {
        "colab": {
          "base_uri": "https://localhost:8080/"
        },
        "id": "iYG3GCsjANk4",
        "outputId": "79d73cc0-2a02-4026-fcb3-6241f31b1796"
      },
      "execution_count": 7,
      "outputs": [
        {
          "output_type": "execute_result",
          "data": {
            "text/plain": [
              "Survived      int64\n",
              "Pclass        int64\n",
              "Name         object\n",
              "Sex          object\n",
              "Age         float64\n",
              "SibSp         int64\n",
              "Parch         int64\n",
              "Ticket       object\n",
              "Fare        float64\n",
              "Cabin        object\n",
              "Embarked     object\n",
              "dtype: object"
            ]
          },
          "metadata": {},
          "execution_count": 7
        }
      ]
    },
    {
      "cell_type": "code",
      "source": [
        "data.columns"
      ],
      "metadata": {
        "colab": {
          "base_uri": "https://localhost:8080/"
        },
        "id": "ED5osCX_AW9_",
        "outputId": "1febef59-8c79-4ec6-e2e1-9deb94a3beb3"
      },
      "execution_count": 8,
      "outputs": [
        {
          "output_type": "execute_result",
          "data": {
            "text/plain": [
              "Index(['Survived', 'Pclass', 'Name', 'Sex', 'Age', 'SibSp', 'Parch', 'Ticket',\n",
              "       'Fare', 'Cabin', 'Embarked'],\n",
              "      dtype='object')"
            ]
          },
          "metadata": {},
          "execution_count": 8
        }
      ]
    },
    {
      "cell_type": "code",
      "source": [
        "data.isna().sum()"
      ],
      "metadata": {
        "colab": {
          "base_uri": "https://localhost:8080/"
        },
        "id": "kqz1akRrBiZ5",
        "outputId": "f3b242a6-48b2-45f5-f8ef-9039dded621d"
      },
      "execution_count": 9,
      "outputs": [
        {
          "output_type": "execute_result",
          "data": {
            "text/plain": [
              "Survived      0\n",
              "Pclass        0\n",
              "Name          0\n",
              "Sex           0\n",
              "Age         177\n",
              "SibSp         0\n",
              "Parch         0\n",
              "Ticket        0\n",
              "Fare          0\n",
              "Cabin       687\n",
              "Embarked      2\n",
              "dtype: int64"
            ]
          },
          "metadata": {},
          "execution_count": 9
        }
      ]
    },
    {
      "cell_type": "markdown",
      "source": [
        "Label Encoding"
      ],
      "metadata": {
        "id": "9qHbOb2aDYIU"
      }
    },
    {
      "cell_type": "code",
      "source": [
        "from sklearn.preprocessing import LabelEncoder\n",
        "label_encoder=LabelEncoder()\n",
        "data['Name']=label_encoder.fit_transform(data['Name'])\n",
        "data['Sex']=label_encoder.fit_transform(data['Sex'])\n",
        "data['Ticket']=label_encoder.fit_transform(data['Ticket'])\n",
        "data['Cabin']=label_encoder.fit_transform(data['Cabin'])\n",
        "data['Embarked']=label_encoder.fit_transform(data['Embarked'])"
      ],
      "metadata": {
        "id": "zPNIhWqaB1H1"
      },
      "execution_count": 10,
      "outputs": []
    },
    {
      "cell_type": "code",
      "source": [
        "data['Age'] = data['Age'].fillna(data['Age'].mode()[0])\n",
        "data['Embarked'] = data['Embarked'].fillna(data['Embarked'].mode()[0])"
      ],
      "metadata": {
        "id": "Vn-VPuSCCFf3"
      },
      "execution_count": 11,
      "outputs": []
    },
    {
      "cell_type": "code",
      "source": [
        "data['Cabin'] = data['Cabin'].fillna('Missing')"
      ],
      "metadata": {
        "id": "udQpR245Chrd"
      },
      "execution_count": 12,
      "outputs": []
    },
    {
      "cell_type": "code",
      "source": [
        "data.head()"
      ],
      "metadata": {
        "colab": {
          "base_uri": "https://localhost:8080/",
          "height": 238
        },
        "id": "bHQQd5BhAeKm",
        "outputId": "fc1bf2a5-4ade-4ca5-ec45-278309e94753"
      },
      "execution_count": 13,
      "outputs": [
        {
          "output_type": "execute_result",
          "data": {
            "text/plain": [
              "             Survived  Pclass  Name  Sex   Age  SibSp  Parch  Ticket     Fare  \\\n",
              "PassengerId                                                                     \n",
              "1                   0       3   108    1  22.0      1      0     523   7.2500   \n",
              "2                   1       1   190    0  38.0      1      0     596  71.2833   \n",
              "3                   1       3   353    0  26.0      0      0     669   7.9250   \n",
              "4                   1       1   272    0  35.0      1      0      49  53.1000   \n",
              "5                   0       3    15    1  35.0      0      0     472   8.0500   \n",
              "\n",
              "             Cabin  Embarked  \n",
              "PassengerId                   \n",
              "1              147         2  \n",
              "2               81         0  \n",
              "3              147         2  \n",
              "4               55         2  \n",
              "5              147         2  "
            ],
            "text/html": [
              "\n",
              "  <div id=\"df-ce7711c2-89d4-48f8-830f-c8043b93a945\">\n",
              "    <div class=\"colab-df-container\">\n",
              "      <div>\n",
              "<style scoped>\n",
              "    .dataframe tbody tr th:only-of-type {\n",
              "        vertical-align: middle;\n",
              "    }\n",
              "\n",
              "    .dataframe tbody tr th {\n",
              "        vertical-align: top;\n",
              "    }\n",
              "\n",
              "    .dataframe thead th {\n",
              "        text-align: right;\n",
              "    }\n",
              "</style>\n",
              "<table border=\"1\" class=\"dataframe\">\n",
              "  <thead>\n",
              "    <tr style=\"text-align: right;\">\n",
              "      <th></th>\n",
              "      <th>Survived</th>\n",
              "      <th>Pclass</th>\n",
              "      <th>Name</th>\n",
              "      <th>Sex</th>\n",
              "      <th>Age</th>\n",
              "      <th>SibSp</th>\n",
              "      <th>Parch</th>\n",
              "      <th>Ticket</th>\n",
              "      <th>Fare</th>\n",
              "      <th>Cabin</th>\n",
              "      <th>Embarked</th>\n",
              "    </tr>\n",
              "    <tr>\n",
              "      <th>PassengerId</th>\n",
              "      <th></th>\n",
              "      <th></th>\n",
              "      <th></th>\n",
              "      <th></th>\n",
              "      <th></th>\n",
              "      <th></th>\n",
              "      <th></th>\n",
              "      <th></th>\n",
              "      <th></th>\n",
              "      <th></th>\n",
              "      <th></th>\n",
              "    </tr>\n",
              "  </thead>\n",
              "  <tbody>\n",
              "    <tr>\n",
              "      <th>1</th>\n",
              "      <td>0</td>\n",
              "      <td>3</td>\n",
              "      <td>108</td>\n",
              "      <td>1</td>\n",
              "      <td>22.0</td>\n",
              "      <td>1</td>\n",
              "      <td>0</td>\n",
              "      <td>523</td>\n",
              "      <td>7.2500</td>\n",
              "      <td>147</td>\n",
              "      <td>2</td>\n",
              "    </tr>\n",
              "    <tr>\n",
              "      <th>2</th>\n",
              "      <td>1</td>\n",
              "      <td>1</td>\n",
              "      <td>190</td>\n",
              "      <td>0</td>\n",
              "      <td>38.0</td>\n",
              "      <td>1</td>\n",
              "      <td>0</td>\n",
              "      <td>596</td>\n",
              "      <td>71.2833</td>\n",
              "      <td>81</td>\n",
              "      <td>0</td>\n",
              "    </tr>\n",
              "    <tr>\n",
              "      <th>3</th>\n",
              "      <td>1</td>\n",
              "      <td>3</td>\n",
              "      <td>353</td>\n",
              "      <td>0</td>\n",
              "      <td>26.0</td>\n",
              "      <td>0</td>\n",
              "      <td>0</td>\n",
              "      <td>669</td>\n",
              "      <td>7.9250</td>\n",
              "      <td>147</td>\n",
              "      <td>2</td>\n",
              "    </tr>\n",
              "    <tr>\n",
              "      <th>4</th>\n",
              "      <td>1</td>\n",
              "      <td>1</td>\n",
              "      <td>272</td>\n",
              "      <td>0</td>\n",
              "      <td>35.0</td>\n",
              "      <td>1</td>\n",
              "      <td>0</td>\n",
              "      <td>49</td>\n",
              "      <td>53.1000</td>\n",
              "      <td>55</td>\n",
              "      <td>2</td>\n",
              "    </tr>\n",
              "    <tr>\n",
              "      <th>5</th>\n",
              "      <td>0</td>\n",
              "      <td>3</td>\n",
              "      <td>15</td>\n",
              "      <td>1</td>\n",
              "      <td>35.0</td>\n",
              "      <td>0</td>\n",
              "      <td>0</td>\n",
              "      <td>472</td>\n",
              "      <td>8.0500</td>\n",
              "      <td>147</td>\n",
              "      <td>2</td>\n",
              "    </tr>\n",
              "  </tbody>\n",
              "</table>\n",
              "</div>\n",
              "      <button class=\"colab-df-convert\" onclick=\"convertToInteractive('df-ce7711c2-89d4-48f8-830f-c8043b93a945')\"\n",
              "              title=\"Convert this dataframe to an interactive table.\"\n",
              "              style=\"display:none;\">\n",
              "        \n",
              "  <svg xmlns=\"http://www.w3.org/2000/svg\" height=\"24px\"viewBox=\"0 0 24 24\"\n",
              "       width=\"24px\">\n",
              "    <path d=\"M0 0h24v24H0V0z\" fill=\"none\"/>\n",
              "    <path d=\"M18.56 5.44l.94 2.06.94-2.06 2.06-.94-2.06-.94-.94-2.06-.94 2.06-2.06.94zm-11 1L8.5 8.5l.94-2.06 2.06-.94-2.06-.94L8.5 2.5l-.94 2.06-2.06.94zm10 10l.94 2.06.94-2.06 2.06-.94-2.06-.94-.94-2.06-.94 2.06-2.06.94z\"/><path d=\"M17.41 7.96l-1.37-1.37c-.4-.4-.92-.59-1.43-.59-.52 0-1.04.2-1.43.59L10.3 9.45l-7.72 7.72c-.78.78-.78 2.05 0 2.83L4 21.41c.39.39.9.59 1.41.59.51 0 1.02-.2 1.41-.59l7.78-7.78 2.81-2.81c.8-.78.8-2.07 0-2.86zM5.41 20L4 18.59l7.72-7.72 1.47 1.35L5.41 20z\"/>\n",
              "  </svg>\n",
              "      </button>\n",
              "      \n",
              "  <style>\n",
              "    .colab-df-container {\n",
              "      display:flex;\n",
              "      flex-wrap:wrap;\n",
              "      gap: 12px;\n",
              "    }\n",
              "\n",
              "    .colab-df-convert {\n",
              "      background-color: #E8F0FE;\n",
              "      border: none;\n",
              "      border-radius: 50%;\n",
              "      cursor: pointer;\n",
              "      display: none;\n",
              "      fill: #1967D2;\n",
              "      height: 32px;\n",
              "      padding: 0 0 0 0;\n",
              "      width: 32px;\n",
              "    }\n",
              "\n",
              "    .colab-df-convert:hover {\n",
              "      background-color: #E2EBFA;\n",
              "      box-shadow: 0px 1px 2px rgba(60, 64, 67, 0.3), 0px 1px 3px 1px rgba(60, 64, 67, 0.15);\n",
              "      fill: #174EA6;\n",
              "    }\n",
              "\n",
              "    [theme=dark] .colab-df-convert {\n",
              "      background-color: #3B4455;\n",
              "      fill: #D2E3FC;\n",
              "    }\n",
              "\n",
              "    [theme=dark] .colab-df-convert:hover {\n",
              "      background-color: #434B5C;\n",
              "      box-shadow: 0px 1px 3px 1px rgba(0, 0, 0, 0.15);\n",
              "      filter: drop-shadow(0px 1px 2px rgba(0, 0, 0, 0.3));\n",
              "      fill: #FFFFFF;\n",
              "    }\n",
              "  </style>\n",
              "\n",
              "      <script>\n",
              "        const buttonEl =\n",
              "          document.querySelector('#df-ce7711c2-89d4-48f8-830f-c8043b93a945 button.colab-df-convert');\n",
              "        buttonEl.style.display =\n",
              "          google.colab.kernel.accessAllowed ? 'block' : 'none';\n",
              "\n",
              "        async function convertToInteractive(key) {\n",
              "          const element = document.querySelector('#df-ce7711c2-89d4-48f8-830f-c8043b93a945');\n",
              "          const dataTable =\n",
              "            await google.colab.kernel.invokeFunction('convertToInteractive',\n",
              "                                                     [key], {});\n",
              "          if (!dataTable) return;\n",
              "\n",
              "          const docLinkHtml = 'Like what you see? Visit the ' +\n",
              "            '<a target=\"_blank\" href=https://colab.research.google.com/notebooks/data_table.ipynb>data table notebook</a>'\n",
              "            + ' to learn more about interactive tables.';\n",
              "          element.innerHTML = '';\n",
              "          dataTable['output_type'] = 'display_data';\n",
              "          await google.colab.output.renderOutput(dataTable, element);\n",
              "          const docLink = document.createElement('div');\n",
              "          docLink.innerHTML = docLinkHtml;\n",
              "          element.appendChild(docLink);\n",
              "        }\n",
              "      </script>\n",
              "    </div>\n",
              "  </div>\n",
              "  "
            ]
          },
          "metadata": {},
          "execution_count": 13
        }
      ]
    },
    {
      "cell_type": "code",
      "source": [
        "data.isna().sum()"
      ],
      "metadata": {
        "colab": {
          "base_uri": "https://localhost:8080/"
        },
        "id": "s3UKooT2AsQU",
        "outputId": "b9a4e5e7-f6d2-4585-d6b9-bc4641740684"
      },
      "execution_count": 14,
      "outputs": [
        {
          "output_type": "execute_result",
          "data": {
            "text/plain": [
              "Survived    0\n",
              "Pclass      0\n",
              "Name        0\n",
              "Sex         0\n",
              "Age         0\n",
              "SibSp       0\n",
              "Parch       0\n",
              "Ticket      0\n",
              "Fare        0\n",
              "Cabin       0\n",
              "Embarked    0\n",
              "dtype: int64"
            ]
          },
          "metadata": {},
          "execution_count": 14
        }
      ]
    },
    {
      "cell_type": "code",
      "source": [
        "data.columns"
      ],
      "metadata": {
        "colab": {
          "base_uri": "https://localhost:8080/"
        },
        "id": "n-N4C7fTXT7L",
        "outputId": "b5a91fe5-0c4f-4a75-e4d1-929b1397e6c4"
      },
      "execution_count": 15,
      "outputs": [
        {
          "output_type": "execute_result",
          "data": {
            "text/plain": [
              "Index(['Survived', 'Pclass', 'Name', 'Sex', 'Age', 'SibSp', 'Parch', 'Ticket',\n",
              "       'Fare', 'Cabin', 'Embarked'],\n",
              "      dtype='object')"
            ]
          },
          "metadata": {},
          "execution_count": 15
        }
      ]
    },
    {
      "cell_type": "markdown",
      "source": [
        "kNN Model"
      ],
      "metadata": {
        "id": "e_gO9E5qD3ZW"
      }
    },
    {
      "cell_type": "code",
      "source": [
        "X1=data.drop(['Name',\"Sex\",\"Ticket\",\"Cabin\",\"Embarked\"],axis=1)"
      ],
      "metadata": {
        "id": "VCnVnWcYYSWc"
      },
      "execution_count": 16,
      "outputs": []
    },
    {
      "cell_type": "code",
      "source": [
        "X=X1.drop([\"Survived\"],axis=1)\n",
        "Y=X1['Survived']"
      ],
      "metadata": {
        "id": "lgZ38ArSYUAo"
      },
      "execution_count": 17,
      "outputs": []
    },
    {
      "cell_type": "code",
      "source": [
        "from sklearn.model_selection import train_test_split\n",
        "X_train,X_test,Y_train,Y_test = train_test_split(X,Y,random_state=42,test_size=0.2)"
      ],
      "metadata": {
        "id": "ieqsaVsUYHBI"
      },
      "execution_count": 18,
      "outputs": []
    },
    {
      "cell_type": "code",
      "source": [
        "from sklearn.neighbors import KNeighborsClassifier"
      ],
      "metadata": {
        "id": "DnCpiEdoCx-c"
      },
      "execution_count": 19,
      "outputs": []
    },
    {
      "cell_type": "code",
      "source": [
        "from sklearn.metrics import precision_score,recall_score,accuracy_score"
      ],
      "metadata": {
        "id": "dBI-l3zKYqbf"
      },
      "execution_count": 20,
      "outputs": []
    },
    {
      "cell_type": "code",
      "source": [
        "metric_k=[]\n",
        "neighbors=range(3,15)\n",
        "\n",
        "for k in neighbors:\n",
        "  classifier = KNeighborsClassifier(n_neighbors=k)\n",
        "  classifier = classifier.fit(X_train,Y_train)\n",
        "  y_pred_kNN = classifier.predict(X_test)\n",
        "  acc = accuracy_score(Y_test,y_pred_kNN)\n",
        "  metric_k.append(acc)"
      ],
      "metadata": {
        "id": "K88xzSIVXCo_"
      },
      "execution_count": 21,
      "outputs": []
    },
    {
      "cell_type": "code",
      "source": [
        "metric_k"
      ],
      "metadata": {
        "colab": {
          "base_uri": "https://localhost:8080/"
        },
        "id": "t3k9ffsLXNbo",
        "outputId": "86cfb6b0-72aa-4ada-c469-05e58ec74631"
      },
      "execution_count": 22,
      "outputs": [
        {
          "output_type": "execute_result",
          "data": {
            "text/plain": [
              "[0.664804469273743,\n",
              " 0.664804469273743,\n",
              " 0.6759776536312849,\n",
              " 0.6983240223463687,\n",
              " 0.6983240223463687,\n",
              " 0.6871508379888268,\n",
              " 0.6815642458100558,\n",
              " 0.6815642458100558,\n",
              " 0.7150837988826816,\n",
              " 0.6983240223463687,\n",
              " 0.7150837988826816,\n",
              " 0.7039106145251397]"
            ]
          },
          "metadata": {},
          "execution_count": 22
        }
      ]
    },
    {
      "cell_type": "code",
      "source": [
        "plt.plot(neighbors,metric_k)\n",
        "plt.xlabel('k values')\n",
        "plt.ylabel('accuracies')\n",
        "plt.grid()"
      ],
      "metadata": {
        "colab": {
          "base_uri": "https://localhost:8080/",
          "height": 279
        },
        "id": "7aCMpQVJXOFp",
        "outputId": "d860683d-62bb-48d7-ff6b-1ff181472fbf"
      },
      "execution_count": 23,
      "outputs": [
        {
          "output_type": "display_data",
          "data": {
            "text/plain": [
              "<Figure size 432x288 with 1 Axes>"
            ],
            "image/png": "[encoded data removed]"
          },
          "metadata": {
            "needs_background": "light"
          }
        }
      ]
    },
    {
      "cell_type": "code",
      "source": [
        "accuracy_score(Y_test,y_pred_kNN)"
      ],
      "metadata": {
        "colab": {
          "base_uri": "https://localhost:8080/"
        },
        "id": "N2I6ti6nXhIX",
        "outputId": "035e07cc-fffb-4226-d66e-132c61c0124a"
      },
      "execution_count": 24,
      "outputs": [
        {
          "output_type": "execute_result",
          "data": {
            "text/plain": [
              "0.7039106145251397"
            ]
          },
          "metadata": {},
          "execution_count": 24
        }
      ]
    },
    {
      "cell_type": "code",
      "source": [
        "precision_score(Y_test,y_pred_kNN)"
      ],
      "metadata": {
        "colab": {
          "base_uri": "https://localhost:8080/"
        },
        "id": "KkXit52qY0gf",
        "outputId": "c0cbe23d-3595-428f-c17c-961c8e7d92c5"
      },
      "execution_count": 25,
      "outputs": [
        {
          "output_type": "execute_result",
          "data": {
            "text/plain": [
              "0.7560975609756098"
            ]
          },
          "metadata": {},
          "execution_count": 25
        }
      ]
    },
    {
      "cell_type": "code",
      "source": [
        "recall_score(Y_test,y_pred_kNN)"
      ],
      "metadata": {
        "colab": {
          "base_uri": "https://localhost:8080/"
        },
        "id": "jdFXS3KWZCi6",
        "outputId": "51c902e8-511b-477c-d644-e520f7855c1f"
      },
      "execution_count": 26,
      "outputs": [
        {
          "output_type": "execute_result",
          "data": {
            "text/plain": [
              "0.4189189189189189"
            ]
          },
          "metadata": {},
          "execution_count": 26
        }
      ]
    },
    {
      "cell_type": "code",
      "source": [
        "from sklearn.metrics import confusion_matrix"
      ],
      "metadata": {
        "id": "2cIpguMUZq1J"
      },
      "execution_count": 27,
      "outputs": []
    },
    {
      "cell_type": "code",
      "source": [
        "confusion_matrix(Y_test,y_pred_kNN)"
      ],
      "metadata": {
        "colab": {
          "base_uri": "https://localhost:8080/"
        },
        "id": "OWHc7lOhZV_T",
        "outputId": "018f724f-5cb3-472b-e1b1-fde79963780a"
      },
      "execution_count": 28,
      "outputs": [
        {
          "output_type": "execute_result",
          "data": {
            "text/plain": [
              "array([[95, 10],\n",
              "       [43, 31]])"
            ]
          },
          "metadata": {},
          "execution_count": 28
        }
      ]
    },
    {
      "cell_type": "markdown",
      "source": [
        "SVM Model"
      ],
      "metadata": {
        "id": "KQ1pAT_CZ-Si"
      }
    },
    {
      "cell_type": "code",
      "source": [
        "from sklearn.svm import SVC"
      ],
      "metadata": {
        "id": "GdJi_XCaajQi"
      },
      "execution_count": 29,
      "outputs": []
    },
    {
      "cell_type": "code",
      "source": [
        "svm_clf4=SVC(kernel='linear')\n",
        "svm_clf4= svm_clf4.fit(X_train,Y_train)\n",
        "Y_pred_svm4=svm_clf4.predict(X_test)"
      ],
      "metadata": {
        "id": "e4t4_IFuZYpD"
      },
      "execution_count": 30,
      "outputs": []
    },
    {
      "cell_type": "code",
      "source": [
        "svm_clf=SVC(kernel='linear')\n",
        "svm_clf = svm_clf.fit(X_train,Y_train)\n",
        "Y_pred_svm=svm_clf.predict(X_test)"
      ],
      "metadata": {
        "id": "dJviTCGhaQx-"
      },
      "execution_count": 31,
      "outputs": []
    },
    {
      "cell_type": "code",
      "source": [
        "confusion_matrix(Y_test,Y_pred_svm)"
      ],
      "metadata": {
        "colab": {
          "base_uri": "https://localhost:8080/"
        },
        "id": "MWogRxUYat2j",
        "outputId": "45ac7351-7adc-4e95-a50d-e062b344fe21"
      },
      "execution_count": 32,
      "outputs": [
        {
          "output_type": "execute_result",
          "data": {
            "text/plain": [
              "array([[89, 16],\n",
              "       [32, 42]])"
            ]
          },
          "metadata": {},
          "execution_count": 32
        }
      ]
    },
    {
      "cell_type": "code",
      "source": [
        "accuracy_score(Y_test,Y_pred_svm)"
      ],
      "metadata": {
        "colab": {
          "base_uri": "https://localhost:8080/"
        },
        "id": "S1K2OsIAaz8A",
        "outputId": "906032c4-be85-4228-b008-1b4bd11eac6e"
      },
      "execution_count": 33,
      "outputs": [
        {
          "output_type": "execute_result",
          "data": {
            "text/plain": [
              "0.7318435754189944"
            ]
          },
          "metadata": {},
          "execution_count": 33
        }
      ]
    },
    {
      "cell_type": "code",
      "source": [
        "svm_clf2=SVC(kernel='rbf')\n",
        "svm_clf2 = svm_clf2.fit(X_train,Y_train)\n",
        "Y_pred_svm2=svm_clf2.predict(X_test)"
      ],
      "metadata": {
        "id": "ehl7ehPMa80j"
      },
      "execution_count": 34,
      "outputs": []
    },
    {
      "cell_type": "code",
      "source": [
        "confusion_matrix(Y_test,Y_pred_svm2)"
      ],
      "metadata": {
        "colab": {
          "base_uri": "https://localhost:8080/"
        },
        "id": "aT-doE9xbAAY",
        "outputId": "826d940c-3f65-4cca-d53f-f061af38be4f"
      },
      "execution_count": 35,
      "outputs": [
        {
          "output_type": "execute_result",
          "data": {
            "text/plain": [
              "array([[99,  6],\n",
              "       [56, 18]])"
            ]
          },
          "metadata": {},
          "execution_count": 35
        }
      ]
    },
    {
      "cell_type": "code",
      "source": [
        "accuracy_score(Y_test,Y_pred_svm2)"
      ],
      "metadata": {
        "colab": {
          "base_uri": "https://localhost:8080/"
        },
        "id": "xYyhKhYabDKX",
        "outputId": "9696979c-430f-41b1-f352-6a5270074c94"
      },
      "execution_count": 36,
      "outputs": [
        {
          "output_type": "execute_result",
          "data": {
            "text/plain": [
              "0.6536312849162011"
            ]
          },
          "metadata": {},
          "execution_count": 36
        }
      ]
    },
    {
      "cell_type": "markdown",
      "source": [
        "K-Fold Cross Validation\n"
      ],
      "metadata": {
        "id": "EKkH4l-mb9xO"
      }
    },
    {
      "cell_type": "code",
      "source": [
        "from sklearn.model_selection import KFold"
      ],
      "metadata": {
        "id": "hUmpYz5FbG0o"
      },
      "execution_count": 37,
      "outputs": []
    },
    {
      "cell_type": "code",
      "source": [
        "kfold_validator=KFold(10)"
      ],
      "metadata": {
        "id": "F6rQJ_BxcG71"
      },
      "execution_count": 38,
      "outputs": []
    },
    {
      "cell_type": "code",
      "source": [
        "for train_index,test_index in kfold_validator.split(X,Y):\n",
        "  print('Training index:',train_index)\n",
        "  print('Test Index:',test_index)\n"
      ],
      "metadata": {
        "colab": {
          "base_uri": "https://localhost:8080/"
        },
        "id": "tXWodLPKcJIK",
        "outputId": "852a0ec8-878e-4bc9-d0fd-02a6546ed4ea"
      },
      "execution_count": 39,
      "outputs": [
        {
          "output_type": "stream",
          "name": "stdout",
          "text": [
            "Training index: [ 90  91  92  93  94  95  96  97  98  99 100 101 102 103 104 105 106 107\n",
            " 108 109 110 111 112 113 114 115 116 117 118 119 120 121 122 123 124 125\n",
            " 126 127 128 129 130 131 132 133 134 135 136 137 138 139 140 141 142 143\n",
            " 144 145 146 147 148 149 150 151 152 153 154 155 156 157 158 159 160 161\n",
            " 162 163 164 165 166 167 168 169 170 171 172 173 174 175 176 177 178 179\n",
            " 180 181 182 183 184 185 186 187 188 189 190 191 192 193 194 195 196 197\n",
            " 198 199 200 201 202 203 204 205 206 207 208 209 210 211 212 213 214 215\n",
            " 216 217 218 219 220 221 222 223 224 225 226 227 228 229 230 231 232 233\n",
            " 234 235 236 237 238 239 240 241 242 243 244 245 246 247 248 249 250 251\n",
            " 252 253 254 255 256 257 258 259 260 261 262 263 264 265 266 267 268 269\n",
            " 270 271 272 273 274 275 276 277 278 279 280 281 282 283 284 285 286 287\n",
            " 288 289 290 291 292 293 294 295 296 297 298 299 300 301 302 303 304 305\n",
            " 306 307 308 309 310 311 312 313 314 315 316 317 318 319 320 321 322 323\n",
            " 324 325 326 327 328 329 330 331 332 333 334 335 336 337 338 339 340 341\n",
            " 342 343 344 345 346 347 348 349 350 351 352 353 354 355 356 357 358 359\n",
            " 360 361 362 363 364 365 366 367 368 369 370 371 372 373 374 375 376 377\n",
            " 378 379 380 381 382 383 384 385 386 387 388 389 390 391 392 393 394 395\n",
            " 396 397 398 399 400 401 402 403 404 405 406 407 408 409 410 411 412 413\n",
            " 414 415 416 417 418 419 420 421 422 423 424 425 426 427 428 429 430 431\n",
            " 432 433 434 435 436 437 438 439 440 441 442 443 444 445 446 447 448 449\n",
            " 450 451 452 453 454 455 456 457 458 459 460 461 462 463 464 465 466 467\n",
            " 468 469 470 471 472 473 474 475 476 477 478 479 480 481 482 483 484 485\n",
            " 486 487 488 489 490 491 492 493 494 495 496 497 498 499 500 501 502 503\n",
            " 504 505 506 507 508 509 510 511 512 513 514 515 516 517 518 519 520 521\n",
            " 522 523 524 525 526 527 528 529 530 531 532 533 534 535 536 537 538 539\n",
            " 540 541 542 543 544 545 546 547 548 549 550 551 552 553 554 555 556 557\n",
            " 558 559 560 561 562 563 564 565 566 567 568 569 570 571 572 573 574 575\n",
            " 576 577 578 579 580 581 582 583 584 585 586 587 588 589 590 591 592 593\n",
            " 594 595 596 597 598 599 600 601 602 603 604 605 606 607 608 609 610 611\n",
            " 612 613 614 615 616 617 618 619 620 621 622 623 624 625 626 627 628 629\n",
            " 630 631 632 633 634 635 636 637 638 639 640 641 642 643 644 645 646 647\n",
            " 648 649 650 651 652 653 654 655 656 657 658 659 660 661 662 663 664 665\n",
            " 666 667 668 669 670 671 672 673 674 675 676 677 678 679 680 681 682 683\n",
            " 684 685 686 687 688 689 690 691 692 693 694 695 696 697 698 699 700 701\n",
            " 702 703 704 705 706 707 708 709 710 711 712 713 714 715 716 717 718 719\n",
            " 720 721 722 723 724 725 726 727 728 729 730 731 732 733 734 735 736 737\n",
            " 738 739 740 741 742 743 744 745 746 747 748 749 750 751 752 753 754 755\n",
            " 756 757 758 759 760 761 762 763 764 765 766 767 768 769 770 771 772 773\n",
            " 774 775 776 777 778 779 780 781 782 783 784 785 786 787 788 789 790 791\n",
            " 792 793 794 795 796 797 798 799 800 801 802 803 804 805 806 807 808 809\n",
            " 810 811 812 813 814 815 816 817 818 819 820 821 822 823 824 825 826 827\n",
            " 828 829 830 831 832 833 834 835 836 837 838 839 840 841 842 843 844 845\n",
            " 846 847 848 849 850 851 852 853 854 855 856 857 858 859 860 861 862 863\n",
            " 864 865 866 867 868 869 870 871 872 873 874 875 876 877 878 879 880 881\n",
            " 882 883 884 885 886 887 888 889 890]\n",
            "Test Index: [ 0  1  2  3  4  5  6  7  8  9 10 11 12 13 14 15 16 17 18 19 20 21 22 23\n",
            " 24 25 26 27 28 29 30 31 32 33 34 35 36 37 38 39 40 41 42 43 44 45 46 47\n",
            " 48 49 50 51 52 53 54 55 56 57 58 59 60 61 62 63 64 65 66 67 68 69 70 71\n",
            " 72 73 74 75 76 77 78 79 80 81 82 83 84 85 86 87 88 89]\n",
            "Training index: [  0   1   2   3   4   5   6   7   8   9  10  11  12  13  14  15  16  17\n",
            "  18  19  20  21  22  23  24  25  26  27  28  29  30  31  32  33  34  35\n",
            "  36  37  38  39  40  41  42  43  44  45  46  47  48  49  50  51  52  53\n",
            "  54  55  56  57  58  59  60  61  62  63  64  65  66  67  68  69  70  71\n",
            "  72  73  74  75  76  77  78  79  80  81  82  83  84  85  86  87  88  89\n",
            " 179 180 181 182 183 184 185 186 187 188 189 190 191 192 193 194 195 196\n",
            " 197 198 199 200 201 202 203 204 205 206 207 208 209 210 211 212 213 214\n",
            " 215 216 217 218 219 220 221 222 223 224 225 226 227 228 229 230 231 232\n",
            " 233 234 235 236 237 238 239 240 241 242 243 244 245 246 247 248 249 250\n",
            " 251 252 253 254 255 256 257 258 259 260 261 262 263 264 265 266 267 268\n",
            " 269 270 271 272 273 274 275 276 277 278 279 280 281 282 283 284 285 286\n",
            " 287 288 289 290 291 292 293 294 295 296 297 298 299 300 301 302 303 304\n",
            " 305 306 307 308 309 310 311 312 313 314 315 316 317 318 319 320 321 322\n",
            " 323 324 325 326 327 328 329 330 331 332 333 334 335 336 337 338 339 340\n",
            " 341 342 343 344 345 346 347 348 349 350 351 352 353 354 355 356 357 358\n",
            " 359 360 361 362 363 364 365 366 367 368 369 370 371 372 373 374 375 376\n",
            " 377 378 379 380 381 382 383 384 385 386 387 388 389 390 391 392 393 394\n",
            " 395 396 397 398 399 400 401 402 403 404 405 406 407 408 409 410 411 412\n",
            " 413 414 415 416 417 418 419 420 421 422 423 424 425 426 427 428 429 430\n",
            " 431 432 433 434 435 436 437 438 439 440 441 442 443 444 445 446 447 448\n",
            " 449 450 451 452 453 454 455 456 457 458 459 460 461 462 463 464 465 466\n",
            " 467 468 469 470 471 472 473 474 475 476 477 478 479 480 481 482 483 484\n",
            " 485 486 487 488 489 490 491 492 493 494 495 496 497 498 499 500 501 502\n",
            " 503 504 505 506 507 508 509 510 511 512 513 514 515 516 517 518 519 520\n",
            " 521 522 523 524 525 526 527 528 529 530 531 532 533 534 535 536 537 538\n",
            " 539 540 541 542 543 544 545 546 547 548 549 550 551 552 553 554 555 556\n",
            " 557 558 559 560 561 562 563 564 565 566 567 568 569 570 571 572 573 574\n",
            " 575 576 577 578 579 580 581 582 583 584 585 586 587 588 589 590 591 592\n",
            " 593 594 595 596 597 598 599 600 601 602 603 604 605 606 607 608 609 610\n",
            " 611 612 613 614 615 616 617 618 619 620 621 622 623 624 625 626 627 628\n",
            " 629 630 631 632 633 634 635 636 637 638 639 640 641 642 643 644 645 646\n",
            " 647 648 649 650 651 652 653 654 655 656 657 658 659 660 661 662 663 664\n",
            " 665 666 667 668 669 670 671 672 673 674 675 676 677 678 679 680 681 682\n",
            " 683 684 685 686 687 688 689 690 691 692 693 694 695 696 697 698 699 700\n",
            " 701 702 703 704 705 706 707 708 709 710 711 712 713 714 715 716 717 718\n",
            " 719 720 721 722 723 724 725 726 727 728 729 730 731 732 733 734 735 736\n",
            " 737 738 739 740 741 742 743 744 745 746 747 748 749 750 751 752 753 754\n",
            " 755 756 757 758 759 760 761 762 763 764 765 766 767 768 769 770 771 772\n",
            " 773 774 775 776 777 778 779 780 781 782 783 784 785 786 787 788 789 790\n",
            " 791 792 793 794 795 796 797 798 799 800 801 802 803 804 805 806 807 808\n",
            " 809 810 811 812 813 814 815 816 817 818 819 820 821 822 823 824 825 826\n",
            " 827 828 829 830 831 832 833 834 835 836 837 838 839 840 841 842 843 844\n",
            " 845 846 847 848 849 850 851 852 853 854 855 856 857 858 859 860 861 862\n",
            " 863 864 865 866 867 868 869 870 871 872 873 874 875 876 877 878 879 880\n",
            " 881 882 883 884 885 886 887 888 889 890]\n",
            "Test Index: [ 90  91  92  93  94  95  96  97  98  99 100 101 102 103 104 105 106 107\n",
            " 108 109 110 111 112 113 114 115 116 117 118 119 120 121 122 123 124 125\n",
            " 126 127 128 129 130 131 132 133 134 135 136 137 138 139 140 141 142 143\n",
            " 144 145 146 147 148 149 150 151 152 153 154 155 156 157 158 159 160 161\n",
            " 162 163 164 165 166 167 168 169 170 171 172 173 174 175 176 177 178]\n",
            "Training index: [  0   1   2   3   4   5   6   7   8   9  10  11  12  13  14  15  16  17\n",
            "  18  19  20  21  22  23  24  25  26  27  28  29  30  31  32  33  34  35\n",
            "  36  37  38  39  40  41  42  43  44  45  46  47  48  49  50  51  52  53\n",
            "  54  55  56  57  58  59  60  61  62  63  64  65  66  67  68  69  70  71\n",
            "  72  73  74  75  76  77  78  79  80  81  82  83  84  85  86  87  88  89\n",
            "  90  91  92  93  94  95  96  97  98  99 100 101 102 103 104 105 106 107\n",
            " 108 109 110 111 112 113 114 115 116 117 118 119 120 121 122 123 124 125\n",
            " 126 127 128 129 130 131 132 133 134 135 136 137 138 139 140 141 142 143\n",
            " 144 145 146 147 148 149 150 151 152 153 154 155 156 157 158 159 160 161\n",
            " 162 163 164 165 166 167 168 169 170 171 172 173 174 175 176 177 178 268\n",
            " 269 270 271 272 273 274 275 276 277 278 279 280 281 282 283 284 285 286\n",
            " 287 288 289 290 291 292 293 294 295 296 297 298 299 300 301 302 303 304\n",
            " 305 306 307 308 309 310 311 312 313 314 315 316 317 318 319 320 321 322\n",
            " 323 324 325 326 327 328 329 330 331 332 333 334 335 336 337 338 339 340\n",
            " 341 342 343 344 345 346 347 348 349 350 351 352 353 354 355 356 357 358\n",
            " 359 360 361 362 363 364 365 366 367 368 369 370 371 372 373 374 375 376\n",
            " 377 378 379 380 381 382 383 384 385 386 387 388 389 390 391 392 393 394\n",
            " 395 396 397 398 399 400 401 402 403 404 405 406 407 408 409 410 411 412\n",
            " 413 414 415 416 417 418 419 420 421 422 423 424 425 426 427 428 429 430\n",
            " 431 432 433 434 435 436 437 438 439 440 441 442 443 444 445 446 447 448\n",
            " 449 450 451 452 453 454 455 456 457 458 459 460 461 462 463 464 465 466\n",
            " 467 468 469 470 471 472 473 474 475 476 477 478 479 480 481 482 483 484\n",
            " 485 486 487 488 489 490 491 492 493 494 495 496 497 498 499 500 501 502\n",
            " 503 504 505 506 507 508 509 510 511 512 513 514 515 516 517 518 519 520\n",
            " 521 522 523 524 525 526 527 528 529 530 531 532 533 534 535 536 537 538\n",
            " 539 540 541 542 543 544 545 546 547 548 549 550 551 552 553 554 555 556\n",
            " 557 558 559 560 561 562 563 564 565 566 567 568 569 570 571 572 573 574\n",
            " 575 576 577 578 579 580 581 582 583 584 585 586 587 588 589 590 591 592\n",
            " 593 594 595 596 597 598 599 600 601 602 603 604 605 606 607 608 609 610\n",
            " 611 612 613 614 615 616 617 618 619 620 621 622 623 624 625 626 627 628\n",
            " 629 630 631 632 633 634 635 636 637 638 639 640 641 642 643 644 645 646\n",
            " 647 648 649 650 651 652 653 654 655 656 657 658 659 660 661 662 663 664\n",
            " 665 666 667 668 669 670 671 672 673 674 675 676 677 678 679 680 681 682\n",
            " 683 684 685 686 687 688 689 690 691 692 693 694 695 696 697 698 699 700\n",
            " 701 702 703 704 705 706 707 708 709 710 711 712 713 714 715 716 717 718\n",
            " 719 720 721 722 723 724 725 726 727 728 729 730 731 732 733 734 735 736\n",
            " 737 738 739 740 741 742 743 744 745 746 747 748 749 750 751 752 753 754\n",
            " 755 756 757 758 759 760 761 762 763 764 765 766 767 768 769 770 771 772\n",
            " 773 774 775 776 777 778 779 780 781 782 783 784 785 786 787 788 789 790\n",
            " 791 792 793 794 795 796 797 798 799 800 801 802 803 804 805 806 807 808\n",
            " 809 810 811 812 813 814 815 816 817 818 819 820 821 822 823 824 825 826\n",
            " 827 828 829 830 831 832 833 834 835 836 837 838 839 840 841 842 843 844\n",
            " 845 846 847 848 849 850 851 852 853 854 855 856 857 858 859 860 861 862\n",
            " 863 864 865 866 867 868 869 870 871 872 873 874 875 876 877 878 879 880\n",
            " 881 882 883 884 885 886 887 888 889 890]\n",
            "Test Index: [179 180 181 182 183 184 185 186 187 188 189 190 191 192 193 194 195 196\n",
            " 197 198 199 200 201 202 203 204 205 206 207 208 209 210 211 212 213 214\n",
            " 215 216 217 218 219 220 221 222 223 224 225 226 227 228 229 230 231 232\n",
            " 233 234 235 236 237 238 239 240 241 242 243 244 245 246 247 248 249 250\n",
            " 251 252 253 254 255 256 257 258 259 260 261 262 263 264 265 266 267]\n",
            "Training index: [  0   1   2   3   4   5   6   7   8   9  10  11  12  13  14  15  16  17\n",
            "  18  19  20  21  22  23  24  25  26  27  28  29  30  31  32  33  34  35\n",
            "  36  37  38  39  40  41  42  43  44  45  46  47  48  49  50  51  52  53\n",
            "  54  55  56  57  58  59  60  61  62  63  64  65  66  67  68  69  70  71\n",
            "  72  73  74  75  76  77  78  79  80  81  82  83  84  85  86  87  88  89\n",
            "  90  91  92  93  94  95  96  97  98  99 100 101 102 103 104 105 106 107\n",
            " 108 109 110 111 112 113 114 115 116 117 118 119 120 121 122 123 124 125\n",
            " 126 127 128 129 130 131 132 133 134 135 136 137 138 139 140 141 142 143\n",
            " 144 145 146 147 148 149 150 151 152 153 154 155 156 157 158 159 160 161\n",
            " 162 163 164 165 166 167 168 169 170 171 172 173 174 175 176 177 178 179\n",
            " 180 181 182 183 184 185 186 187 188 189 190 191 192 193 194 195 196 197\n",
            " 198 199 200 201 202 203 204 205 206 207 208 209 210 211 212 213 214 215\n",
            " 216 217 218 219 220 221 222 223 224 225 226 227 228 229 230 231 232 233\n",
            " 234 235 236 237 238 239 240 241 242 243 244 245 246 247 248 249 250 251\n",
            " 252 253 254 255 256 257 258 259 260 261 262 263 264 265 266 267 357 358\n",
            " 359 360 361 362 363 364 365 366 367 368 369 370 371 372 373 374 375 376\n",
            " 377 378 379 380 381 382 383 384 385 386 387 388 389 390 391 392 393 394\n",
            " 395 396 397 398 399 400 401 402 403 404 405 406 407 408 409 410 411 412\n",
            " 413 414 415 416 417 418 419 420 421 422 423 424 425 426 427 428 429 430\n",
            " 431 432 433 434 435 436 437 438 439 440 441 442 443 444 445 446 447 448\n",
            " 449 450 451 452 453 454 455 456 457 458 459 460 461 462 463 464 465 466\n",
            " 467 468 469 470 471 472 473 474 475 476 477 478 479 480 481 482 483 484\n",
            " 485 486 487 488 489 490 491 492 493 494 495 496 497 498 499 500 501 502\n",
            " 503 504 505 506 507 508 509 510 511 512 513 514 515 516 517 518 519 520\n",
            " 521 522 523 524 525 526 527 528 529 530 531 532 533 534 535 536 537 538\n",
            " 539 540 541 542 543 544 545 546 547 548 549 550 551 552 553 554 555 556\n",
            " 557 558 559 560 561 562 563 564 565 566 567 568 569 570 571 572 573 574\n",
            " 575 576 577 578 579 580 581 582 583 584 585 586 587 588 589 590 591 592\n",
            " 593 594 595 596 597 598 599 600 601 602 603 604 605 606 607 608 609 610\n",
            " 611 612 613 614 615 616 617 618 619 620 621 622 623 624 625 626 627 628\n",
            " 629 630 631 632 633 634 635 636 637 638 639 640 641 642 643 644 645 646\n",
            " 647 648 649 650 651 652 653 654 655 656 657 658 659 660 661 662 663 664\n",
            " 665 666 667 668 669 670 671 672 673 674 675 676 677 678 679 680 681 682\n",
            " 683 684 685 686 687 688 689 690 691 692 693 694 695 696 697 698 699 700\n",
            " 701 702 703 704 705 706 707 708 709 710 711 712 713 714 715 716 717 718\n",
            " 719 720 721 722 723 724 725 726 727 728 729 730 731 732 733 734 735 736\n",
            " 737 738 739 740 741 742 743 744 745 746 747 748 749 750 751 752 753 754\n",
            " 755 756 757 758 759 760 761 762 763 764 765 766 767 768 769 770 771 772\n",
            " 773 774 775 776 777 778 779 780 781 782 783 784 785 786 787 788 789 790\n",
            " 791 792 793 794 795 796 797 798 799 800 801 802 803 804 805 806 807 808\n",
            " 809 810 811 812 813 814 815 816 817 818 819 820 821 822 823 824 825 826\n",
            " 827 828 829 830 831 832 833 834 835 836 837 838 839 840 841 842 843 844\n",
            " 845 846 847 848 849 850 851 852 853 854 855 856 857 858 859 860 861 862\n",
            " 863 864 865 866 867 868 869 870 871 872 873 874 875 876 877 878 879 880\n",
            " 881 882 883 884 885 886 887 888 889 890]\n",
            "Test Index: [268 269 270 271 272 273 274 275 276 277 278 279 280 281 282 283 284 285\n",
            " 286 287 288 289 290 291 292 293 294 295 296 297 298 299 300 301 302 303\n",
            " 304 305 306 307 308 309 310 311 312 313 314 315 316 317 318 319 320 321\n",
            " 322 323 324 325 326 327 328 329 330 331 332 333 334 335 336 337 338 339\n",
            " 340 341 342 343 344 345 346 347 348 349 350 351 352 353 354 355 356]\n",
            "Training index: [  0   1   2   3   4   5   6   7   8   9  10  11  12  13  14  15  16  17\n",
            "  18  19  20  21  22  23  24  25  26  27  28  29  30  31  32  33  34  35\n",
            "  36  37  38  39  40  41  42  43  44  45  46  47  48  49  50  51  52  53\n",
            "  54  55  56  57  58  59  60  61  62  63  64  65  66  67  68  69  70  71\n",
            "  72  73  74  75  76  77  78  79  80  81  82  83  84  85  86  87  88  89\n",
            "  90  91  92  93  94  95  96  97  98  99 100 101 102 103 104 105 106 107\n",
            " 108 109 110 111 112 113 114 115 116 117 118 119 120 121 122 123 124 125\n",
            " 126 127 128 129 130 131 132 133 134 135 136 137 138 139 140 141 142 143\n",
            " 144 145 146 147 148 149 150 151 152 153 154 155 156 157 158 159 160 161\n",
            " 162 163 164 165 166 167 168 169 170 171 172 173 174 175 176 177 178 179\n",
            " 180 181 182 183 184 185 186 187 188 189 190 191 192 193 194 195 196 197\n",
            " 198 199 200 201 202 203 204 205 206 207 208 209 210 211 212 213 214 215\n",
            " 216 217 218 219 220 221 222 223 224 225 226 227 228 229 230 231 232 233\n",
            " 234 235 236 237 238 239 240 241 242 243 244 245 246 247 248 249 250 251\n",
            " 252 253 254 255 256 257 258 259 260 261 262 263 264 265 266 267 268 269\n",
            " 270 271 272 273 274 275 276 277 278 279 280 281 282 283 284 285 286 287\n",
            " 288 289 290 291 292 293 294 295 296 297 298 299 300 301 302 303 304 305\n",
            " 306 307 308 309 310 311 312 313 314 315 316 317 318 319 320 321 322 323\n",
            " 324 325 326 327 328 329 330 331 332 333 334 335 336 337 338 339 340 341\n",
            " 342 343 344 345 346 347 348 349 350 351 352 353 354 355 356 446 447 448\n",
            " 449 450 451 452 453 454 455 456 457 458 459 460 461 462 463 464 465 466\n",
            " 467 468 469 470 471 472 473 474 475 476 477 478 479 480 481 482 483 484\n",
            " 485 486 487 488 489 490 491 492 493 494 495 496 497 498 499 500 501 502\n",
            " 503 504 505 506 507 508 509 510 511 512 513 514 515 516 517 518 519 520\n",
            " 521 522 523 524 525 526 527 528 529 530 531 532 533 534 535 536 537 538\n",
            " 539 540 541 542 543 544 545 546 547 548 549 550 551 552 553 554 555 556\n",
            " 557 558 559 560 561 562 563 564 565 566 567 568 569 570 571 572 573 574\n",
            " 575 576 577 578 579 580 581 582 583 584 585 586 587 588 589 590 591 592\n",
            " 593 594 595 596 597 598 599 600 601 602 603 604 605 606 607 608 609 610\n",
            " 611 612 613 614 615 616 617 618 619 620 621 622 623 624 625 626 627 628\n",
            " 629 630 631 632 633 634 635 636 637 638 639 640 641 642 643 644 645 646\n",
            " 647 648 649 650 651 652 653 654 655 656 657 658 659 660 661 662 663 664\n",
            " 665 666 667 668 669 670 671 672 673 674 675 676 677 678 679 680 681 682\n",
            " 683 684 685 686 687 688 689 690 691 692 693 694 695 696 697 698 699 700\n",
            " 701 702 703 704 705 706 707 708 709 710 711 712 713 714 715 716 717 718\n",
            " 719 720 721 722 723 724 725 726 727 728 729 730 731 732 733 734 735 736\n",
            " 737 738 739 740 741 742 743 744 745 746 747 748 749 750 751 752 753 754\n",
            " 755 756 757 758 759 760 761 762 763 764 765 766 767 768 769 770 771 772\n",
            " 773 774 775 776 777 778 779 780 781 782 783 784 785 786 787 788 789 790\n",
            " 791 792 793 794 795 796 797 798 799 800 801 802 803 804 805 806 807 808\n",
            " 809 810 811 812 813 814 815 816 817 818 819 820 821 822 823 824 825 826\n",
            " 827 828 829 830 831 832 833 834 835 836 837 838 839 840 841 842 843 844\n",
            " 845 846 847 848 849 850 851 852 853 854 855 856 857 858 859 860 861 862\n",
            " 863 864 865 866 867 868 869 870 871 872 873 874 875 876 877 878 879 880\n",
            " 881 882 883 884 885 886 887 888 889 890]\n",
            "Test Index: [357 358 359 360 361 362 363 364 365 366 367 368 369 370 371 372 373 374\n",
            " 375 376 377 378 379 380 381 382 383 384 385 386 387 388 389 390 391 392\n",
            " 393 394 395 396 397 398 399 400 401 402 403 404 405 406 407 408 409 410\n",
            " 411 412 413 414 415 416 417 418 419 420 421 422 423 424 425 426 427 428\n",
            " 429 430 431 432 433 434 435 436 437 438 439 440 441 442 443 444 445]\n",
            "Training index: [  0   1   2   3   4   5   6   7   8   9  10  11  12  13  14  15  16  17\n",
            "  18  19  20  21  22  23  24  25  26  27  28  29  30  31  32  33  34  35\n",
            "  36  37  38  39  40  41  42  43  44  45  46  47  48  49  50  51  52  53\n",
            "  54  55  56  57  58  59  60  61  62  63  64  65  66  67  68  69  70  71\n",
            "  72  73  74  75  76  77  78  79  80  81  82  83  84  85  86  87  88  89\n",
            "  90  91  92  93  94  95  96  97  98  99 100 101 102 103 104 105 106 107\n",
            " 108 109 110 111 112 113 114 115 116 117 118 119 120 121 122 123 124 125\n",
            " 126 127 128 129 130 131 132 133 134 135 136 137 138 139 140 141 142 143\n",
            " 144 145 146 147 148 149 150 151 152 153 154 155 156 157 158 159 160 161\n",
            " 162 163 164 165 166 167 168 169 170 171 172 173 174 175 176 177 178 179\n",
            " 180 181 182 183 184 185 186 187 188 189 190 191 192 193 194 195 196 197\n",
            " 198 199 200 201 202 203 204 205 206 207 208 209 210 211 212 213 214 215\n",
            " 216 217 218 219 220 221 222 223 224 225 226 227 228 229 230 231 232 233\n",
            " 234 235 236 237 238 239 240 241 242 243 244 245 246 247 248 249 250 251\n",
            " 252 253 254 255 256 257 258 259 260 261 262 263 264 265 266 267 268 269\n",
            " 270 271 272 273 274 275 276 277 278 279 280 281 282 283 284 285 286 287\n",
            " 288 289 290 291 292 293 294 295 296 297 298 299 300 301 302 303 304 305\n",
            " 306 307 308 309 310 311 312 313 314 315 316 317 318 319 320 321 322 323\n",
            " 324 325 326 327 328 329 330 331 332 333 334 335 336 337 338 339 340 341\n",
            " 342 343 344 345 346 347 348 349 350 351 352 353 354 355 356 357 358 359\n",
            " 360 361 362 363 364 365 366 367 368 369 370 371 372 373 374 375 376 377\n",
            " 378 379 380 381 382 383 384 385 386 387 388 389 390 391 392 393 394 395\n",
            " 396 397 398 399 400 401 402 403 404 405 406 407 408 409 410 411 412 413\n",
            " 414 415 416 417 418 419 420 421 422 423 424 425 426 427 428 429 430 431\n",
            " 432 433 434 435 436 437 438 439 440 441 442 443 444 445 535 536 537 538\n",
            " 539 540 541 542 543 544 545 546 547 548 549 550 551 552 553 554 555 556\n",
            " 557 558 559 560 561 562 563 564 565 566 567 568 569 570 571 572 573 574\n",
            " 575 576 577 578 579 580 581 582 583 584 585 586 587 588 589 590 591 592\n",
            " 593 594 595 596 597 598 599 600 601 602 603 604 605 606 607 608 609 610\n",
            " 611 612 613 614 615 616 617 618 619 620 621 622 623 624 625 626 627 628\n",
            " 629 630 631 632 633 634 635 636 637 638 639 640 641 642 643 644 645 646\n",
            " 647 648 649 650 651 652 653 654 655 656 657 658 659 660 661 662 663 664\n",
            " 665 666 667 668 669 670 671 672 673 674 675 676 677 678 679 680 681 682\n",
            " 683 684 685 686 687 688 689 690 691 692 693 694 695 696 697 698 699 700\n",
            " 701 702 703 704 705 706 707 708 709 710 711 712 713 714 715 716 717 718\n",
            " 719 720 721 722 723 724 725 726 727 728 729 730 731 732 733 734 735 736\n",
            " 737 738 739 740 741 742 743 744 745 746 747 748 749 750 751 752 753 754\n",
            " 755 756 757 758 759 760 761 762 763 764 765 766 767 768 769 770 771 772\n",
            " 773 774 775 776 777 778 779 780 781 782 783 784 785 786 787 788 789 790\n",
            " 791 792 793 794 795 796 797 798 799 800 801 802 803 804 805 806 807 808\n",
            " 809 810 811 812 813 814 815 816 817 818 819 820 821 822 823 824 825 826\n",
            " 827 828 829 830 831 832 833 834 835 836 837 838 839 840 841 842 843 844\n",
            " 845 846 847 848 849 850 851 852 853 854 855 856 857 858 859 860 861 862\n",
            " 863 864 865 866 867 868 869 870 871 872 873 874 875 876 877 878 879 880\n",
            " 881 882 883 884 885 886 887 888 889 890]\n",
            "Test Index: [446 447 448 449 450 451 452 453 454 455 456 457 458 459 460 461 462 463\n",
            " 464 465 466 467 468 469 470 471 472 473 474 475 476 477 478 479 480 481\n",
            " 482 483 484 485 486 487 488 489 490 491 492 493 494 495 496 497 498 499\n",
            " 500 501 502 503 504 505 506 507 508 509 510 511 512 513 514 515 516 517\n",
            " 518 519 520 521 522 523 524 525 526 527 528 529 530 531 532 533 534]\n",
            "Training index: [  0   1   2   3   4   5   6   7   8   9  10  11  12  13  14  15  16  17\n",
            "  18  19  20  21  22  23  24  25  26  27  28  29  30  31  32  33  34  35\n",
            "  36  37  38  39  40  41  42  43  44  45  46  47  48  49  50  51  52  53\n",
            "  54  55  56  57  58  59  60  61  62  63  64  65  66  67  68  69  70  71\n",
            "  72  73  74  75  76  77  78  79  80  81  82  83  84  85  86  87  88  89\n",
            "  90  91  92  93  94  95  96  97  98  99 100 101 102 103 104 105 106 107\n",
            " 108 109 110 111 112 113 114 115 116 117 118 119 120 121 122 123 124 125\n",
            " 126 127 128 129 130 131 132 133 134 135 136 137 138 139 140 141 142 143\n",
            " 144 145 146 147 148 149 150 151 152 153 154 155 156 157 158 159 160 161\n",
            " 162 163 164 165 166 167 168 169 170 171 172 173 174 175 176 177 178 179\n",
            " 180 181 182 183 184 185 186 187 188 189 190 191 192 193 194 195 196 197\n",
            " 198 199 200 201 202 203 204 205 206 207 208 209 210 211 212 213 214 215\n",
            " 216 217 218 219 220 221 222 223 224 225 226 227 228 229 230 231 232 233\n",
            " 234 235 236 237 238 239 240 241 242 243 244 245 246 247 248 249 250 251\n",
            " 252 253 254 255 256 257 258 259 260 261 262 263 264 265 266 267 268 269\n",
            " 270 271 272 273 274 275 276 277 278 279 280 281 282 283 284 285 286 287\n",
            " 288 289 290 291 292 293 294 295 296 297 298 299 300 301 302 303 304 305\n",
            " 306 307 308 309 310 311 312 313 314 315 316 317 318 319 320 321 322 323\n",
            " 324 325 326 327 328 329 330 331 332 333 334 335 336 337 338 339 340 341\n",
            " 342 343 344 345 346 347 348 349 350 351 352 353 354 355 356 357 358 359\n",
            " 360 361 362 363 364 365 366 367 368 369 370 371 372 373 374 375 376 377\n",
            " 378 379 380 381 382 383 384 385 386 387 388 389 390 391 392 393 394 395\n",
            " 396 397 398 399 400 401 402 403 404 405 406 407 408 409 410 411 412 413\n",
            " 414 415 416 417 418 419 420 421 422 423 424 425 426 427 428 429 430 431\n",
            " 432 433 434 435 436 437 438 439 440 441 442 443 444 445 446 447 448 449\n",
            " 450 451 452 453 454 455 456 457 458 459 460 461 462 463 464 465 466 467\n",
            " 468 469 470 471 472 473 474 475 476 477 478 479 480 481 482 483 484 485\n",
            " 486 487 488 489 490 491 492 493 494 495 496 497 498 499 500 501 502 503\n",
            " 504 505 506 507 508 509 510 511 512 513 514 515 516 517 518 519 520 521\n",
            " 522 523 524 525 526 527 528 529 530 531 532 533 534 624 625 626 627 628\n",
            " 629 630 631 632 633 634 635 636 637 638 639 640 641 642 643 644 645 646\n",
            " 647 648 649 650 651 652 653 654 655 656 657 658 659 660 661 662 663 664\n",
            " 665 666 667 668 669 670 671 672 673 674 675 676 677 678 679 680 681 682\n",
            " 683 684 685 686 687 688 689 690 691 692 693 694 695 696 697 698 699 700\n",
            " 701 702 703 704 705 706 707 708 709 710 711 712 713 714 715 716 717 718\n",
            " 719 720 721 722 723 724 725 726 727 728 729 730 731 732 733 734 735 736\n",
            " 737 738 739 740 741 742 743 744 745 746 747 748 749 750 751 752 753 754\n",
            " 755 756 757 758 759 760 761 762 763 764 765 766 767 768 769 770 771 772\n",
            " 773 774 775 776 777 778 779 780 781 782 783 784 785 786 787 788 789 790\n",
            " 791 792 793 794 795 796 797 798 799 800 801 802 803 804 805 806 807 808\n",
            " 809 810 811 812 813 814 815 816 817 818 819 820 821 822 823 824 825 826\n",
            " 827 828 829 830 831 832 833 834 835 836 837 838 839 840 841 842 843 844\n",
            " 845 846 847 848 849 850 851 852 853 854 855 856 857 858 859 860 861 862\n",
            " 863 864 865 866 867 868 869 870 871 872 873 874 875 876 877 878 879 880\n",
            " 881 882 883 884 885 886 887 888 889 890]\n",
            "Test Index: [535 536 537 538 539 540 541 542 543 544 545 546 547 548 549 550 551 552\n",
            " 553 554 555 556 557 558 559 560 561 562 563 564 565 566 567 568 569 570\n",
            " 571 572 573 574 575 576 577 578 579 580 581 582 583 584 585 586 587 588\n",
            " 589 590 591 592 593 594 595 596 597 598 599 600 601 602 603 604 605 606\n",
            " 607 608 609 610 611 612 613 614 615 616 617 618 619 620 621 622 623]\n",
            "Training index: [  0   1   2   3   4   5   6   7   8   9  10  11  12  13  14  15  16  17\n",
            "  18  19  20  21  22  23  24  25  26  27  28  29  30  31  32  33  34  35\n",
            "  36  37  38  39  40  41  42  43  44  45  46  47  48  49  50  51  52  53\n",
            "  54  55  56  57  58  59  60  61  62  63  64  65  66  67  68  69  70  71\n",
            "  72  73  74  75  76  77  78  79  80  81  82  83  84  85  86  87  88  89\n",
            "  90  91  92  93  94  95  96  97  98  99 100 101 102 103 104 105 106 107\n",
            " 108 109 110 111 112 113 114 115 116 117 118 119 120 121 122 123 124 125\n",
            " 126 127 128 129 130 131 132 133 134 135 136 137 138 139 140 141 142 143\n",
            " 144 145 146 147 148 149 150 151 152 153 154 155 156 157 158 159 160 161\n",
            " 162 163 164 165 166 167 168 169 170 171 172 173 174 175 176 177 178 179\n",
            " 180 181 182 183 184 185 186 187 188 189 190 191 192 193 194 195 196 197\n",
            " 198 199 200 201 202 203 204 205 206 207 208 209 210 211 212 213 214 215\n",
            " 216 217 218 219 220 221 222 223 224 225 226 227 228 229 230 231 232 233\n",
            " 234 235 236 237 238 239 240 241 242 243 244 245 246 247 248 249 250 251\n",
            " 252 253 254 255 256 257 258 259 260 261 262 263 264 265 266 267 268 269\n",
            " 270 271 272 273 274 275 276 277 278 279 280 281 282 283 284 285 286 287\n",
            " 288 289 290 291 292 293 294 295 296 297 298 299 300 301 302 303 304 305\n",
            " 306 307 308 309 310 311 312 313 314 315 316 317 318 319 320 321 322 323\n",
            " 324 325 326 327 328 329 330 331 332 333 334 335 336 337 338 339 340 341\n",
            " 342 343 344 345 346 347 348 349 350 351 352 353 354 355 356 357 358 359\n",
            " 360 361 362 363 364 365 366 367 368 369 370 371 372 373 374 375 376 377\n",
            " 378 379 380 381 382 383 384 385 386 387 388 389 390 391 392 393 394 395\n",
            " 396 397 398 399 400 401 402 403 404 405 406 407 408 409 410 411 412 413\n",
            " 414 415 416 417 418 419 420 421 422 423 424 425 426 427 428 429 430 431\n",
            " 432 433 434 435 436 437 438 439 440 441 442 443 444 445 446 447 448 449\n",
            " 450 451 452 453 454 455 456 457 458 459 460 461 462 463 464 465 466 467\n",
            " 468 469 470 471 472 473 474 475 476 477 478 479 480 481 482 483 484 485\n",
            " 486 487 488 489 490 491 492 493 494 495 496 497 498 499 500 501 502 503\n",
            " 504 505 506 507 508 509 510 511 512 513 514 515 516 517 518 519 520 521\n",
            " 522 523 524 525 526 527 528 529 530 531 532 533 534 535 536 537 538 539\n",
            " 540 541 542 543 544 545 546 547 548 549 550 551 552 553 554 555 556 557\n",
            " 558 559 560 561 562 563 564 565 566 567 568 569 570 571 572 573 574 575\n",
            " 576 577 578 579 580 581 582 583 584 585 586 587 588 589 590 591 592 593\n",
            " 594 595 596 597 598 599 600 601 602 603 604 605 606 607 608 609 610 611\n",
            " 612 613 614 615 616 617 618 619 620 621 622 623 713 714 715 716 717 718\n",
            " 719 720 721 722 723 724 725 726 727 728 729 730 731 732 733 734 735 736\n",
            " 737 738 739 740 741 742 743 744 745 746 747 748 749 750 751 752 753 754\n",
            " 755 756 757 758 759 760 761 762 763 764 765 766 767 768 769 770 771 772\n",
            " 773 774 775 776 777 778 779 780 781 782 783 784 785 786 787 788 789 790\n",
            " 791 792 793 794 795 796 797 798 799 800 801 802 803 804 805 806 807 808\n",
            " 809 810 811 812 813 814 815 816 817 818 819 820 821 822 823 824 825 826\n",
            " 827 828 829 830 831 832 833 834 835 836 837 838 839 840 841 842 843 844\n",
            " 845 846 847 848 849 850 851 852 853 854 855 856 857 858 859 860 861 862\n",
            " 863 864 865 866 867 868 869 870 871 872 873 874 875 876 877 878 879 880\n",
            " 881 882 883 884 885 886 887 888 889 890]\n",
            "Test Index: [624 625 626 627 628 629 630 631 632 633 634 635 636 637 638 639 640 641\n",
            " 642 643 644 645 646 647 648 649 650 651 652 653 654 655 656 657 658 659\n",
            " 660 661 662 663 664 665 666 667 668 669 670 671 672 673 674 675 676 677\n",
            " 678 679 680 681 682 683 684 685 686 687 688 689 690 691 692 693 694 695\n",
            " 696 697 698 699 700 701 702 703 704 705 706 707 708 709 710 711 712]\n",
            "Training index: [  0   1   2   3   4   5   6   7   8   9  10  11  12  13  14  15  16  17\n",
            "  18  19  20  21  22  23  24  25  26  27  28  29  30  31  32  33  34  35\n",
            "  36  37  38  39  40  41  42  43  44  45  46  47  48  49  50  51  52  53\n",
            "  54  55  56  57  58  59  60  61  62  63  64  65  66  67  68  69  70  71\n",
            "  72  73  74  75  76  77  78  79  80  81  82  83  84  85  86  87  88  89\n",
            "  90  91  92  93  94  95  96  97  98  99 100 101 102 103 104 105 106 107\n",
            " 108 109 110 111 112 113 114 115 116 117 118 119 120 121 122 123 124 125\n",
            " 126 127 128 129 130 131 132 133 134 135 136 137 138 139 140 141 142 143\n",
            " 144 145 146 147 148 149 150 151 152 153 154 155 156 157 158 159 160 161\n",
            " 162 163 164 165 166 167 168 169 170 171 172 173 174 175 176 177 178 179\n",
            " 180 181 182 183 184 185 186 187 188 189 190 191 192 193 194 195 196 197\n",
            " 198 199 200 201 202 203 204 205 206 207 208 209 210 211 212 213 214 215\n",
            " 216 217 218 219 220 221 222 223 224 225 226 227 228 229 230 231 232 233\n",
            " 234 235 236 237 238 239 240 241 242 243 244 245 246 247 248 249 250 251\n",
            " 252 253 254 255 256 257 258 259 260 261 262 263 264 265 266 267 268 269\n",
            " 270 271 272 273 274 275 276 277 278 279 280 281 282 283 284 285 286 287\n",
            " 288 289 290 291 292 293 294 295 296 297 298 299 300 301 302 303 304 305\n",
            " 306 307 308 309 310 311 312 313 314 315 316 317 318 319 320 321 322 323\n",
            " 324 325 326 327 328 329 330 331 332 333 334 335 336 337 338 339 340 341\n",
            " 342 343 344 345 346 347 348 349 350 351 352 353 354 355 356 357 358 359\n",
            " 360 361 362 363 364 365 366 367 368 369 370 371 372 373 374 375 376 377\n",
            " 378 379 380 381 382 383 384 385 386 387 388 389 390 391 392 393 394 395\n",
            " 396 397 398 399 400 401 402 403 404 405 406 407 408 409 410 411 412 413\n",
            " 414 415 416 417 418 419 420 421 422 423 424 425 426 427 428 429 430 431\n",
            " 432 433 434 435 436 437 438 439 440 441 442 443 444 445 446 447 448 449\n",
            " 450 451 452 453 454 455 456 457 458 459 460 461 462 463 464 465 466 467\n",
            " 468 469 470 471 472 473 474 475 476 477 478 479 480 481 482 483 484 485\n",
            " 486 487 488 489 490 491 492 493 494 495 496 497 498 499 500 501 502 503\n",
            " 504 505 506 507 508 509 510 511 512 513 514 515 516 517 518 519 520 521\n",
            " 522 523 524 525 526 527 528 529 530 531 532 533 534 535 536 537 538 539\n",
            " 540 541 542 543 544 545 546 547 548 549 550 551 552 553 554 555 556 557\n",
            " 558 559 560 561 562 563 564 565 566 567 568 569 570 571 572 573 574 575\n",
            " 576 577 578 579 580 581 582 583 584 585 586 587 588 589 590 591 592 593\n",
            " 594 595 596 597 598 599 600 601 602 603 604 605 606 607 608 609 610 611\n",
            " 612 613 614 615 616 617 618 619 620 621 622 623 624 625 626 627 628 629\n",
            " 630 631 632 633 634 635 636 637 638 639 640 641 642 643 644 645 646 647\n",
            " 648 649 650 651 652 653 654 655 656 657 658 659 660 661 662 663 664 665\n",
            " 666 667 668 669 670 671 672 673 674 675 676 677 678 679 680 681 682 683\n",
            " 684 685 686 687 688 689 690 691 692 693 694 695 696 697 698 699 700 701\n",
            " 702 703 704 705 706 707 708 709 710 711 712 802 803 804 805 806 807 808\n",
            " 809 810 811 812 813 814 815 816 817 818 819 820 821 822 823 824 825 826\n",
            " 827 828 829 830 831 832 833 834 835 836 837 838 839 840 841 842 843 844\n",
            " 845 846 847 848 849 850 851 852 853 854 855 856 857 858 859 860 861 862\n",
            " 863 864 865 866 867 868 869 870 871 872 873 874 875 876 877 878 879 880\n",
            " 881 882 883 884 885 886 887 888 889 890]\n",
            "Test Index: [713 714 715 716 717 718 719 720 721 722 723 724 725 726 727 728 729 730\n",
            " 731 732 733 734 735 736 737 738 739 740 741 742 743 744 745 746 747 748\n",
            " 749 750 751 752 753 754 755 756 757 758 759 760 761 762 763 764 765 766\n",
            " 767 768 769 770 771 772 773 774 775 776 777 778 779 780 781 782 783 784\n",
            " 785 786 787 788 789 790 791 792 793 794 795 796 797 798 799 800 801]\n",
            "Training index: [  0   1   2   3   4   5   6   7   8   9  10  11  12  13  14  15  16  17\n",
            "  18  19  20  21  22  23  24  25  26  27  28  29  30  31  32  33  34  35\n",
            "  36  37  38  39  40  41  42  43  44  45  46  47  48  49  50  51  52  53\n",
            "  54  55  56  57  58  59  60  61  62  63  64  65  66  67  68  69  70  71\n",
            "  72  73  74  75  76  77  78  79  80  81  82  83  84  85  86  87  88  89\n",
            "  90  91  92  93  94  95  96  97  98  99 100 101 102 103 104 105 106 107\n",
            " 108 109 110 111 112 113 114 115 116 117 118 119 120 121 122 123 124 125\n",
            " 126 127 128 129 130 131 132 133 134 135 136 137 138 139 140 141 142 143\n",
            " 144 145 146 147 148 149 150 151 152 153 154 155 156 157 158 159 160 161\n",
            " 162 163 164 165 166 167 168 169 170 171 172 173 174 175 176 177 178 179\n",
            " 180 181 182 183 184 185 186 187 188 189 190 191 192 193 194 195 196 197\n",
            " 198 199 200 201 202 203 204 205 206 207 208 209 210 211 212 213 214 215\n",
            " 216 217 218 219 220 221 222 223 224 225 226 227 228 229 230 231 232 233\n",
            " 234 235 236 237 238 239 240 241 242 243 244 245 246 247 248 249 250 251\n",
            " 252 253 254 255 256 257 258 259 260 261 262 263 264 265 266 267 268 269\n",
            " 270 271 272 273 274 275 276 277 278 279 280 281 282 283 284 285 286 287\n",
            " 288 289 290 291 292 293 294 295 296 297 298 299 300 301 302 303 304 305\n",
            " 306 307 308 309 310 311 312 313 314 315 316 317 318 319 320 321 322 323\n",
            " 324 325 326 327 328 329 330 331 332 333 334 335 336 337 338 339 340 341\n",
            " 342 343 344 345 346 347 348 349 350 351 352 353 354 355 356 357 358 359\n",
            " 360 361 362 363 364 365 366 367 368 369 370 371 372 373 374 375 376 377\n",
            " 378 379 380 381 382 383 384 385 386 387 388 389 390 391 392 393 394 395\n",
            " 396 397 398 399 400 401 402 403 404 405 406 407 408 409 410 411 412 413\n",
            " 414 415 416 417 418 419 420 421 422 423 424 425 426 427 428 429 430 431\n",
            " 432 433 434 435 436 437 438 439 440 441 442 443 444 445 446 447 448 449\n",
            " 450 451 452 453 454 455 456 457 458 459 460 461 462 463 464 465 466 467\n",
            " 468 469 470 471 472 473 474 475 476 477 478 479 480 481 482 483 484 485\n",
            " 486 487 488 489 490 491 492 493 494 495 496 497 498 499 500 501 502 503\n",
            " 504 505 506 507 508 509 510 511 512 513 514 515 516 517 518 519 520 521\n",
            " 522 523 524 525 526 527 528 529 530 531 532 533 534 535 536 537 538 539\n",
            " 540 541 542 543 544 545 546 547 548 549 550 551 552 553 554 555 556 557\n",
            " 558 559 560 561 562 563 564 565 566 567 568 569 570 571 572 573 574 575\n",
            " 576 577 578 579 580 581 582 583 584 585 586 587 588 589 590 591 592 593\n",
            " 594 595 596 597 598 599 600 601 602 603 604 605 606 607 608 609 610 611\n",
            " 612 613 614 615 616 617 618 619 620 621 622 623 624 625 626 627 628 629\n",
            " 630 631 632 633 634 635 636 637 638 639 640 641 642 643 644 645 646 647\n",
            " 648 649 650 651 652 653 654 655 656 657 658 659 660 661 662 663 664 665\n",
            " 666 667 668 669 670 671 672 673 674 675 676 677 678 679 680 681 682 683\n",
            " 684 685 686 687 688 689 690 691 692 693 694 695 696 697 698 699 700 701\n",
            " 702 703 704 705 706 707 708 709 710 711 712 713 714 715 716 717 718 719\n",
            " 720 721 722 723 724 725 726 727 728 729 730 731 732 733 734 735 736 737\n",
            " 738 739 740 741 742 743 744 745 746 747 748 749 750 751 752 753 754 755\n",
            " 756 757 758 759 760 761 762 763 764 765 766 767 768 769 770 771 772 773\n",
            " 774 775 776 777 778 779 780 781 782 783 784 785 786 787 788 789 790 791\n",
            " 792 793 794 795 796 797 798 799 800 801]\n",
            "Test Index: [802 803 804 805 806 807 808 809 810 811 812 813 814 815 816 817 818 819\n",
            " 820 821 822 823 824 825 826 827 828 829 830 831 832 833 834 835 836 837\n",
            " 838 839 840 841 842 843 844 845 846 847 848 849 850 851 852 853 854 855\n",
            " 856 857 858 859 860 861 862 863 864 865 866 867 868 869 870 871 872 873\n",
            " 874 875 876 877 878 879 880 881 882 883 884 885 886 887 888 889 890]\n"
          ]
        }
      ]
    },
    {
      "cell_type": "code",
      "source": [
        "from sklearn.linear_model import LogisticRegression"
      ],
      "metadata": {
        "id": "GhNx5sqHcczj"
      },
      "execution_count": 40,
      "outputs": []
    },
    {
      "cell_type": "code",
      "source": [
        "Linear_Model=LogisticRegression()\n",
        "LRModel=Linear_Model.fit(X_train,Y_train)"
      ],
      "metadata": {
        "id": "eHOb72i3cgg9"
      },
      "execution_count": 41,
      "outputs": []
    },
    {
      "cell_type": "code",
      "source": [
        "from sklearn.model_selection import cross_val_score"
      ],
      "metadata": {
        "id": "Am7v-r9FcLEl"
      },
      "execution_count": 42,
      "outputs": []
    },
    {
      "cell_type": "code",
      "source": [
        "cv_result=cross_val_score(Linear_Model,X,Y,cv=kfold_validator)"
      ],
      "metadata": {
        "id": "6G2whx3ZcSCk"
      },
      "execution_count": 43,
      "outputs": []
    },
    {
      "cell_type": "code",
      "source": [
        "cv_result"
      ],
      "metadata": {
        "colab": {
          "base_uri": "https://localhost:8080/"
        },
        "id": "oacphv3DcVbn",
        "outputId": "3bc56dbf-5573-4deb-b700-101b60af1f30"
      },
      "execution_count": 44,
      "outputs": [
        {
          "output_type": "execute_result",
          "data": {
            "text/plain": [
              "array([0.62222222, 0.68539326, 0.75280899, 0.62921348, 0.71910112,\n",
              "       0.70786517, 0.71910112, 0.68539326, 0.73033708, 0.74157303])"
            ]
          },
          "metadata": {},
          "execution_count": 44
        }
      ]
    },
    {
      "cell_type": "code",
      "source": [
        "np.mean(cv_result)"
      ],
      "metadata": {
        "colab": {
          "base_uri": "https://localhost:8080/"
        },
        "id": "q10Iybwicowu",
        "outputId": "b528c2f7-c54d-452a-9b1b-1ff5dba8e294"
      },
      "execution_count": 45,
      "outputs": [
        {
          "output_type": "execute_result",
          "data": {
            "text/plain": [
              "0.6993008739076154"
            ]
          },
          "metadata": {},
          "execution_count": 45
        }
      ]
    },
    {
      "cell_type": "markdown",
      "source": [
        "Stratified K-Fold Cross Validation"
      ],
      "metadata": {
        "id": "BQLlneAjcxeN"
      }
    },
    {
      "cell_type": "code",
      "source": [
        "from sklearn.model_selection import StratifiedKFold"
      ],
      "metadata": {
        "id": "WcU1gCGCcvsl"
      },
      "execution_count": 46,
      "outputs": []
    },
    {
      "cell_type": "code",
      "source": [
        "skfold_validator=StratifiedKFold(n_splits=10)"
      ],
      "metadata": {
        "id": "zFlgYLAKc9S8"
      },
      "execution_count": 47,
      "outputs": []
    },
    {
      "cell_type": "code",
      "source": [
        "for train_index,test_index in skfold_validator.split(X,Y):\n",
        "  print('Training index:',train_index)\n",
        "  print('Test Index:',test_index)"
      ],
      "metadata": {
        "colab": {
          "base_uri": "https://localhost:8080/"
        },
        "id": "P63vJAcndADA",
        "outputId": "a4420753-5f7d-4710-d8af-6ae420a6a20f"
      },
      "execution_count": 48,
      "outputs": [
        {
          "output_type": "stream",
          "name": "stdout",
          "text": [
            "Training index: [ 82  84  85  88  94  95  96  97  98  99 100 101 102 103 104 105 106 107\n",
            " 108 109 110 111 112 113 114 115 116 117 118 119 120 121 122 123 124 125\n",
            " 126 127 128 129 130 131 132 133 134 135 136 137 138 139 140 141 142 143\n",
            " 144 145 146 147 148 149 150 151 152 153 154 155 156 157 158 159 160 161\n",
            " 162 163 164 165 166 167 168 169 170 171 172 173 174 175 176 177 178 179\n",
            " 180 181 182 183 184 185 186 187 188 189 190 191 192 193 194 195 196 197\n",
            " 198 199 200 201 202 203 204 205 206 207 208 209 210 211 212 213 214 215\n",
            " 216 217 218 219 220 221 222 223 224 225 226 227 228 229 230 231 232 233\n",
            " 234 235 236 237 238 239 240 241 242 243 244 245 246 247 248 249 250 251\n",
            " 252 253 254 255 256 257 258 259 260 261 262 263 264 265 266 267 268 269\n",
            " 270 271 272 273 274 275 276 277 278 279 280 281 282 283 284 285 286 287\n",
            " 288 289 290 291 292 293 294 295 296 297 298 299 300 301 302 303 304 305\n",
            " 306 307 308 309 310 311 312 313 314 315 316 317 318 319 320 321 322 323\n",
            " 324 325 326 327 328 329 330 331 332 333 334 335 336 337 338 339 340 341\n",
            " 342 343 344 345 346 347 348 349 350 351 352 353 354 355 356 357 358 359\n",
            " 360 361 362 363 364 365 366 367 368 369 370 371 372 373 374 375 376 377\n",
            " 378 379 380 381 382 383 384 385 386 387 388 389 390 391 392 393 394 395\n",
            " 396 397 398 399 400 401 402 403 404 405 406 407 408 409 410 411 412 413\n",
            " 414 415 416 417 418 419 420 421 422 423 424 425 426 427 428 429 430 431\n",
            " 432 433 434 435 436 437 438 439 440 441 442 443 444 445 446 447 448 449\n",
            " 450 451 452 453 454 455 456 457 458 459 460 461 462 463 464 465 466 467\n",
            " 468 469 470 471 472 473 474 475 476 477 478 479 480 481 482 483 484 485\n",
            " 486 487 488 489 490 491 492 493 494 495 496 497 498 499 500 501 502 503\n",
            " 504 505 506 507 508 509 510 511 512 513 514 515 516 517 518 519 520 521\n",
            " 522 523 524 525 526 527 528 529 530 531 532 533 534 535 536 537 538 539\n",
            " 540 541 542 543 544 545 546 547 548 549 550 551 552 553 554 555 556 557\n",
            " 558 559 560 561 562 563 564 565 566 567 568 569 570 571 572 573 574 575\n",
            " 576 577 578 579 580 581 582 583 584 585 586 587 588 589 590 591 592 593\n",
            " 594 595 596 597 598 599 600 601 602 603 604 605 606 607 608 609 610 611\n",
            " 612 613 614 615 616 617 618 619 620 621 622 623 624 625 626 627 628 629\n",
            " 630 631 632 633 634 635 636 637 638 639 640 641 642 643 644 645 646 647\n",
            " 648 649 650 651 652 653 654 655 656 657 658 659 660 661 662 663 664 665\n",
            " 666 667 668 669 670 671 672 673 674 675 676 677 678 679 680 681 682 683\n",
            " 684 685 686 687 688 689 690 691 692 693 694 695 696 697 698 699 700 701\n",
            " 702 703 704 705 706 707 708 709 710 711 712 713 714 715 716 717 718 719\n",
            " 720 721 722 723 724 725 726 727 728 729 730 731 732 733 734 735 736 737\n",
            " 738 739 740 741 742 743 744 745 746 747 748 749 750 751 752 753 754 755\n",
            " 756 757 758 759 760 761 762 763 764 765 766 767 768 769 770 771 772 773\n",
            " 774 775 776 777 778 779 780 781 782 783 784 785 786 787 788 789 790 791\n",
            " 792 793 794 795 796 797 798 799 800 801 802 803 804 805 806 807 808 809\n",
            " 810 811 812 813 814 815 816 817 818 819 820 821 822 823 824 825 826 827\n",
            " 828 829 830 831 832 833 834 835 836 837 838 839 840 841 842 843 844 845\n",
            " 846 847 848 849 850 851 852 853 854 855 856 857 858 859 860 861 862 863\n",
            " 864 865 866 867 868 869 870 871 872 873 874 875 876 877 878 879 880 881\n",
            " 882 883 884 885 886 887 888 889 890]\n",
            "Test Index: [ 0  1  2  3  4  5  6  7  8  9 10 11 12 13 14 15 16 17 18 19 20 21 22 23\n",
            " 24 25 26 27 28 29 30 31 32 33 34 35 36 37 38 39 40 41 42 43 44 45 46 47\n",
            " 48 49 50 51 52 53 54 55 56 57 58 59 60 61 62 63 64 65 66 67 68 69 70 71\n",
            " 72 73 74 75 76 77 78 79 80 81 83 86 87 89 90 91 92 93]\n",
            "Training index: [  0   1   2   3   4   5   6   7   8   9  10  11  12  13  14  15  16  17\n",
            "  18  19  20  21  22  23  24  25  26  27  28  29  30  31  32  33  34  35\n",
            "  36  37  38  39  40  41  42  43  44  45  46  47  48  49  50  51  52  53\n",
            "  54  55  56  57  58  59  60  61  62  63  64  65  66  67  68  69  70  71\n",
            "  72  73  74  75  76  77  78  79  80  81  83  86  87  89  90  91  92  93\n",
            " 168 169 170 171 173 174 175 176 177 178 179 180 181 182 185 188 189 191\n",
            " 196 197 199 200 201 202 203 204 205 206 207 208 209 210 211 212 213 214\n",
            " 215 216 217 218 219 220 221 222 223 224 225 226 227 228 229 230 231 232\n",
            " 233 234 235 236 237 238 239 240 241 242 243 244 245 246 247 248 249 250\n",
            " 251 252 253 254 255 256 257 258 259 260 261 262 263 264 265 266 267 268\n",
            " 269 270 271 272 273 274 275 276 277 278 279 280 281 282 283 284 285 286\n",
            " 287 288 289 290 291 292 293 294 295 296 297 298 299 300 301 302 303 304\n",
            " 305 306 307 308 309 310 311 312 313 314 315 316 317 318 319 320 321 322\n",
            " 323 324 325 326 327 328 329 330 331 332 333 334 335 336 337 338 339 340\n",
            " 341 342 343 344 345 346 347 348 349 350 351 352 353 354 355 356 357 358\n",
            " 359 360 361 362 363 364 365 366 367 368 369 370 371 372 373 374 375 376\n",
            " 377 378 379 380 381 382 383 384 385 386 387 388 389 390 391 392 393 394\n",
            " 395 396 397 398 399 400 401 402 403 404 405 406 407 408 409 410 411 412\n",
            " 413 414 415 416 417 418 419 420 421 422 423 424 425 426 427 428 429 430\n",
            " 431 432 433 434 435 436 437 438 439 440 441 442 443 444 445 446 447 448\n",
            " 449 450 451 452 453 454 455 456 457 458 459 460 461 462 463 464 465 466\n",
            " 467 468 469 470 471 472 473 474 475 476 477 478 479 480 481 482 483 484\n",
            " 485 486 487 488 489 490 491 492 493 494 495 496 497 498 499 500 501 502\n",
            " 503 504 505 506 507 508 509 510 511 512 513 514 515 516 517 518 519 520\n",
            " 521 522 523 524 525 526 527 528 529 530 531 532 533 534 535 536 537 538\n",
            " 539 540 541 542 543 544 545 546 547 548 549 550 551 552 553 554 555 556\n",
            " 557 558 559 560 561 562 563 564 565 566 567 568 569 570 571 572 573 574\n",
            " 575 576 577 578 579 580 581 582 583 584 585 586 587 588 589 590 591 592\n",
            " 593 594 595 596 597 598 599 600 601 602 603 604 605 606 607 608 609 610\n",
            " 611 612 613 614 615 616 617 618 619 620 621 622 623 624 625 626 627 628\n",
            " 629 630 631 632 633 634 635 636 637 638 639 640 641 642 643 644 645 646\n",
            " 647 648 649 650 651 652 653 654 655 656 657 658 659 660 661 662 663 664\n",
            " 665 666 667 668 669 670 671 672 673 674 675 676 677 678 679 680 681 682\n",
            " 683 684 685 686 687 688 689 690 691 692 693 694 695 696 697 698 699 700\n",
            " 701 702 703 704 705 706 707 708 709 710 711 712 713 714 715 716 717 718\n",
            " 719 720 721 722 723 724 725 726 727 728 729 730 731 732 733 734 735 736\n",
            " 737 738 739 740 741 742 743 744 745 746 747 748 749 750 751 752 753 754\n",
            " 755 756 757 758 759 760 761 762 763 764 765 766 767 768 769 770 771 772\n",
            " 773 774 775 776 777 778 779 780 781 782 783 784 785 786 787 788 789 790\n",
            " 791 792 793 794 795 796 797 798 799 800 801 802 803 804 805 806 807 808\n",
            " 809 810 811 812 813 814 815 816 817 818 819 820 821 822 823 824 825 826\n",
            " 827 828 829 830 831 832 833 834 835 836 837 838 839 840 841 842 843 844\n",
            " 845 846 847 848 849 850 851 852 853 854 855 856 857 858 859 860 861 862\n",
            " 863 864 865 866 867 868 869 870 871 872 873 874 875 876 877 878 879 880\n",
            " 881 882 883 884 885 886 887 888 889 890]\n",
            "Test Index: [ 82  84  85  88  94  95  96  97  98  99 100 101 102 103 104 105 106 107\n",
            " 108 109 110 111 112 113 114 115 116 117 118 119 120 121 122 123 124 125\n",
            " 126 127 128 129 130 131 132 133 134 135 136 137 138 139 140 141 142 143\n",
            " 144 145 146 147 148 149 150 151 152 153 154 155 156 157 158 159 160 161\n",
            " 162 163 164 165 166 167 172 183 184 186 187 190 192 193 194 195 198]\n",
            "Training index: [  0   1   2   3   4   5   6   7   8   9  10  11  12  13  14  15  16  17\n",
            "  18  19  20  21  22  23  24  25  26  27  28  29  30  31  32  33  34  35\n",
            "  36  37  38  39  40  41  42  43  44  45  46  47  48  49  50  51  52  53\n",
            "  54  55  56  57  58  59  60  61  62  63  64  65  66  67  68  69  70  71\n",
            "  72  73  74  75  76  77  78  79  80  81  82  83  84  85  86  87  88  89\n",
            "  90  91  92  93  94  95  96  97  98  99 100 101 102 103 104 105 106 107\n",
            " 108 109 110 111 112 113 114 115 116 117 118 119 120 121 122 123 124 125\n",
            " 126 127 128 129 130 131 132 133 134 135 136 137 138 139 140 141 142 143\n",
            " 144 145 146 147 148 149 150 151 152 153 154 155 156 157 158 159 160 161\n",
            " 162 163 164 165 166 167 172 183 184 186 187 190 192 193 194 195 198 251\n",
            " 252 253 254 260 262 263 264 265 266 270 273 276 277 278 280 281 282 284\n",
            " 285 287 289 290 291 292 293 294 295 296 297 298 299 300 301 302 303 304\n",
            " 305 306 307 308 309 310 311 312 313 314 315 316 317 318 319 320 321 322\n",
            " 323 324 325 326 327 328 329 330 331 332 333 334 335 336 337 338 339 340\n",
            " 341 342 343 344 345 346 347 348 349 350 351 352 353 354 355 356 357 358\n",
            " 359 360 361 362 363 364 365 366 367 368 369 370 371 372 373 374 375 376\n",
            " 377 378 379 380 381 382 383 384 385 386 387 388 389 390 391 392 393 394\n",
            " 395 396 397 398 399 400 401 402 403 404 405 406 407 408 409 410 411 412\n",
            " 413 414 415 416 417 418 419 420 421 422 423 424 425 426 427 428 429 430\n",
            " 431 432 433 434 435 436 437 438 439 440 441 442 443 444 445 446 447 448\n",
            " 449 450 451 452 453 454 455 456 457 458 459 460 461 462 463 464 465 466\n",
            " 467 468 469 470 471 472 473 474 475 476 477 478 479 480 481 482 483 484\n",
            " 485 486 487 488 489 490 491 492 493 494 495 496 497 498 499 500 501 502\n",
            " 503 504 505 506 507 508 509 510 511 512 513 514 515 516 517 518 519 520\n",
            " 521 522 523 524 525 526 527 528 529 530 531 532 533 534 535 536 537 538\n",
            " 539 540 541 542 543 544 545 546 547 548 549 550 551 552 553 554 555 556\n",
            " 557 558 559 560 561 562 563 564 565 566 567 568 569 570 571 572 573 574\n",
            " 575 576 577 578 579 580 581 582 583 584 585 586 587 588 589 590 591 592\n",
            " 593 594 595 596 597 598 599 600 601 602 603 604 605 606 607 608 609 610\n",
            " 611 612 613 614 615 616 617 618 619 620 621 622 623 624 625 626 627 628\n",
            " 629 630 631 632 633 634 635 636 637 638 639 640 641 642 643 644 645 646\n",
            " 647 648 649 650 651 652 653 654 655 656 657 658 659 660 661 662 663 664\n",
            " 665 666 667 668 669 670 671 672 673 674 675 676 677 678 679 680 681 682\n",
            " 683 684 685 686 687 688 689 690 691 692 693 694 695 696 697 698 699 700\n",
            " 701 702 703 704 705 706 707 708 709 710 711 712 713 714 715 716 717 718\n",
            " 719 720 721 722 723 724 725 726 727 728 729 730 731 732 733 734 735 736\n",
            " 737 738 739 740 741 742 743 744 745 746 747 748 749 750 751 752 753 754\n",
            " 755 756 757 758 759 760 761 762 763 764 765 766 767 768 769 770 771 772\n",
            " 773 774 775 776 777 778 779 780 781 782 783 784 785 786 787 788 789 790\n",
            " 791 792 793 794 795 796 797 798 799 800 801 802 803 804 805 806 807 808\n",
            " 809 810 811 812 813 814 815 816 817 818 819 820 821 822 823 824 825 826\n",
            " 827 828 829 830 831 832 833 834 835 836 837 838 839 840 841 842 843 844\n",
            " 845 846 847 848 849 850 851 852 853 854 855 856 857 858 859 860 861 862\n",
            " 863 864 865 866 867 868 869 870 871 872 873 874 875 876 877 878 879 880\n",
            " 881 882 883 884 885 886 887 888 889 890]\n",
            "Test Index: [168 169 170 171 173 174 175 176 177 178 179 180 181 182 185 188 189 191\n",
            " 196 197 199 200 201 202 203 204 205 206 207 208 209 210 211 212 213 214\n",
            " 215 216 217 218 219 220 221 222 223 224 225 226 227 228 229 230 231 232\n",
            " 233 234 235 236 237 238 239 240 241 242 243 244 245 246 247 248 249 250\n",
            " 255 256 257 258 259 261 267 268 269 271 272 274 275 279 283 286 288]\n",
            "Training index: [  0   1   2   3   4   5   6   7   8   9  10  11  12  13  14  15  16  17\n",
            "  18  19  20  21  22  23  24  25  26  27  28  29  30  31  32  33  34  35\n",
            "  36  37  38  39  40  41  42  43  44  45  46  47  48  49  50  51  52  53\n",
            "  54  55  56  57  58  59  60  61  62  63  64  65  66  67  68  69  70  71\n",
            "  72  73  74  75  76  77  78  79  80  81  82  83  84  85  86  87  88  89\n",
            "  90  91  92  93  94  95  96  97  98  99 100 101 102 103 104 105 106 107\n",
            " 108 109 110 111 112 113 114 115 116 117 118 119 120 121 122 123 124 125\n",
            " 126 127 128 129 130 131 132 133 134 135 136 137 138 139 140 141 142 143\n",
            " 144 145 146 147 148 149 150 151 152 153 154 155 156 157 158 159 160 161\n",
            " 162 163 164 165 166 167 168 169 170 171 172 173 174 175 176 177 178 179\n",
            " 180 181 182 183 184 185 186 187 188 189 190 191 192 193 194 195 196 197\n",
            " 198 199 200 201 202 203 204 205 206 207 208 209 210 211 212 213 214 215\n",
            " 216 217 218 219 220 221 222 223 224 225 226 227 228 229 230 231 232 233\n",
            " 234 235 236 237 238 239 240 241 242 243 244 245 246 247 248 249 250 255\n",
            " 256 257 258 259 261 267 268 269 271 272 274 275 279 283 286 288 356 358\n",
            " 359 360 361 362 363 364 365 366 367 368 369 370 371 372 373 374 375 376\n",
            " 377 378 379 380 381 382 383 384 385 386 387 388 389 390 391 392 393 394\n",
            " 395 396 397 398 399 400 401 402 403 404 405 406 407 408 409 410 411 412\n",
            " 413 414 415 416 417 418 419 420 421 422 423 424 425 426 427 428 429 430\n",
            " 431 432 433 434 435 436 437 438 439 440 441 442 443 444 445 446 447 448\n",
            " 449 450 451 452 453 454 455 456 457 458 459 460 461 462 463 464 465 466\n",
            " 467 468 469 470 471 472 473 474 475 476 477 478 479 480 481 482 483 484\n",
            " 485 486 487 488 489 490 491 492 493 494 495 496 497 498 499 500 501 502\n",
            " 503 504 505 506 507 508 509 510 511 512 513 514 515 516 517 518 519 520\n",
            " 521 522 523 524 525 526 527 528 529 530 531 532 533 534 535 536 537 538\n",
            " 539 540 541 542 543 544 545 546 547 548 549 550 551 552 553 554 555 556\n",
            " 557 558 559 560 561 562 563 564 565 566 567 568 569 570 571 572 573 574\n",
            " 575 576 577 578 579 580 581 582 583 584 585 586 587 588 589 590 591 592\n",
            " 593 594 595 596 597 598 599 600 601 602 603 604 605 606 607 608 609 610\n",
            " 611 612 613 614 615 616 617 618 619 620 621 622 623 624 625 626 627 628\n",
            " 629 630 631 632 633 634 635 636 637 638 639 640 641 642 643 644 645 646\n",
            " 647 648 649 650 651 652 653 654 655 656 657 658 659 660 661 662 663 664\n",
            " 665 666 667 668 669 670 671 672 673 674 675 676 677 678 679 680 681 682\n",
            " 683 684 685 686 687 688 689 690 691 692 693 694 695 696 697 698 699 700\n",
            " 701 702 703 704 705 706 707 708 709 710 711 712 713 714 715 716 717 718\n",
            " 719 720 721 722 723 724 725 726 727 728 729 730 731 732 733 734 735 736\n",
            " 737 738 739 740 741 742 743 744 745 746 747 748 749 750 751 752 753 754\n",
            " 755 756 757 758 759 760 761 762 763 764 765 766 767 768 769 770 771 772\n",
            " 773 774 775 776 777 778 779 780 781 782 783 784 785 786 787 788 789 790\n",
            " 791 792 793 794 795 796 797 798 799 800 801 802 803 804 805 806 807 808\n",
            " 809 810 811 812 813 814 815 816 817 818 819 820 821 822 823 824 825 826\n",
            " 827 828 829 830 831 832 833 834 835 836 837 838 839 840 841 842 843 844\n",
            " 845 846 847 848 849 850 851 852 853 854 855 856 857 858 859 860 861 862\n",
            " 863 864 865 866 867 868 869 870 871 872 873 874 875 876 877 878 879 880\n",
            " 881 882 883 884 885 886 887 888 889 890]\n",
            "Test Index: [251 252 253 254 260 262 263 264 265 266 270 273 276 277 278 280 281 282\n",
            " 284 285 287 289 290 291 292 293 294 295 296 297 298 299 300 301 302 303\n",
            " 304 305 306 307 308 309 310 311 312 313 314 315 316 317 318 319 320 321\n",
            " 322 323 324 325 326 327 328 329 330 331 332 333 334 335 336 337 338 339\n",
            " 340 341 342 343 344 345 346 347 348 349 350 351 352 353 354 355 357]\n",
            "Training index: [  0   1   2   3   4   5   6   7   8   9  10  11  12  13  14  15  16  17\n",
            "  18  19  20  21  22  23  24  25  26  27  28  29  30  31  32  33  34  35\n",
            "  36  37  38  39  40  41  42  43  44  45  46  47  48  49  50  51  52  53\n",
            "  54  55  56  57  58  59  60  61  62  63  64  65  66  67  68  69  70  71\n",
            "  72  73  74  75  76  77  78  79  80  81  82  83  84  85  86  87  88  89\n",
            "  90  91  92  93  94  95  96  97  98  99 100 101 102 103 104 105 106 107\n",
            " 108 109 110 111 112 113 114 115 116 117 118 119 120 121 122 123 124 125\n",
            " 126 127 128 129 130 131 132 133 134 135 136 137 138 139 140 141 142 143\n",
            " 144 145 146 147 148 149 150 151 152 153 154 155 156 157 158 159 160 161\n",
            " 162 163 164 165 166 167 168 169 170 171 172 173 174 175 176 177 178 179\n",
            " 180 181 182 183 184 185 186 187 188 189 190 191 192 193 194 195 196 197\n",
            " 198 199 200 201 202 203 204 205 206 207 208 209 210 211 212 213 214 215\n",
            " 216 217 218 219 220 221 222 223 224 225 226 227 228 229 230 231 232 233\n",
            " 234 235 236 237 238 239 240 241 242 243 244 245 246 247 248 249 250 251\n",
            " 252 253 254 255 256 257 258 259 260 261 262 263 264 265 266 267 268 269\n",
            " 270 271 272 273 274 275 276 277 278 279 280 281 282 283 284 285 286 287\n",
            " 288 289 290 291 292 293 294 295 296 297 298 299 300 301 302 303 304 305\n",
            " 306 307 308 309 310 311 312 313 314 315 316 317 318 319 320 321 322 323\n",
            " 324 325 326 327 328 329 330 331 332 333 334 335 336 337 338 339 340 341\n",
            " 342 343 344 345 346 347 348 349 350 351 352 353 354 355 357 440 443 444\n",
            " 445 446 447 448 449 453 455 456 457 458 459 460 461 462 463 464 465 466\n",
            " 467 468 469 470 471 472 473 474 475 476 477 478 479 480 481 482 483 484\n",
            " 485 486 487 488 489 490 491 492 493 494 495 496 497 498 499 500 501 502\n",
            " 503 504 505 506 507 508 509 510 511 512 513 514 515 516 517 518 519 520\n",
            " 521 522 523 524 525 526 527 528 529 530 531 532 533 534 535 536 537 538\n",
            " 539 540 541 542 543 544 545 546 547 548 549 550 551 552 553 554 555 556\n",
            " 557 558 559 560 561 562 563 564 565 566 567 568 569 570 571 572 573 574\n",
            " 575 576 577 578 579 580 581 582 583 584 585 586 587 588 589 590 591 592\n",
            " 593 594 595 596 597 598 599 600 601 602 603 604 605 606 607 608 609 610\n",
            " 611 612 613 614 615 616 617 618 619 620 621 622 623 624 625 626 627 628\n",
            " 629 630 631 632 633 634 635 636 637 638 639 640 641 642 643 644 645 646\n",
            " 647 648 649 650 651 652 653 654 655 656 657 658 659 660 661 662 663 664\n",
            " 665 666 667 668 669 670 671 672 673 674 675 676 677 678 679 680 681 682\n",
            " 683 684 685 686 687 688 689 690 691 692 693 694 695 696 697 698 699 700\n",
            " 701 702 703 704 705 706 707 708 709 710 711 712 713 714 715 716 717 718\n",
            " 719 720 721 722 723 724 725 726 727 728 729 730 731 732 733 734 735 736\n",
            " 737 738 739 740 741 742 743 744 745 746 747 748 749 750 751 752 753 754\n",
            " 755 756 757 758 759 760 761 762 763 764 765 766 767 768 769 770 771 772\n",
            " 773 774 775 776 777 778 779 780 781 782 783 784 785 786 787 788 789 790\n",
            " 791 792 793 794 795 796 797 798 799 800 801 802 803 804 805 806 807 808\n",
            " 809 810 811 812 813 814 815 816 817 818 819 820 821 822 823 824 825 826\n",
            " 827 828 829 830 831 832 833 834 835 836 837 838 839 840 841 842 843 844\n",
            " 845 846 847 848 849 850 851 852 853 854 855 856 857 858 859 860 861 862\n",
            " 863 864 865 866 867 868 869 870 871 872 873 874 875 876 877 878 879 880\n",
            " 881 882 883 884 885 886 887 888 889 890]\n",
            "Test Index: [356 358 359 360 361 362 363 364 365 366 367 368 369 370 371 372 373 374\n",
            " 375 376 377 378 379 380 381 382 383 384 385 386 387 388 389 390 391 392\n",
            " 393 394 395 396 397 398 399 400 401 402 403 404 405 406 407 408 409 410\n",
            " 411 412 413 414 415 416 417 418 419 420 421 422 423 424 425 426 427 428\n",
            " 429 430 431 432 433 434 435 436 437 438 439 441 442 450 451 452 454]\n",
            "Training index: [  0   1   2   3   4   5   6   7   8   9  10  11  12  13  14  15  16  17\n",
            "  18  19  20  21  22  23  24  25  26  27  28  29  30  31  32  33  34  35\n",
            "  36  37  38  39  40  41  42  43  44  45  46  47  48  49  50  51  52  53\n",
            "  54  55  56  57  58  59  60  61  62  63  64  65  66  67  68  69  70  71\n",
            "  72  73  74  75  76  77  78  79  80  81  82  83  84  85  86  87  88  89\n",
            "  90  91  92  93  94  95  96  97  98  99 100 101 102 103 104 105 106 107\n",
            " 108 109 110 111 112 113 114 115 116 117 118 119 120 121 122 123 124 125\n",
            " 126 127 128 129 130 131 132 133 134 135 136 137 138 139 140 141 142 143\n",
            " 144 145 146 147 148 149 150 151 152 153 154 155 156 157 158 159 160 161\n",
            " 162 163 164 165 166 167 168 169 170 171 172 173 174 175 176 177 178 179\n",
            " 180 181 182 183 184 185 186 187 188 189 190 191 192 193 194 195 196 197\n",
            " 198 199 200 201 202 203 204 205 206 207 208 209 210 211 212 213 214 215\n",
            " 216 217 218 219 220 221 222 223 224 225 226 227 228 229 230 231 232 233\n",
            " 234 235 236 237 238 239 240 241 242 243 244 245 246 247 248 249 250 251\n",
            " 252 253 254 255 256 257 258 259 260 261 262 263 264 265 266 267 268 269\n",
            " 270 271 272 273 274 275 276 277 278 279 280 281 282 283 284 285 286 287\n",
            " 288 289 290 291 292 293 294 295 296 297 298 299 300 301 302 303 304 305\n",
            " 306 307 308 309 310 311 312 313 314 315 316 317 318 319 320 321 322 323\n",
            " 324 325 326 327 328 329 330 331 332 333 334 335 336 337 338 339 340 341\n",
            " 342 343 344 345 346 347 348 349 350 351 352 353 354 355 356 357 358 359\n",
            " 360 361 362 363 364 365 366 367 368 369 370 371 372 373 374 375 376 377\n",
            " 378 379 380 381 382 383 384 385 386 387 388 389 390 391 392 393 394 395\n",
            " 396 397 398 399 400 401 402 403 404 405 406 407 408 409 410 411 412 413\n",
            " 414 415 416 417 418 419 420 421 422 423 424 425 426 427 428 429 430 431\n",
            " 432 433 434 435 436 437 438 439 441 442 450 451 452 454 530 533 535 537\n",
            " 539 540 541 542 543 544 545 546 547 548 549 550 551 552 553 554 555 556\n",
            " 557 558 559 560 561 562 563 564 565 566 567 568 569 570 571 572 573 574\n",
            " 575 576 577 578 579 580 581 582 583 584 585 586 587 588 589 590 591 592\n",
            " 593 594 595 596 597 598 599 600 601 602 603 604 605 606 607 608 609 610\n",
            " 611 612 613 614 615 616 617 618 619 620 621 622 623 624 625 626 627 628\n",
            " 629 630 631 632 633 634 635 636 637 638 639 640 641 642 643 644 645 646\n",
            " 647 648 649 650 651 652 653 654 655 656 657 658 659 660 661 662 663 664\n",
            " 665 666 667 668 669 670 671 672 673 674 675 676 677 678 679 680 681 682\n",
            " 683 684 685 686 687 688 689 690 691 692 693 694 695 696 697 698 699 700\n",
            " 701 702 703 704 705 706 707 708 709 710 711 712 713 714 715 716 717 718\n",
            " 719 720 721 722 723 724 725 726 727 728 729 730 731 732 733 734 735 736\n",
            " 737 738 739 740 741 742 743 744 745 746 747 748 749 750 751 752 753 754\n",
            " 755 756 757 758 759 760 761 762 763 764 765 766 767 768 769 770 771 772\n",
            " 773 774 775 776 777 778 779 780 781 782 783 784 785 786 787 788 789 790\n",
            " 791 792 793 794 795 796 797 798 799 800 801 802 803 804 805 806 807 808\n",
            " 809 810 811 812 813 814 815 816 817 818 819 820 821 822 823 824 825 826\n",
            " 827 828 829 830 831 832 833 834 835 836 837 838 839 840 841 842 843 844\n",
            " 845 846 847 848 849 850 851 852 853 854 855 856 857 858 859 860 861 862\n",
            " 863 864 865 866 867 868 869 870 871 872 873 874 875 876 877 878 879 880\n",
            " 881 882 883 884 885 886 887 888 889 890]\n",
            "Test Index: [440 443 444 445 446 447 448 449 453 455 456 457 458 459 460 461 462 463\n",
            " 464 465 466 467 468 469 470 471 472 473 474 475 476 477 478 479 480 481\n",
            " 482 483 484 485 486 487 488 489 490 491 492 493 494 495 496 497 498 499\n",
            " 500 501 502 503 504 505 506 507 508 509 510 511 512 513 514 515 516 517\n",
            " 518 519 520 521 522 523 524 525 526 527 528 529 531 532 534 536 538]\n",
            "Training index: [  0   1   2   3   4   5   6   7   8   9  10  11  12  13  14  15  16  17\n",
            "  18  19  20  21  22  23  24  25  26  27  28  29  30  31  32  33  34  35\n",
            "  36  37  38  39  40  41  42  43  44  45  46  47  48  49  50  51  52  53\n",
            "  54  55  56  57  58  59  60  61  62  63  64  65  66  67  68  69  70  71\n",
            "  72  73  74  75  76  77  78  79  80  81  82  83  84  85  86  87  88  89\n",
            "  90  91  92  93  94  95  96  97  98  99 100 101 102 103 104 105 106 107\n",
            " 108 109 110 111 112 113 114 115 116 117 118 119 120 121 122 123 124 125\n",
            " 126 127 128 129 130 131 132 133 134 135 136 137 138 139 140 141 142 143\n",
            " 144 145 146 147 148 149 150 151 152 153 154 155 156 157 158 159 160 161\n",
            " 162 163 164 165 166 167 168 169 170 171 172 173 174 175 176 177 178 179\n",
            " 180 181 182 183 184 185 186 187 188 189 190 191 192 193 194 195 196 197\n",
            " 198 199 200 201 202 203 204 205 206 207 208 209 210 211 212 213 214 215\n",
            " 216 217 218 219 220 221 222 223 224 225 226 227 228 229 230 231 232 233\n",
            " 234 235 236 237 238 239 240 241 242 243 244 245 246 247 248 249 250 251\n",
            " 252 253 254 255 256 257 258 259 260 261 262 263 264 265 266 267 268 269\n",
            " 270 271 272 273 274 275 276 277 278 279 280 281 282 283 284 285 286 287\n",
            " 288 289 290 291 292 293 294 295 296 297 298 299 300 301 302 303 304 305\n",
            " 306 307 308 309 310 311 312 313 314 315 316 317 318 319 320 321 322 323\n",
            " 324 325 326 327 328 329 330 331 332 333 334 335 336 337 338 339 340 341\n",
            " 342 343 344 345 346 347 348 349 350 351 352 353 354 355 356 357 358 359\n",
            " 360 361 362 363 364 365 366 367 368 369 370 371 372 373 374 375 376 377\n",
            " 378 379 380 381 382 383 384 385 386 387 388 389 390 391 392 393 394 395\n",
            " 396 397 398 399 400 401 402 403 404 405 406 407 408 409 410 411 412 413\n",
            " 414 415 416 417 418 419 420 421 422 423 424 425 426 427 428 429 430 431\n",
            " 432 433 434 435 436 437 438 439 440 441 442 443 444 445 446 447 448 449\n",
            " 450 451 452 453 454 455 456 457 458 459 460 461 462 463 464 465 466 467\n",
            " 468 469 470 471 472 473 474 475 476 477 478 479 480 481 482 483 484 485\n",
            " 486 487 488 489 490 491 492 493 494 495 496 497 498 499 500 501 502 503\n",
            " 504 505 506 507 508 509 510 511 512 513 514 515 516 517 518 519 520 521\n",
            " 522 523 524 525 526 527 528 529 531 532 534 536 538 608 609 612 615 618\n",
            " 621 622 627 630 632 634 635 636 637 638 639 640 641 642 643 644 645 646\n",
            " 647 648 649 650 651 652 653 654 655 656 657 658 659 660 661 662 663 664\n",
            " 665 666 667 668 669 670 671 672 673 674 675 676 677 678 679 680 681 682\n",
            " 683 684 685 686 687 688 689 690 691 692 693 694 695 696 697 698 699 700\n",
            " 701 702 703 704 705 706 707 708 709 710 711 712 713 714 715 716 717 718\n",
            " 719 720 721 722 723 724 725 726 727 728 729 730 731 732 733 734 735 736\n",
            " 737 738 739 740 741 742 743 744 745 746 747 748 749 750 751 752 753 754\n",
            " 755 756 757 758 759 760 761 762 763 764 765 766 767 768 769 770 771 772\n",
            " 773 774 775 776 777 778 779 780 781 782 783 784 785 786 787 788 789 790\n",
            " 791 792 793 794 795 796 797 798 799 800 801 802 803 804 805 806 807 808\n",
            " 809 810 811 812 813 814 815 816 817 818 819 820 821 822 823 824 825 826\n",
            " 827 828 829 830 831 832 833 834 835 836 837 838 839 840 841 842 843 844\n",
            " 845 846 847 848 849 850 851 852 853 854 855 856 857 858 859 860 861 862\n",
            " 863 864 865 866 867 868 869 870 871 872 873 874 875 876 877 878 879 880\n",
            " 881 882 883 884 885 886 887 888 889 890]\n",
            "Test Index: [530 533 535 537 539 540 541 542 543 544 545 546 547 548 549 550 551 552\n",
            " 553 554 555 556 557 558 559 560 561 562 563 564 565 566 567 568 569 570\n",
            " 571 572 573 574 575 576 577 578 579 580 581 582 583 584 585 586 587 588\n",
            " 589 590 591 592 593 594 595 596 597 598 599 600 601 602 603 604 605 606\n",
            " 607 610 611 613 614 616 617 619 620 623 624 625 626 628 629 631 633]\n",
            "Training index: [  0   1   2   3   4   5   6   7   8   9  10  11  12  13  14  15  16  17\n",
            "  18  19  20  21  22  23  24  25  26  27  28  29  30  31  32  33  34  35\n",
            "  36  37  38  39  40  41  42  43  44  45  46  47  48  49  50  51  52  53\n",
            "  54  55  56  57  58  59  60  61  62  63  64  65  66  67  68  69  70  71\n",
            "  72  73  74  75  76  77  78  79  80  81  82  83  84  85  86  87  88  89\n",
            "  90  91  92  93  94  95  96  97  98  99 100 101 102 103 104 105 106 107\n",
            " 108 109 110 111 112 113 114 115 116 117 118 119 120 121 122 123 124 125\n",
            " 126 127 128 129 130 131 132 133 134 135 136 137 138 139 140 141 142 143\n",
            " 144 145 146 147 148 149 150 151 152 153 154 155 156 157 158 159 160 161\n",
            " 162 163 164 165 166 167 168 169 170 171 172 173 174 175 176 177 178 179\n",
            " 180 181 182 183 184 185 186 187 188 189 190 191 192 193 194 195 196 197\n",
            " 198 199 200 201 202 203 204 205 206 207 208 209 210 211 212 213 214 215\n",
            " 216 217 218 219 220 221 222 223 224 225 226 227 228 229 230 231 232 233\n",
            " 234 235 236 237 238 239 240 241 242 243 244 245 246 247 248 249 250 251\n",
            " 252 253 254 255 256 257 258 259 260 261 262 263 264 265 266 267 268 269\n",
            " 270 271 272 273 274 275 276 277 278 279 280 281 282 283 284 285 286 287\n",
            " 288 289 290 291 292 293 294 295 296 297 298 299 300 301 302 303 304 305\n",
            " 306 307 308 309 310 311 312 313 314 315 316 317 318 319 320 321 322 323\n",
            " 324 325 326 327 328 329 330 331 332 333 334 335 336 337 338 339 340 341\n",
            " 342 343 344 345 346 347 348 349 350 351 352 353 354 355 356 357 358 359\n",
            " 360 361 362 363 364 365 366 367 368 369 370 371 372 373 374 375 376 377\n",
            " 378 379 380 381 382 383 384 385 386 387 388 389 390 391 392 393 394 395\n",
            " 396 397 398 399 400 401 402 403 404 405 406 407 408 409 410 411 412 413\n",
            " 414 415 416 417 418 419 420 421 422 423 424 425 426 427 428 429 430 431\n",
            " 432 433 434 435 436 437 438 439 440 441 442 443 444 445 446 447 448 449\n",
            " 450 451 452 453 454 455 456 457 458 459 460 461 462 463 464 465 466 467\n",
            " 468 469 470 471 472 473 474 475 476 477 478 479 480 481 482 483 484 485\n",
            " 486 487 488 489 490 491 492 493 494 495 496 497 498 499 500 501 502 503\n",
            " 504 505 506 507 508 509 510 511 512 513 514 515 516 517 518 519 520 521\n",
            " 522 523 524 525 526 527 528 529 530 531 532 533 534 535 536 537 538 539\n",
            " 540 541 542 543 544 545 546 547 548 549 550 551 552 553 554 555 556 557\n",
            " 558 559 560 561 562 563 564 565 566 567 568 569 570 571 572 573 574 575\n",
            " 576 577 578 579 580 581 582 583 584 585 586 587 588 589 590 591 592 593\n",
            " 594 595 596 597 598 599 600 601 602 603 604 605 606 607 610 611 613 614\n",
            " 616 617 619 620 623 624 625 626 628 629 631 633 706 707 708 709 710 712\n",
            " 716 717 720 722 723 724 725 726 727 728 729 730 731 732 733 734 735 736\n",
            " 737 738 739 740 741 742 743 744 745 746 747 748 749 750 751 752 753 754\n",
            " 755 756 757 758 759 760 761 762 763 764 765 766 767 768 769 770 771 772\n",
            " 773 774 775 776 777 778 779 780 781 782 783 784 785 786 787 788 789 790\n",
            " 791 792 793 794 795 796 797 798 799 800 801 802 803 804 805 806 807 808\n",
            " 809 810 811 812 813 814 815 816 817 818 819 820 821 822 823 824 825 826\n",
            " 827 828 829 830 831 832 833 834 835 836 837 838 839 840 841 842 843 844\n",
            " 845 846 847 848 849 850 851 852 853 854 855 856 857 858 859 860 861 862\n",
            " 863 864 865 866 867 868 869 870 871 872 873 874 875 876 877 878 879 880\n",
            " 881 882 883 884 885 886 887 888 889 890]\n",
            "Test Index: [608 609 612 615 618 621 622 627 630 632 634 635 636 637 638 639 640 641\n",
            " 642 643 644 645 646 647 648 649 650 651 652 653 654 655 656 657 658 659\n",
            " 660 661 662 663 664 665 666 667 668 669 670 671 672 673 674 675 676 677\n",
            " 678 679 680 681 682 683 684 685 686 687 688 689 690 691 692 693 694 695\n",
            " 696 697 698 699 700 701 702 703 704 705 711 713 714 715 718 719 721]\n",
            "Training index: [  0   1   2   3   4   5   6   7   8   9  10  11  12  13  14  15  16  17\n",
            "  18  19  20  21  22  23  24  25  26  27  28  29  30  31  32  33  34  35\n",
            "  36  37  38  39  40  41  42  43  44  45  46  47  48  49  50  51  52  53\n",
            "  54  55  56  57  58  59  60  61  62  63  64  65  66  67  68  69  70  71\n",
            "  72  73  74  75  76  77  78  79  80  81  82  83  84  85  86  87  88  89\n",
            "  90  91  92  93  94  95  96  97  98  99 100 101 102 103 104 105 106 107\n",
            " 108 109 110 111 112 113 114 115 116 117 118 119 120 121 122 123 124 125\n",
            " 126 127 128 129 130 131 132 133 134 135 136 137 138 139 140 141 142 143\n",
            " 144 145 146 147 148 149 150 151 152 153 154 155 156 157 158 159 160 161\n",
            " 162 163 164 165 166 167 168 169 170 171 172 173 174 175 176 177 178 179\n",
            " 180 181 182 183 184 185 186 187 188 189 190 191 192 193 194 195 196 197\n",
            " 198 199 200 201 202 203 204 205 206 207 208 209 210 211 212 213 214 215\n",
            " 216 217 218 219 220 221 222 223 224 225 226 227 228 229 230 231 232 233\n",
            " 234 235 236 237 238 239 240 241 242 243 244 245 246 247 248 249 250 251\n",
            " 252 253 254 255 256 257 258 259 260 261 262 263 264 265 266 267 268 269\n",
            " 270 271 272 273 274 275 276 277 278 279 280 281 282 283 284 285 286 287\n",
            " 288 289 290 291 292 293 294 295 296 297 298 299 300 301 302 303 304 305\n",
            " 306 307 308 309 310 311 312 313 314 315 316 317 318 319 320 321 322 323\n",
            " 324 325 326 327 328 329 330 331 332 333 334 335 336 337 338 339 340 341\n",
            " 342 343 344 345 346 347 348 349 350 351 352 353 354 355 356 357 358 359\n",
            " 360 361 362 363 364 365 366 367 368 369 370 371 372 373 374 375 376 377\n",
            " 378 379 380 381 382 383 384 385 386 387 388 389 390 391 392 393 394 395\n",
            " 396 397 398 399 400 401 402 403 404 405 406 407 408 409 410 411 412 413\n",
            " 414 415 416 417 418 419 420 421 422 423 424 425 426 427 428 429 430 431\n",
            " 432 433 434 435 436 437 438 439 440 441 442 443 444 445 446 447 448 449\n",
            " 450 451 452 453 454 455 456 457 458 459 460 461 462 463 464 465 466 467\n",
            " 468 469 470 471 472 473 474 475 476 477 478 479 480 481 482 483 484 485\n",
            " 486 487 488 489 490 491 492 493 494 495 496 497 498 499 500 501 502 503\n",
            " 504 505 506 507 508 509 510 511 512 513 514 515 516 517 518 519 520 521\n",
            " 522 523 524 525 526 527 528 529 530 531 532 533 534 535 536 537 538 539\n",
            " 540 541 542 543 544 545 546 547 548 549 550 551 552 553 554 555 556 557\n",
            " 558 559 560 561 562 563 564 565 566 567 568 569 570 571 572 573 574 575\n",
            " 576 577 578 579 580 581 582 583 584 585 586 587 588 589 590 591 592 593\n",
            " 594 595 596 597 598 599 600 601 602 603 604 605 606 607 608 609 610 611\n",
            " 612 613 614 615 616 617 618 619 620 621 622 623 624 625 626 627 628 629\n",
            " 630 631 632 633 634 635 636 637 638 639 640 641 642 643 644 645 646 647\n",
            " 648 649 650 651 652 653 654 655 656 657 658 659 660 661 662 663 664 665\n",
            " 666 667 668 669 670 671 672 673 674 675 676 677 678 679 680 681 682 683\n",
            " 684 685 686 687 688 689 690 691 692 693 694 695 696 697 698 699 700 701\n",
            " 702 703 704 705 711 713 714 715 718 719 721 797 801 802 803 804 807 808\n",
            " 809 810 811 812 813 814 815 816 817 818 819 820 821 822 823 824 825 826\n",
            " 827 828 829 830 831 832 833 834 835 836 837 838 839 840 841 842 843 844\n",
            " 845 846 847 848 849 850 851 852 853 854 855 856 857 858 859 860 861 862\n",
            " 863 864 865 866 867 868 869 870 871 872 873 874 875 876 877 878 879 880\n",
            " 881 882 883 884 885 886 887 888 889 890]\n",
            "Test Index: [706 707 708 709 710 712 716 717 720 722 723 724 725 726 727 728 729 730\n",
            " 731 732 733 734 735 736 737 738 739 740 741 742 743 744 745 746 747 748\n",
            " 749 750 751 752 753 754 755 756 757 758 759 760 761 762 763 764 765 766\n",
            " 767 768 769 770 771 772 773 774 775 776 777 778 779 780 781 782 783 784\n",
            " 785 786 787 788 789 790 791 792 793 794 795 796 798 799 800 805 806]\n",
            "Training index: [  0   1   2   3   4   5   6   7   8   9  10  11  12  13  14  15  16  17\n",
            "  18  19  20  21  22  23  24  25  26  27  28  29  30  31  32  33  34  35\n",
            "  36  37  38  39  40  41  42  43  44  45  46  47  48  49  50  51  52  53\n",
            "  54  55  56  57  58  59  60  61  62  63  64  65  66  67  68  69  70  71\n",
            "  72  73  74  75  76  77  78  79  80  81  82  83  84  85  86  87  88  89\n",
            "  90  91  92  93  94  95  96  97  98  99 100 101 102 103 104 105 106 107\n",
            " 108 109 110 111 112 113 114 115 116 117 118 119 120 121 122 123 124 125\n",
            " 126 127 128 129 130 131 132 133 134 135 136 137 138 139 140 141 142 143\n",
            " 144 145 146 147 148 149 150 151 152 153 154 155 156 157 158 159 160 161\n",
            " 162 163 164 165 166 167 168 169 170 171 172 173 174 175 176 177 178 179\n",
            " 180 181 182 183 184 185 186 187 188 189 190 191 192 193 194 195 196 197\n",
            " 198 199 200 201 202 203 204 205 206 207 208 209 210 211 212 213 214 215\n",
            " 216 217 218 219 220 221 222 223 224 225 226 227 228 229 230 231 232 233\n",
            " 234 235 236 237 238 239 240 241 242 243 244 245 246 247 248 249 250 251\n",
            " 252 253 254 255 256 257 258 259 260 261 262 263 264 265 266 267 268 269\n",
            " 270 271 272 273 274 275 276 277 278 279 280 281 282 283 284 285 286 287\n",
            " 288 289 290 291 292 293 294 295 296 297 298 299 300 301 302 303 304 305\n",
            " 306 307 308 309 310 311 312 313 314 315 316 317 318 319 320 321 322 323\n",
            " 324 325 326 327 328 329 330 331 332 333 334 335 336 337 338 339 340 341\n",
            " 342 343 344 345 346 347 348 349 350 351 352 353 354 355 356 357 358 359\n",
            " 360 361 362 363 364 365 366 367 368 369 370 371 372 373 374 375 376 377\n",
            " 378 379 380 381 382 383 384 385 386 387 388 389 390 391 392 393 394 395\n",
            " 396 397 398 399 400 401 402 403 404 405 406 407 408 409 410 411 412 413\n",
            " 414 415 416 417 418 419 420 421 422 423 424 425 426 427 428 429 430 431\n",
            " 432 433 434 435 436 437 438 439 440 441 442 443 444 445 446 447 448 449\n",
            " 450 451 452 453 454 455 456 457 458 459 460 461 462 463 464 465 466 467\n",
            " 468 469 470 471 472 473 474 475 476 477 478 479 480 481 482 483 484 485\n",
            " 486 487 488 489 490 491 492 493 494 495 496 497 498 499 500 501 502 503\n",
            " 504 505 506 507 508 509 510 511 512 513 514 515 516 517 518 519 520 521\n",
            " 522 523 524 525 526 527 528 529 530 531 532 533 534 535 536 537 538 539\n",
            " 540 541 542 543 544 545 546 547 548 549 550 551 552 553 554 555 556 557\n",
            " 558 559 560 561 562 563 564 565 566 567 568 569 570 571 572 573 574 575\n",
            " 576 577 578 579 580 581 582 583 584 585 586 587 588 589 590 591 592 593\n",
            " 594 595 596 597 598 599 600 601 602 603 604 605 606 607 608 609 610 611\n",
            " 612 613 614 615 616 617 618 619 620 621 622 623 624 625 626 627 628 629\n",
            " 630 631 632 633 634 635 636 637 638 639 640 641 642 643 644 645 646 647\n",
            " 648 649 650 651 652 653 654 655 656 657 658 659 660 661 662 663 664 665\n",
            " 666 667 668 669 670 671 672 673 674 675 676 677 678 679 680 681 682 683\n",
            " 684 685 686 687 688 689 690 691 692 693 694 695 696 697 698 699 700 701\n",
            " 702 703 704 705 706 707 708 709 710 711 712 713 714 715 716 717 718 719\n",
            " 720 721 722 723 724 725 726 727 728 729 730 731 732 733 734 735 736 737\n",
            " 738 739 740 741 742 743 744 745 746 747 748 749 750 751 752 753 754 755\n",
            " 756 757 758 759 760 761 762 763 764 765 766 767 768 769 770 771 772 773\n",
            " 774 775 776 777 778 779 780 781 782 783 784 785 786 787 788 789 790 791\n",
            " 792 793 794 795 796 798 799 800 805 806]\n",
            "Test Index: [797 801 802 803 804 807 808 809 810 811 812 813 814 815 816 817 818 819\n",
            " 820 821 822 823 824 825 826 827 828 829 830 831 832 833 834 835 836 837\n",
            " 838 839 840 841 842 843 844 845 846 847 848 849 850 851 852 853 854 855\n",
            " 856 857 858 859 860 861 862 863 864 865 866 867 868 869 870 871 872 873\n",
            " 874 875 876 877 878 879 880 881 882 883 884 885 886 887 888 889 890]\n"
          ]
        }
      ]
    },
    {
      "cell_type": "code",
      "source": [
        "skcv_result=cross_val_score(Linear_Model,X,Y,cv=skfold_validator)"
      ],
      "metadata": {
        "id": "2IpZsy_RdCub"
      },
      "execution_count": 49,
      "outputs": []
    },
    {
      "cell_type": "code",
      "source": [
        "skcv_result"
      ],
      "metadata": {
        "id": "7ljsN5QGdHpk",
        "outputId": "a5517647-6ef4-43b1-8c42-08598bfabb37",
        "colab": {
          "base_uri": "https://localhost:8080/"
        }
      },
      "execution_count": 50,
      "outputs": [
        {
          "output_type": "execute_result",
          "data": {
            "text/plain": [
              "array([0.63333333, 0.64044944, 0.71910112, 0.69662921, 0.74157303,\n",
              "       0.69662921, 0.71910112, 0.73033708, 0.70786517, 0.73033708])"
            ]
          },
          "metadata": {},
          "execution_count": 50
        }
      ]
    },
    {
      "cell_type": "code",
      "source": [
        "np.mean(skcv_result)"
      ],
      "metadata": {
        "id": "pPNsX20RdJlD",
        "outputId": "526c2992-492c-462e-fd48-3452844fdb1b",
        "colab": {
          "base_uri": "https://localhost:8080/"
        }
      },
      "execution_count": 51,
      "outputs": [
        {
          "output_type": "execute_result",
          "data": {
            "text/plain": [
              "0.7015355805243446"
            ]
          },
          "metadata": {},
          "execution_count": 51
        }
      ]
    },
    {
      "cell_type": "code",
      "source": [],
      "metadata": {
        "id": "wnk9w9dKdLzK"
      },
      "execution_count": 51,
      "outputs": []
    }
  ]
}